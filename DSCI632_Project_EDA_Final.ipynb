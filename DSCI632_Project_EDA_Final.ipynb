{
  "nbformat": 4,
  "nbformat_minor": 0,
  "metadata": {
    "colab": {
      "provenance": [],
      "collapsed_sections": [
        "RGhZVlxIW3gh",
        "NMBh_e7mLthz"
      ]
    },
    "kernelspec": {
      "name": "python3",
      "display_name": "Python 3"
    },
    "language_info": {
      "name": "python"
    }
  },
  "cells": [
    {
      "cell_type": "markdown",
      "source": [
        "# Cybersecurity Incident Prediction EDA for DSCI632 Project\n",
        "\n",
        "David Blankenship: dwb65@drexel.edu\n",
        "\n",
        "EDA Analysis Notebook for project. This was done in Google Colab If viewing in GitHub the .show() outputs will be off due to differences with how Google Colab and GitHub display it."
      ],
      "metadata": {
        "id": "v-fb5HQJW1Jt"
      }
    },
    {
      "cell_type": "code",
      "execution_count": null,
      "metadata": {
        "id": "ci-Y1SkBW_68",
        "colab": {
          "base_uri": "https://localhost:8080/"
        },
        "outputId": "f9e991ec-6543-49b4-9a89-ee15c6e1107c"
      },
      "outputs": [
        {
          "output_type": "stream",
          "name": "stdout",
          "text": [
            "Mounted at /content/gdrive\n"
          ]
        }
      ],
      "source": [
        "from google.colab import drive\n",
        "drive.mount('/content/gdrive')\n",
        "\n",
        "from pyspark.sql.functions import col, mean, min, max, count\n",
        "import matplotlib.pyplot as plt\n",
        "\n",
        "from pyspark.sql import SparkSession\n",
        "\n",
        "spark = SparkSession.builder.appName('SparkByExamples.com').getOrCreate()"
      ]
    },
    {
      "cell_type": "code",
      "source": [
        "df = spark.read.csv('/content/gdrive/MyDrive/GUIDE_Train.csv', header=True, inferSchema = True)\n",
        "df.show(5)"
      ],
      "metadata": {
        "id": "ubNnaGDjYRNE",
        "colab": {
          "base_uri": "https://localhost:8080/"
        },
        "outputId": "d21680b2-76f9-457f-e7a7-675daca7c968"
      },
      "execution_count": null,
      "outputs": [
        {
          "output_type": "stream",
          "name": "stdout",
          "text": [
            "+-------------+-----+----------+-------+-------------------+----------+----------+-----------------+---------------+--------------+-------------+--------------+----------+------------+--------+------+---------+------+----------+----------+---------------+-----------+----------+----------------+--------------+-----------+-----------------+-----------------+-------------+---------------+------------------+------------+--------+----------+--------------+------------+-----+--------+---------+-----------------+--------------+-----------+-----------+-----+-----+\n",
            "|           Id|OrgId|IncidentId|AlertId|          Timestamp|DetectorId|AlertTitle|         Category|MitreTechniques| IncidentGrade|ActionGrouped|ActionGranular|EntityType|EvidenceRole|DeviceId|Sha256|IpAddress|   Url|AccountSid|AccountUpn|AccountObjectId|AccountName|DeviceName|NetworkMessageId|EmailClusterId|RegistryKey|RegistryValueName|RegistryValueData|ApplicationId|ApplicationName|OAuthApplicationId|ThreatFamily|FileName|FolderPath|ResourceIdName|ResourceType|Roles|OSFamily|OSVersion|AntispamDirection|SuspicionLevel|LastVerdict|CountryCode|State| City|\n",
            "+-------------+-----+----------+-------+-------------------+----------+----------+-----------------+---------------+--------------+-------------+--------------+----------+------------+--------+------+---------+------+----------+----------+---------------+-----------+----------+----------------+--------------+-----------+-----------------+-----------------+-------------+---------------+------------------+------------+--------+----------+--------------+------------+-----+--------+---------+-----------------+--------------+-----------+-----------+-----+-----+\n",
            "| 180388628218|    0|       612| 123247|2024-06-04 06:05:15|         7|         6|    InitialAccess|           NULL|  TruePositive|         NULL|          NULL|        Ip|     Related|   98799|138268|       27|160396|    441377|    673934|         425863|     453297|    153085|          529644|          NULL|       1631|              635|              860|         2251|           3421|               881|        NULL|  289573|    117668|          3586|        NULL| NULL|       5|       66|             NULL|          NULL|       NULL|         31|    6|    3|\n",
            "| 455266534868|   88|       326| 210035|2024-06-14 03:01:25|        58|        43|     Exfiltration|           NULL| FalsePositive|         NULL|          NULL|      User|    Impacted|   98799|138268|   360606|160396|     22406|     23032|          22795|      24887|    153085|          529644|          NULL|       1631|              635|              860|         2251|           3421|               881|        NULL|  289573|    117668|          3586|        NULL| NULL|       5|       66|             NULL|          NULL|       NULL|        242| 1445|10630|\n",
            "|1056561957389|  809|     58352| 712507|2024-06-13 04:52:55|       423|       298|    InitialAccess|          T1189| FalsePositive|         NULL|          NULL|       Url|     Related|   98799|138268|   360606| 68652|    441377|    673934|         425863|     453297|    153085|          529644|          NULL|       1631|              635|              860|         2251|           3421|               881|        NULL|  289573|    117668|          3586|        NULL| NULL|       5|       66|             NULL|    Suspicious| Suspicious|        242| 1445|10630|\n",
            "|1279900258736|   92|     32992| 774301|2024-06-10 16:39:36|         2|         2|CommandAndControl|           NULL|BenignPositive|         NULL|          NULL|       Url|     Related|   98799|138268|   360606|    13|    441377|    673934|         425863|     453297|    153085|          529644|          NULL|       1631|              635|              860|         2251|           3421|               881|        NULL|  289573|    117668|          3586|        NULL| NULL|       5|       66|             NULL|    Suspicious| Suspicious|        242| 1445|10630|\n",
            "| 214748368522|  148|      4359| 188041|2024-06-15 01:08:07|         9|        74|        Execution|           NULL|  TruePositive|         NULL|          NULL|      User|    Impacted|   98799|138268|   360606|160396|       449|       592|            440|        479|    153085|          529644|          NULL|       1631|              635|              860|         2251|           3421|               881|        NULL|  289573|    117668|          3586|        NULL| NULL|       5|       66|             NULL|          NULL|       NULL|        242| 1445|10630|\n",
            "+-------------+-----+----------+-------+-------------------+----------+----------+-----------------+---------------+--------------+-------------+--------------+----------+------------+--------+------+---------+------+----------+----------+---------------+-----------+----------+----------------+--------------+-----------+-----------------+-----------------+-------------+---------------+------------------+------------+--------+----------+--------------+------------+-----+--------+---------+-----------------+--------------+-----------+-----------+-----+-----+\n",
            "only showing top 5 rows\n",
            "\n"
          ]
        }
      ]
    },
    {
      "cell_type": "markdown",
      "source": [
        "## Initial Inspection/Preprocessing"
      ],
      "metadata": {
        "id": "RGhZVlxIW3gh"
      }
    },
    {
      "cell_type": "code",
      "source": [
        "print('Data Shape: ', (df.count(), len(df.columns)))"
      ],
      "metadata": {
        "colab": {
          "base_uri": "https://localhost:8080/"
        },
        "id": "Rp9GPL4ZxIe2",
        "outputId": "f3936410-83b8-4bf5-c71c-09b2b1e9057b"
      },
      "execution_count": null,
      "outputs": [
        {
          "output_type": "stream",
          "name": "stdout",
          "text": [
            "Data Shape:  (9516837, 45)\n"
          ]
        }
      ]
    },
    {
      "cell_type": "code",
      "source": [
        "df.printSchema()"
      ],
      "metadata": {
        "colab": {
          "base_uri": "https://localhost:8080/"
        },
        "id": "cHsArVTTsUSu",
        "outputId": "b1bb7e35-5b46-471d-e79e-dede48cfd607"
      },
      "execution_count": null,
      "outputs": [
        {
          "output_type": "stream",
          "name": "stdout",
          "text": [
            "root\n",
            " |-- Id: long (nullable = true)\n",
            " |-- OrgId: integer (nullable = true)\n",
            " |-- IncidentId: integer (nullable = true)\n",
            " |-- AlertId: integer (nullable = true)\n",
            " |-- Timestamp: timestamp (nullable = true)\n",
            " |-- DetectorId: integer (nullable = true)\n",
            " |-- AlertTitle: integer (nullable = true)\n",
            " |-- Category: string (nullable = true)\n",
            " |-- MitreTechniques: string (nullable = true)\n",
            " |-- IncidentGrade: string (nullable = true)\n",
            " |-- ActionGrouped: string (nullable = true)\n",
            " |-- ActionGranular: string (nullable = true)\n",
            " |-- EntityType: string (nullable = true)\n",
            " |-- EvidenceRole: string (nullable = true)\n",
            " |-- DeviceId: integer (nullable = true)\n",
            " |-- Sha256: integer (nullable = true)\n",
            " |-- IpAddress: integer (nullable = true)\n",
            " |-- Url: integer (nullable = true)\n",
            " |-- AccountSid: integer (nullable = true)\n",
            " |-- AccountUpn: integer (nullable = true)\n",
            " |-- AccountObjectId: integer (nullable = true)\n",
            " |-- AccountName: integer (nullable = true)\n",
            " |-- DeviceName: integer (nullable = true)\n",
            " |-- NetworkMessageId: integer (nullable = true)\n",
            " |-- EmailClusterId: double (nullable = true)\n",
            " |-- RegistryKey: integer (nullable = true)\n",
            " |-- RegistryValueName: integer (nullable = true)\n",
            " |-- RegistryValueData: integer (nullable = true)\n",
            " |-- ApplicationId: integer (nullable = true)\n",
            " |-- ApplicationName: integer (nullable = true)\n",
            " |-- OAuthApplicationId: integer (nullable = true)\n",
            " |-- ThreatFamily: string (nullable = true)\n",
            " |-- FileName: integer (nullable = true)\n",
            " |-- FolderPath: integer (nullable = true)\n",
            " |-- ResourceIdName: integer (nullable = true)\n",
            " |-- ResourceType: string (nullable = true)\n",
            " |-- Roles: string (nullable = true)\n",
            " |-- OSFamily: integer (nullable = true)\n",
            " |-- OSVersion: integer (nullable = true)\n",
            " |-- AntispamDirection: string (nullable = true)\n",
            " |-- SuspicionLevel: string (nullable = true)\n",
            " |-- LastVerdict: string (nullable = true)\n",
            " |-- CountryCode: integer (nullable = true)\n",
            " |-- State: integer (nullable = true)\n",
            " |-- City: integer (nullable = true)\n",
            "\n"
          ]
        }
      ]
    },
    {
      "cell_type": "code",
      "source": [
        "df.groupBy('IncidentGrade').count().show()"
      ],
      "metadata": {
        "colab": {
          "base_uri": "https://localhost:8080/"
        },
        "id": "mbe46HSQw9kq",
        "outputId": "6c721ad7-9940-4a0a-ad4c-4ac9c588e89a"
      },
      "execution_count": null,
      "outputs": [
        {
          "output_type": "stream",
          "name": "stdout",
          "text": [
            "+--------------+-------+\n",
            "| IncidentGrade|  count|\n",
            "+--------------+-------+\n",
            "|          NULL|  51340|\n",
            "|BenignPositive|4110817|\n",
            "| FalsePositive|2031967|\n",
            "|  TruePositive|3322713|\n",
            "+--------------+-------+\n",
            "\n"
          ]
        }
      ]
    },
    {
      "cell_type": "code",
      "source": [
        "51340/9516837 * 100"
      ],
      "metadata": {
        "colab": {
          "base_uri": "https://localhost:8080/"
        },
        "id": "xiMgXSf_x1nL",
        "outputId": "393eefba-57f0-45b3-8d18-8d6f00aaece4"
      },
      "execution_count": null,
      "outputs": [
        {
          "output_type": "execute_result",
          "data": {
            "text/plain": [
              "0.539464950382149"
            ]
          },
          "metadata": {},
          "execution_count": 17
        }
      ]
    },
    {
      "cell_type": "code",
      "source": [
        "4110817/(4110817+2031967+3322713) * 100"
      ],
      "metadata": {
        "colab": {
          "base_uri": "https://localhost:8080/"
        },
        "id": "7jzpTYuior0B",
        "outputId": "29f46e0e-a6a5-4536-d683-bec92ed60d1c"
      },
      "execution_count": 1,
      "outputs": [
        {
          "output_type": "execute_result",
          "data": {
            "text/plain": [
              "43.42948922808807"
            ]
          },
          "metadata": {},
          "execution_count": 1
        }
      ]
    },
    {
      "cell_type": "code",
      "source": [
        "2031967/(4110817+2031967+3322713) * 100"
      ],
      "metadata": {
        "colab": {
          "base_uri": "https://localhost:8080/"
        },
        "id": "nsd4d_YFoz_G",
        "outputId": "1db1be67-8222-4cc9-a428-c141cb6b237a"
      },
      "execution_count": 2,
      "outputs": [
        {
          "output_type": "execute_result",
          "data": {
            "text/plain": [
              "21.467092536186954"
            ]
          },
          "metadata": {},
          "execution_count": 2
        }
      ]
    },
    {
      "cell_type": "code",
      "source": [
        "3322713/(4110817+2031967+3322713) * 100"
      ],
      "metadata": {
        "colab": {
          "base_uri": "https://localhost:8080/"
        },
        "id": "8LuBSQ6noz41",
        "outputId": "edb60e18-436c-4301-a564-671cd0fd4563"
      },
      "execution_count": 3,
      "outputs": [
        {
          "output_type": "execute_result",
          "data": {
            "text/plain": [
              "35.10341823572497"
            ]
          },
          "metadata": {},
          "execution_count": 3
        }
      ]
    },
    {
      "cell_type": "markdown",
      "source": [
        "We see that the nulls in the target is 0.5% of the overall dataset. As the dataset is already enormous I will probably just be dropping these. We also note that the targets are imbalanced necessitating an evaluation regime that accounts for this."
      ],
      "metadata": {
        "id": "HTKguoCTyLIe"
      }
    },
    {
      "cell_type": "markdown",
      "source": [
        "### Missing Data Inspection"
      ],
      "metadata": {
        "id": "6KBsNH-nXqiK"
      }
    },
    {
      "cell_type": "code",
      "source": [
        "from pyspark.sql.functions import col, sum\n",
        "\n",
        "null_counts = df.select([sum(col(c).isNull().cast(\"int\")).alias(c) for c in df.columns])\n",
        "null_counts.show()"
      ],
      "metadata": {
        "colab": {
          "base_uri": "https://localhost:8080/"
        },
        "id": "A31oVMiy3Hgn",
        "outputId": "918275e7-9abb-4c04-dc8c-cc54c906af71"
      },
      "execution_count": null,
      "outputs": [
        {
          "output_type": "stream",
          "name": "stdout",
          "text": [
            "+---+-----+----------+-------+---------+----------+----------+--------+---------------+-------------+-------------+--------------+----------+------------+--------+------+---------+---+----------+----------+---------------+-----------+----------+----------------+--------------+-----------+-----------------+-----------------+-------------+---------------+------------------+------------+--------+----------+--------------+------------+-------+--------+---------+-----------------+--------------+-----------+-----------+-----+----+\n",
            "| Id|OrgId|IncidentId|AlertId|Timestamp|DetectorId|AlertTitle|Category|MitreTechniques|IncidentGrade|ActionGrouped|ActionGranular|EntityType|EvidenceRole|DeviceId|Sha256|IpAddress|Url|AccountSid|AccountUpn|AccountObjectId|AccountName|DeviceName|NetworkMessageId|EmailClusterId|RegistryKey|RegistryValueName|RegistryValueData|ApplicationId|ApplicationName|OAuthApplicationId|ThreatFamily|FileName|FolderPath|ResourceIdName|ResourceType|  Roles|OSFamily|OSVersion|AntispamDirection|SuspicionLevel|LastVerdict|CountryCode|State|City|\n",
            "+---+-----+----------+-------+---------+----------+----------+--------+---------------+-------------+-------------+--------------+----------+------------+--------+------+---------+---+----------+----------+---------------+-----------+----------+----------------+--------------+-----------+-----------------+-----------------+-------------+---------------+------------------+------------+--------+----------+--------------+------------+-------+--------+---------+-----------------+--------------+-----------+-----------+-----+----+\n",
            "|  0|    0|         0|      0|        0|         0|         0|       0|        5468386|        51340|      9460773|       9460773|         0|           0|       0|     0|        0|  0|         0|         0|              0|          0|         0|               0|       9420025|          0|                0|                0|            0|              0|                 0|     9441956|       0|         0|             0|     9509762|9298686|       0|        0|          9339535|       8072708|    7282572|          0|    0|   0|\n",
            "+---+-----+----------+-------+---------+----------+----------+--------+---------------+-------------+-------------+--------------+----------+------------+--------+------+---------+---+----------+----------+---------------+-----------+----------+----------------+--------------+-----------+-----------------+-----------------+-------------+---------------+------------------+------------+--------+----------+--------------+------------+-------+--------+---------+-----------------+--------------+-----------+-----------+-----+----+\n",
            "\n"
          ]
        }
      ]
    },
    {
      "cell_type": "markdown",
      "source": [
        "MitreTechniques, ActionGrouped, ActionGranular, EmailClusterId, ThreatFamily, ResourceType, Roles, AntispamDirection, SuspicionLevel, and LastVerdict lack enough data that I will be dropping these columns. I will look at MitreTechniques first.\n",
        "\n",
        "Otherwise the dataset is mostly good aside from the target nulls we saw earlier."
      ],
      "metadata": {
        "id": "bVrLkNRx4mlJ"
      }
    },
    {
      "cell_type": "code",
      "source": [
        "missing_cols = ['MitreTechniques', 'ActionGrouped', 'ActionGranular', 'EmailClusterId', 'ThreatFamily', 'ResourceType', 'Roles', 'AntispamDirection', 'SuspicionLevel', 'LastVerdict', 'IncidentGrade']\n",
        "\n",
        "for c in missing_cols:\n",
        "  print(c, \": \", df.filter(df[c].isNull()).count())"
      ],
      "metadata": {
        "colab": {
          "base_uri": "https://localhost:8080/"
        },
        "id": "il9Z2INij-om",
        "outputId": "4cb72de2-8e20-43d6-fce7-c1b3629f98e0"
      },
      "execution_count": null,
      "outputs": [
        {
          "output_type": "stream",
          "name": "stdout",
          "text": [
            "MitreTechniques :  5468386\n",
            "ActionGrouped :  9460773\n",
            "ActionGranular :  9460773\n",
            "EmailClusterId :  9420025\n",
            "ThreatFamily :  9441956\n",
            "ResourceType :  9509762\n",
            "Roles :  9298686\n",
            "AntispamDirection :  9339535\n",
            "SuspicionLevel :  8072708\n",
            "LastVerdict :  7282572\n",
            "IncidentGrade :  51340\n"
          ]
        }
      ]
    },
    {
      "cell_type": "code",
      "source": [
        "for c in missing_cols:\n",
        "  print(c, \" Missing Percent: \", (df.filter(df[c].isNull()).count()/df.count()) * 100)"
      ],
      "metadata": {
        "colab": {
          "base_uri": "https://localhost:8080/"
        },
        "id": "kUr7hNKHlekP",
        "outputId": "3be808ff-b280-47ac-9a8e-21bd5cce789f"
      },
      "execution_count": null,
      "outputs": [
        {
          "output_type": "stream",
          "name": "stdout",
          "text": [
            "MitreTechniques  Missing Percent:  57.4601204160584\n",
            "ActionGrouped  Missing Percent:  99.41089670864385\n",
            "ActionGranular  Missing Percent:  99.41089670864385\n",
            "EmailClusterId  Missing Percent:  98.98272924081814\n",
            "ThreatFamily  Missing Percent:  99.21317345248217\n",
            "ResourceType  Missing Percent:  99.92565807316024\n",
            "Roles  Missing Percent:  97.7077362993608\n",
            "AntispamDirection  Missing Percent:  98.1369650441633\n",
            "SuspicionLevel  Missing Percent:  84.8255360473233\n",
            "LastVerdict  Missing Percent:  76.52302965785796\n",
            "IncidentGrade  Missing Percent:  0.539464950382149\n"
          ]
        }
      ]
    },
    {
      "cell_type": "code",
      "source": [
        "df.groupBy('MitreTechniques').count().orderBy('count', ascending=False).show()"
      ],
      "metadata": {
        "colab": {
          "base_uri": "https://localhost:8080/"
        },
        "id": "WhMb6gkT3xX4",
        "outputId": "0ecb3495-92d0-405f-e07d-4de05b126946"
      },
      "execution_count": null,
      "outputs": [
        {
          "output_type": "stream",
          "name": "stdout",
          "text": [
            "+--------------------+-------+\n",
            "|     MitreTechniques|  count|\n",
            "+--------------------+-------+\n",
            "|                NULL|5468386|\n",
            "|     T1078;T1078.004|1354904|\n",
            "|           T1566.002| 814308|\n",
            "|               T1566| 659591|\n",
            "|               T1133| 145579|\n",
            "|           T1566.001| 136892|\n",
            "|T1110;T1110.003;T...|  88661|\n",
            "|     T1087;T1087.002|  54564|\n",
            "|               T1110|  41768|\n",
            "|         T1078;T1098|  40342|\n",
            "|T1559;T1106;T1059...|  37869|\n",
            "|   T1046;T1071;T1210|  34229|\n",
            "|         T1568;T1008|  33335|\n",
            "|         T1110;T1078|  31570|\n",
            "|         T1190;T1133|  31379|\n",
            "|T1046;T1030;T1071...|  28769|\n",
            "|               T1078|  27371|\n",
            "|T1003;T1012;T1552...|  22170|\n",
            "|               T1190|  20214|\n",
            "|         T1071;T1048|  19526|\n",
            "+--------------------+-------+\n",
            "only showing top 20 rows\n",
            "\n"
          ]
        }
      ]
    },
    {
      "cell_type": "markdown",
      "source": [
        "MITRE Techniques are a categorization of the specific methods involved in the cybersecurity incident.\n",
        "\n",
        "https://attack.mitre.org/techniques/T1078/\n",
        "\n",
        "The most common non-null value is a T1078 incident, which is an incident involving valid accounts. T1078.004 in particular is a cloud account which I find hilariously relevant to this class.\n",
        "\n",
        "While valuable information the high volume of missing data likely means it has to be dropped. I am extremely torn on this though and suspect it would be best for future work. I will return to this and do some analysis on this column\n",
        "\n"
      ],
      "metadata": {
        "id": "Nbz1e8-L7CH3"
      }
    },
    {
      "cell_type": "code",
      "source": [
        "df.dtypes"
      ],
      "metadata": {
        "colab": {
          "base_uri": "https://localhost:8080/"
        },
        "id": "sCLcBegSe2xp",
        "outputId": "d652e55a-1a23-410c-dfe2-6690c0bd837a"
      },
      "execution_count": null,
      "outputs": [
        {
          "output_type": "execute_result",
          "data": {
            "text/plain": [
              "[('Id', 'bigint'),\n",
              " ('OrgId', 'int'),\n",
              " ('IncidentId', 'int'),\n",
              " ('AlertId', 'int'),\n",
              " ('Timestamp', 'timestamp'),\n",
              " ('DetectorId', 'int'),\n",
              " ('AlertTitle', 'int'),\n",
              " ('Category', 'string'),\n",
              " ('MitreTechniques', 'string'),\n",
              " ('IncidentGrade', 'string'),\n",
              " ('ActionGrouped', 'string'),\n",
              " ('ActionGranular', 'string'),\n",
              " ('EntityType', 'string'),\n",
              " ('EvidenceRole', 'string'),\n",
              " ('DeviceId', 'int'),\n",
              " ('Sha256', 'int'),\n",
              " ('IpAddress', 'int'),\n",
              " ('Url', 'int'),\n",
              " ('AccountSid', 'int'),\n",
              " ('AccountUpn', 'int'),\n",
              " ('AccountObjectId', 'int'),\n",
              " ('AccountName', 'int'),\n",
              " ('DeviceName', 'int'),\n",
              " ('NetworkMessageId', 'int'),\n",
              " ('EmailClusterId', 'double'),\n",
              " ('RegistryKey', 'int'),\n",
              " ('RegistryValueName', 'int'),\n",
              " ('RegistryValueData', 'int'),\n",
              " ('ApplicationId', 'int'),\n",
              " ('ApplicationName', 'int'),\n",
              " ('OAuthApplicationId', 'int'),\n",
              " ('ThreatFamily', 'string'),\n",
              " ('FileName', 'int'),\n",
              " ('FolderPath', 'int'),\n",
              " ('ResourceIdName', 'int'),\n",
              " ('ResourceType', 'string'),\n",
              " ('Roles', 'string'),\n",
              " ('OSFamily', 'int'),\n",
              " ('OSVersion', 'int'),\n",
              " ('AntispamDirection', 'string'),\n",
              " ('SuspicionLevel', 'string'),\n",
              " ('LastVerdict', 'string'),\n",
              " ('CountryCode', 'int'),\n",
              " ('State', 'int'),\n",
              " ('City', 'int')]"
            ]
          },
          "metadata": {},
          "execution_count": 4
        }
      ]
    },
    {
      "cell_type": "markdown",
      "source": [
        "\n",
        " 'Category', 'MitreTechniques', 'IncidentGrade', 'ActionGrouped',\n",
        " 'ActionGranular', 'EntityType', 'EvidenceRole', 'ThreatFamily',\n",
        " 'ResourceType', 'Roles', 'AntispamDirection', 'SuspicionLevel',\n",
        " 'LastVerdict'\n",
        "\n",
        "Now while these are the strings it seems like a lot of these even nominally int values are actually categoricals. Need to look into this."
      ],
      "metadata": {
        "id": "gfrNqkxhhAQJ"
      }
    },
    {
      "cell_type": "code",
      "source": [
        "for f in df.columns:\n",
        "  value = df.select(f).distinct().count()\n",
        "  print(f, \": \", str(value), \" unique values\")"
      ],
      "metadata": {
        "id": "vC_2EfzL6j_V",
        "colab": {
          "base_uri": "https://localhost:8080/"
        },
        "outputId": "213d39c6-810b-45f2-c9f6-20871d7d7aaf"
      },
      "execution_count": null,
      "outputs": [
        {
          "output_type": "stream",
          "name": "stdout",
          "text": [
            "Id :  730778  unique values\n",
            "OrgId :  5769  unique values\n",
            "IncidentId :  466151  unique values\n",
            "AlertId :  1265644  unique values\n",
            "Timestamp :  760944  unique values\n",
            "DetectorId :  8428  unique values\n",
            "AlertTitle :  86149  unique values\n",
            "Category :  20  unique values\n",
            "MitreTechniques :  1194  unique values\n",
            "IncidentGrade :  4  unique values\n",
            "ActionGrouped :  4  unique values\n",
            "ActionGranular :  17  unique values\n",
            "EntityType :  33  unique values\n",
            "EvidenceRole :  2  unique values\n",
            "DeviceId :  75826  unique values\n",
            "Sha256 :  106416  unique values\n",
            "IpAddress :  285957  unique values\n",
            "Url :  123252  unique values\n",
            "AccountSid :  358401  unique values\n",
            "AccountUpn :  530183  unique values\n",
            "AccountObjectId :  343516  unique values\n",
            "AccountName :  368250  unique values\n",
            "DeviceName :  114541  unique values\n",
            "NetworkMessageId :  375196  unique values\n",
            "EmailClusterId :  26475  unique values\n",
            "RegistryKey :  1341  unique values\n",
            "RegistryValueName :  525  unique values\n",
            "RegistryValueData :  699  unique values\n",
            "ApplicationId :  1728  unique values\n",
            "ApplicationName :  2681  unique values\n",
            "OAuthApplicationId :  703  unique values\n",
            "ThreatFamily :  1746  unique values\n",
            "FileName :  222085  unique values\n",
            "FolderPath :  87832  unique values\n",
            "ResourceIdName :  2309  unique values\n",
            "ResourceType :  26  unique values\n",
            "Roles :  11  unique values\n",
            "OSFamily :  6  unique values\n",
            "OSVersion :  58  unique values\n",
            "AntispamDirection :  6  unique values\n",
            "SuspicionLevel :  3  unique values\n",
            "LastVerdict :  6  unique values\n",
            "CountryCode :  236  unique values\n",
            "State :  1368  unique values\n",
            "City :  9342  unique values\n"
          ]
        }
      ]
    },
    {
      "cell_type": "markdown",
      "source": [
        "## Test Set Inspection\n",
        "Looking at basic features of test set to ensure no issues and verify any need for further data cleaning.\n"
      ],
      "metadata": {
        "id": "NMBh_e7mLthz"
      }
    },
    {
      "cell_type": "code",
      "source": [
        "df_test = spark.read.csv('/content/gdrive/MyDrive/GUIDE_Test.csv', header=True, inferSchema = True)\n",
        "df_test.show(5)"
      ],
      "metadata": {
        "colab": {
          "base_uri": "https://localhost:8080/"
        },
        "id": "V-ZSoOgoLxP_",
        "outputId": "fb6813a4-c777-428c-d6f3-96f023ea5f2e"
      },
      "execution_count": null,
      "outputs": [
        {
          "output_type": "stream",
          "name": "stdout",
          "text": [
            "+-------------+-----+----------+-------+-------------------+----------+----------+-----------------+--------------------+--------------+-------------+--------------+-----------------+------------+--------+------+---------+------+----------+----------+---------------+-----------+----------+----------------+--------------+-----------+-----------------+-----------------+-------------+---------------+------------------+------------+--------+----------+--------------+------------+----------+--------+---------+-----------------+--------------+-----------+-----------+-----+-----+-------+\n",
            "|           Id|OrgId|IncidentId|AlertId|          Timestamp|DetectorId|AlertTitle|         Category|     MitreTechniques| IncidentGrade|ActionGrouped|ActionGranular|       EntityType|EvidenceRole|DeviceId|Sha256|IpAddress|   Url|AccountSid|AccountUpn|AccountObjectId|AccountName|DeviceName|NetworkMessageId|EmailClusterId|RegistryKey|RegistryValueName|RegistryValueData|ApplicationId|ApplicationName|OAuthApplicationId|ThreatFamily|FileName|FolderPath|ResourceIdName|ResourceType|     Roles|OSFamily|OSVersion|AntispamDirection|SuspicionLevel|LastVerdict|CountryCode|State| City|  Usage|\n",
            "+-------------+-----+----------+-------+-------------------+----------+----------+-----------------+--------------------+--------------+-------------+--------------+-----------------+------------+--------+------+---------+------+----------+----------+---------------+-----------+----------+----------------+--------------+-----------+-----------------+-----------------+-------------+---------------+------------------+------------+--------+----------+--------------+------------+----------+--------+---------+-----------------+--------------+-----------+-----------+-----+-----+-------+\n",
            "|1245540519230|  657|     11767|  87199|2024-06-04 22:56:27|       524|       563|  LateralMovement|T1021;T1047;T1105...|BenignPositive|         NULL|          NULL|             User|    Impacted|   98799|138268|   360606|160396|      2610|      3699|         425863|        863|    153085|          529644|          NULL|       1631|              635|              860|         2251|           3421|               881|        NULL|  289573|    117668|          3586|        NULL|      NULL|       5|       66|             NULL|    Suspicious| Suspicious|        242| 1445|10630|Private|\n",
            "|1400159342154|    3|     91158| 632273|2024-06-03 12:58:26|         2|         2|CommandAndControl|                NULL|BenignPositive|         NULL|          NULL|          Machine|    Impacted|    1239|138268|   360606|160396|    441377|    673934|         425863|     453297|      2833|          529644|          NULL|       1631|              635|              860|         2251|           3421|               881|        NULL|  289573|    117668|          3586|        NULL|      NULL|       0|        0|             NULL|    Suspicious| Suspicious|        242| 1445|10630| Public|\n",
            "|1279900255923|  145|     32247| 131719|2024-06-08 03:20:49|      2932|     10807|  LateralMovement|T1021;T1027.002;T...|BenignPositive|         NULL|          NULL|          Process|     Related|   98799|  4296|   360606|160396|    441377|    673934|         425863|     453297|    153085|          529644|          NULL|       1631|              635|              860|         2251|           3421|               881|        NULL|      14|        22|          3586|        NULL|      NULL|       5|       66|             NULL|    Suspicious| Suspicious|        242| 1445|10630| Public|\n",
            "|  60129547292|  222|     15294| 917686|2024-06-12 12:07:31|         0|         0|    InitialAccess|     T1078;T1078.004| FalsePositive|         NULL|          NULL|CloudLogonSession|     Related|   98799|138268|   360606|160396|    441377|    673934|         425863|     453297|    153085|          529644|          NULL|       1631|              635|              860|         2251|           3421|               881|        NULL|  289573|    117668|          3586|        NULL|      NULL|       5|       66|             NULL|          NULL|       NULL|        242| 1445|10630| Public|\n",
            "| 515396080539|  363|      7615|   5944|2024-06-06 17:42:05|        27|        18|        Discovery|     T1087;T1087.002|BenignPositive|         NULL|          NULL|             User|    Impacted|   98799|138268|   360606|160396|    133549|    673934|         425863|     136104|    153085|          529644|          NULL|       1631|              635|              860|         2251|           3421|               881|        NULL|  289573|    117668|          3586|        NULL|Suspicious|       5|       66|             NULL|          NULL|       NULL|        242| 1445|10630| Public|\n",
            "+-------------+-----+----------+-------+-------------------+----------+----------+-----------------+--------------------+--------------+-------------+--------------+-----------------+------------+--------+------+---------+------+----------+----------+---------------+-----------+----------+----------------+--------------+-----------+-----------------+-----------------+-------------+---------------+------------------+------------+--------+----------+--------------+------------+----------+--------+---------+-----------------+--------------+-----------+-----------+-----+-----+-------+\n",
            "only showing top 5 rows\n",
            "\n"
          ]
        }
      ]
    },
    {
      "cell_type": "code",
      "source": [
        "print('Data Shape: ', (df_test.count(), len(df_test.columns)))"
      ],
      "metadata": {
        "colab": {
          "base_uri": "https://localhost:8080/"
        },
        "id": "SbBzfRjFMRDt",
        "outputId": "3a084a8a-e482-4e5d-f4d8-6efb43358f81"
      },
      "execution_count": null,
      "outputs": [
        {
          "output_type": "stream",
          "name": "stdout",
          "text": [
            "Data Shape:  (4147992, 46)\n"
          ]
        }
      ]
    },
    {
      "cell_type": "code",
      "source": [
        "4147992/(9516837+4147992)"
      ],
      "metadata": {
        "colab": {
          "base_uri": "https://localhost:8080/"
        },
        "id": "eJVFG_otcsIi",
        "outputId": "67885d07-6683-4980-a6f5-14eec24e5ce5"
      },
      "execution_count": null,
      "outputs": [
        {
          "output_type": "execute_result",
          "data": {
            "text/plain": [
              "0.30355242645187874"
            ]
          },
          "metadata": {},
          "execution_count": 2
        }
      ]
    },
    {
      "cell_type": "markdown",
      "source": [
        "The split of the data is roughly 70:30 train:test as mentioned by the authors of the dataset."
      ],
      "metadata": {
        "id": "UQXNc4cTwga0"
      }
    },
    {
      "cell_type": "code",
      "source": [
        "df_test.printSchema()"
      ],
      "metadata": {
        "colab": {
          "base_uri": "https://localhost:8080/"
        },
        "id": "36LDkluHMWMo",
        "outputId": "79eaf966-d620-46d7-e30c-d64dd3d65395"
      },
      "execution_count": null,
      "outputs": [
        {
          "output_type": "stream",
          "name": "stdout",
          "text": [
            "root\n",
            " |-- Id: long (nullable = true)\n",
            " |-- OrgId: integer (nullable = true)\n",
            " |-- IncidentId: integer (nullable = true)\n",
            " |-- AlertId: integer (nullable = true)\n",
            " |-- Timestamp: timestamp (nullable = true)\n",
            " |-- DetectorId: integer (nullable = true)\n",
            " |-- AlertTitle: integer (nullable = true)\n",
            " |-- Category: string (nullable = true)\n",
            " |-- MitreTechniques: string (nullable = true)\n",
            " |-- IncidentGrade: string (nullable = true)\n",
            " |-- ActionGrouped: string (nullable = true)\n",
            " |-- ActionGranular: string (nullable = true)\n",
            " |-- EntityType: string (nullable = true)\n",
            " |-- EvidenceRole: string (nullable = true)\n",
            " |-- DeviceId: integer (nullable = true)\n",
            " |-- Sha256: integer (nullable = true)\n",
            " |-- IpAddress: integer (nullable = true)\n",
            " |-- Url: integer (nullable = true)\n",
            " |-- AccountSid: integer (nullable = true)\n",
            " |-- AccountUpn: integer (nullable = true)\n",
            " |-- AccountObjectId: integer (nullable = true)\n",
            " |-- AccountName: integer (nullable = true)\n",
            " |-- DeviceName: integer (nullable = true)\n",
            " |-- NetworkMessageId: integer (nullable = true)\n",
            " |-- EmailClusterId: double (nullable = true)\n",
            " |-- RegistryKey: integer (nullable = true)\n",
            " |-- RegistryValueName: integer (nullable = true)\n",
            " |-- RegistryValueData: integer (nullable = true)\n",
            " |-- ApplicationId: integer (nullable = true)\n",
            " |-- ApplicationName: integer (nullable = true)\n",
            " |-- OAuthApplicationId: integer (nullable = true)\n",
            " |-- ThreatFamily: string (nullable = true)\n",
            " |-- FileName: integer (nullable = true)\n",
            " |-- FolderPath: integer (nullable = true)\n",
            " |-- ResourceIdName: integer (nullable = true)\n",
            " |-- ResourceType: string (nullable = true)\n",
            " |-- Roles: string (nullable = true)\n",
            " |-- OSFamily: integer (nullable = true)\n",
            " |-- OSVersion: integer (nullable = true)\n",
            " |-- AntispamDirection: string (nullable = true)\n",
            " |-- SuspicionLevel: string (nullable = true)\n",
            " |-- LastVerdict: string (nullable = true)\n",
            " |-- CountryCode: integer (nullable = true)\n",
            " |-- State: integer (nullable = true)\n",
            " |-- City: integer (nullable = true)\n",
            " |-- Usage: string (nullable = true)\n",
            "\n"
          ]
        }
      ]
    },
    {
      "cell_type": "markdown",
      "source": [
        "The Usage column is unique to the test set and not relevant to our problem. I will simply be dropping this column."
      ],
      "metadata": {
        "id": "YdyF0L5xMi0G"
      }
    },
    {
      "cell_type": "code",
      "source": [
        "from pyspark.sql.functions import col, sum\n",
        "\n",
        "null_counts = df_test.select([sum(col(c).isNull().cast(\"int\")).alias(c) for c in df_test.columns])\n",
        "null_counts.show()"
      ],
      "metadata": {
        "colab": {
          "base_uri": "https://localhost:8080/"
        },
        "id": "DI9L7njWMZIM",
        "outputId": "a377581d-46b6-4f75-cc26-90a779b35b9f"
      },
      "execution_count": null,
      "outputs": [
        {
          "output_type": "stream",
          "name": "stdout",
          "text": [
            "+---+-----+----------+-------+---------+----------+----------+--------+---------------+-------------+-------------+--------------+----------+------------+--------+------+---------+---+----------+----------+---------------+-----------+----------+----------------+--------------+-----------+-----------------+-----------------+-------------+---------------+------------------+------------+--------+----------+--------------+------------+-------+--------+---------+-----------------+--------------+-----------+-----------+-----+----+-----+\n",
            "| Id|OrgId|IncidentId|AlertId|Timestamp|DetectorId|AlertTitle|Category|MitreTechniques|IncidentGrade|ActionGrouped|ActionGranular|EntityType|EvidenceRole|DeviceId|Sha256|IpAddress|Url|AccountSid|AccountUpn|AccountObjectId|AccountName|DeviceName|NetworkMessageId|EmailClusterId|RegistryKey|RegistryValueName|RegistryValueData|ApplicationId|ApplicationName|OAuthApplicationId|ThreatFamily|FileName|FolderPath|ResourceIdName|ResourceType|  Roles|OSFamily|OSVersion|AntispamDirection|SuspicionLevel|LastVerdict|CountryCode|State|City|Usage|\n",
            "+---+-----+----------+-------+---------+----------+----------+--------+---------------+-------------+-------------+--------------+----------+------------+--------+------+---------+---+----------+----------+---------------+-----------+----------+----------------+--------------+-----------+-----------------+-----------------+-------------+---------------+------------------+------------+--------+----------+--------------+------------+-------+--------+---------+-----------------+--------------+-----------+-----------+-----+----+-----+\n",
            "|  0|    0|         0|      0|        0|         0|         0|       0|        2307104|            0|      4146079|       4146079|         0|           0|       0|     0|        0|  0|         0|         0|              0|          0|         0|               0|       4106285|          0|                0|                0|            0|              0|                 0|     4116614|       0|         0|             0|     4144998|4039317|       0|        0|          4071481|       3498157|    3155260|          0|    0|   0|    0|\n",
            "+---+-----+----------+-------+---------+----------+----------+--------+---------------+-------------+-------------+--------------+----------+------------+--------+------+---------+---+----------+----------+---------------+-----------+----------+----------------+--------------+-----------+-----------------+-----------------+-------------+---------------+------------------+------------+--------+----------+--------------+------------+-------+--------+---------+-----------------+--------------+-----------+-----------+-----+----+-----+\n",
            "\n"
          ]
        }
      ]
    },
    {
      "cell_type": "markdown",
      "source": [
        "MitreTechniques, ActionGrouped, ActionGranular, EmailClusterId, ThreatFamily, ResourceType, Roles, AntispamDirection, SuspicionLevel, and LastVerdict all have missing values. These are, very convieniently, the same columns as the train set so I will be dropping them."
      ],
      "metadata": {
        "id": "6yAd2AvRNBPz"
      }
    },
    {
      "cell_type": "markdown",
      "source": [
        "## Univariate Analyses"
      ],
      "metadata": {
        "id": "PQi_H3HqWtO7"
      }
    },
    {
      "cell_type": "markdown",
      "source": [
        "### Categoricals\n",
        "\n",
        "- Category\n",
        "- IncidentGrade\n",
        "- ActionGrouped\n",
        "- ActionGranular\n",
        "- EvidenceRole\n",
        "- ResourceType\n",
        "- Roles\n",
        "- OSFamily\n",
        "- AntispamDirection\n",
        "- SuspicionLevel\n",
        "- LastVerdict\n",
        "- EntityType\n",
        "- OSVersion"
      ],
      "metadata": {
        "id": "Arlf2vs_JV_T"
      }
    },
    {
      "cell_type": "code",
      "source": [
        "df.groupBy('Category').count().orderBy('count', ascending=False).show()"
      ],
      "metadata": {
        "id": "Oh2KSB3Si1EE",
        "colab": {
          "base_uri": "https://localhost:8080/"
        },
        "outputId": "344a6250-6fe5-4099-82e0-4c8cc495aeee"
      },
      "execution_count": null,
      "outputs": [
        {
          "output_type": "stream",
          "name": "stdout",
          "text": [
            "+-------------------+-------+\n",
            "|           Category|  count|\n",
            "+-------------------+-------+\n",
            "|      InitialAccess|4293041|\n",
            "|       Exfiltration|1577965|\n",
            "| SuspiciousActivity|1003933|\n",
            "|  CommandAndControl| 826691|\n",
            "|             Impact| 750885|\n",
            "|   CredentialAccess| 300518|\n",
            "|          Execution| 267594|\n",
            "|            Malware| 144081|\n",
            "|          Discovery| 129342|\n",
            "|        Persistence|  72682|\n",
            "|     DefenseEvasion|  46662|\n",
            "|    LateralMovement|  41754|\n",
            "|         Ransomware|  18974|\n",
            "|   UnwantedSoftware|  18211|\n",
            "|         Collection|  14753|\n",
            "|PrivilegeEscalation|   4671|\n",
            "|            Exploit|   4648|\n",
            "| CredentialStealing|    388|\n",
            "|         WebExploit|     38|\n",
            "|      Weaponization|      6|\n",
            "+-------------------+-------+\n",
            "\n"
          ]
        }
      ]
    },
    {
      "cell_type": "code",
      "source": [
        "df.groupBy('IncidentGrade').count().orderBy('count', ascending=False).show()"
      ],
      "metadata": {
        "colab": {
          "base_uri": "https://localhost:8080/"
        },
        "id": "Yc1b7jPvPjba",
        "outputId": "81d35587-e833-4c01-8fd2-b0412510b98f"
      },
      "execution_count": null,
      "outputs": [
        {
          "output_type": "stream",
          "name": "stdout",
          "text": [
            "+--------------+-------+\n",
            "| IncidentGrade|  count|\n",
            "+--------------+-------+\n",
            "|BenignPositive|4110817|\n",
            "|  TruePositive|3322713|\n",
            "| FalsePositive|2031967|\n",
            "|          NULL|  51340|\n",
            "+--------------+-------+\n",
            "\n"
          ]
        }
      ]
    },
    {
      "cell_type": "code",
      "source": [
        "df.groupBy('ActionGrouped').count().orderBy('count', ascending=False).show(truncate=False)"
      ],
      "metadata": {
        "colab": {
          "base_uri": "https://localhost:8080/"
        },
        "id": "LBJKbidiPtFy",
        "outputId": "c7785af4-f070-4e49-bab3-26f83977bc4e"
      },
      "execution_count": null,
      "outputs": [
        {
          "output_type": "stream",
          "name": "stdout",
          "text": [
            "+---------------------+-------+\n",
            "|ActionGrouped        |count  |\n",
            "+---------------------+-------+\n",
            "|NULL                 |9460773|\n",
            "|ContainAccount       |53760  |\n",
            "|IsolateDevice        |2237   |\n",
            "|Stop Virtual Machines|67     |\n",
            "+---------------------+-------+\n",
            "\n"
          ]
        }
      ]
    },
    {
      "cell_type": "code",
      "source": [
        "df.groupBy('ActionGranular').count().orderBy('count', ascending=False).show(truncate=False)"
      ],
      "metadata": {
        "colab": {
          "base_uri": "https://localhost:8080/"
        },
        "id": "Vgx4ptN4PxB2",
        "outputId": "fe1db51d-dd55-42fd-d6d5-88c2b72a889c"
      },
      "execution_count": null,
      "outputs": [
        {
          "output_type": "stream",
          "name": "stdout",
          "text": [
            "+------------------------------------------+-------+\n",
            "|ActionGranular                            |count  |\n",
            "+------------------------------------------+-------+\n",
            "|NULL                                      |9460773|\n",
            "|update stsrefreshtokenvalidfrom timestamp.|21393  |\n",
            "|account password changed                  |14059  |\n",
            "|change user password.                     |13623  |\n",
            "|isolateresponse                           |2043   |\n",
            "|account disabled                          |1991   |\n",
            "|disable account.                          |1143   |\n",
            "|reset user password.                      |886    |\n",
            "|forcepasswordresetremediation             |234    |\n",
            "|quarantinefile                            |194    |\n",
            "|msecidentitiesconfirmusercompromised      |146    |\n",
            "|disableuser                               |107    |\n",
            "|msecidentitiessuspenduser                 |81     |\n",
            "|delete virtualmachines                    |67     |\n",
            "|account deleted                           |55     |\n",
            "|delete user.                              |35     |\n",
            "|set force change user password.           |7      |\n",
            "+------------------------------------------+-------+\n",
            "\n"
          ]
        }
      ]
    },
    {
      "cell_type": "code",
      "source": [
        "df.groupBy('EvidenceRole').count().orderBy('count', ascending=False).show()"
      ],
      "metadata": {
        "colab": {
          "base_uri": "https://localhost:8080/"
        },
        "id": "ETAVugFuPzkn",
        "outputId": "a4d188f5-9eba-48a6-e45e-64c854d9b1f9"
      },
      "execution_count": null,
      "outputs": [
        {
          "output_type": "stream",
          "name": "stdout",
          "text": [
            "+------------+-------+\n",
            "|EvidenceRole|  count|\n",
            "+------------+-------+\n",
            "|     Related|5208644|\n",
            "|    Impacted|4308193|\n",
            "+------------+-------+\n",
            "\n"
          ]
        }
      ]
    },
    {
      "cell_type": "code",
      "source": [
        "df.groupBy('ResourceType').count().orderBy('count', ascending=False).show(26, truncate=False)"
      ],
      "metadata": {
        "colab": {
          "base_uri": "https://localhost:8080/"
        },
        "id": "B2-fVXVTP-dC",
        "outputId": "107b5603-16b6-45db-ffb2-15347b76efe6"
      },
      "execution_count": null,
      "outputs": [
        {
          "output_type": "stream",
          "name": "stdout",
          "text": [
            "+------------------------------------+-------+\n",
            "|ResourceType                        |count  |\n",
            "+------------------------------------+-------+\n",
            "|NULL                                |9509762|\n",
            "|Virtual Machine                     |4146   |\n",
            "|Key Vault                           |480    |\n",
            "|App Service                         |404    |\n",
            "|Azure Arc machine                   |373    |\n",
            "|Storage Account                     |366    |\n",
            "|Subscription                        |271    |\n",
            "|SQL Database                        |226    |\n",
            "|Azure Database for MySQL Server     |182    |\n",
            "|Azure Resource                      |157    |\n",
            "|Virtual Machine Scale Set           |112    |\n",
            "|API Management Service              |94     |\n",
            "|Key Vault Secret                    |77     |\n",
            "|Azure Database for PostgreSQL Server|45     |\n",
            "|SQL Server                          |41     |\n",
            "|Azure Cosmos DB Account             |30     |\n",
            "|Networking                          |14     |\n",
            "|Synapse SQL Pool                    |11     |\n",
            "|GCP Compute Instance                |10     |\n",
            "|Kubernetes Service                  |9      |\n",
            "|SQL Managed Instance                |9      |\n",
            "|Key Vault Certificate               |7      |\n",
            "|AWS EC2 Instance                    |6      |\n",
            "|Key Vault Key                       |2      |\n",
            "|Synapse Workspace                   |2      |\n",
            "|Cognitive Service                   |1      |\n",
            "+------------------------------------+-------+\n",
            "\n"
          ]
        }
      ]
    },
    {
      "cell_type": "code",
      "source": [
        "df.groupBy('Roles').count().orderBy('count', ascending=False).show()"
      ],
      "metadata": {
        "colab": {
          "base_uri": "https://localhost:8080/"
        },
        "id": "HE3Fmz1oQCVf",
        "outputId": "3027ff0d-6775-4727-bef1-0ad6420325e4"
      },
      "execution_count": null,
      "outputs": [
        {
          "output_type": "stream",
          "name": "stdout",
          "text": [
            "+--------------+-------+\n",
            "|         Roles|  count|\n",
            "+--------------+-------+\n",
            "|          NULL|9298686|\n",
            "|    Contextual| 130528|\n",
            "|   Destination|  34324|\n",
            "|    Suspicious|  28952|\n",
            "|      Attacker|  13096|\n",
            "|        Source|   7171|\n",
            "|   Compromised|   3219|\n",
            "|PolicyViolator|    666|\n",
            "|      Attacked|    188|\n",
            "|        Edited|      6|\n",
            "|         Added|      1|\n",
            "+--------------+-------+\n",
            "\n"
          ]
        }
      ]
    },
    {
      "cell_type": "code",
      "source": [
        "df.groupBy('OSFamily').count().orderBy('count', ascending=False).show()"
      ],
      "metadata": {
        "colab": {
          "base_uri": "https://localhost:8080/"
        },
        "id": "P_PTHx3fQFg7",
        "outputId": "2b9a470b-ee1b-4b83-b113-47d63b110707"
      },
      "execution_count": null,
      "outputs": [
        {
          "output_type": "stream",
          "name": "stdout",
          "text": [
            "+--------+-------+\n",
            "|OSFamily|  count|\n",
            "+--------+-------+\n",
            "|       5|9322565|\n",
            "|       0| 190036|\n",
            "|       1|   2732|\n",
            "|       2|   1496|\n",
            "|       3|      7|\n",
            "|       4|      1|\n",
            "+--------+-------+\n",
            "\n"
          ]
        }
      ]
    },
    {
      "cell_type": "markdown",
      "source": [
        "5 is overwhelming represented in this dataset. Is this sampling bias or reflective of targeting?"
      ],
      "metadata": {
        "id": "_XPXPJOuTy-_"
      }
    },
    {
      "cell_type": "code",
      "source": [
        "df.groupBy('AntispamDirection').count().orderBy('count', ascending=False).show(truncate=False)"
      ],
      "metadata": {
        "colab": {
          "base_uri": "https://localhost:8080/"
        },
        "id": "uvZ9LOa7QIyK",
        "outputId": "246959a7-bc80-4395-c877-c65e83edbb6f"
      },
      "execution_count": null,
      "outputs": [
        {
          "output_type": "stream",
          "name": "stdout",
          "text": [
            "+--------------------------------------------------+-------+\n",
            "|AntispamDirection                                 |count  |\n",
            "+--------------------------------------------------+-------+\n",
            "|NULL                                              |9339535|\n",
            "|Inbound                                           |161111 |\n",
            "|Intraorg                                          |15308  |\n",
            "|Outbound                                          |868    |\n",
            "|DomainPII_50d8b4a941c26b89482c94ab324b5a274f9ced66|10     |\n",
            "|DomainPII_df80ab894e01e375bf55d12ba315c04029d3e32d|5      |\n",
            "+--------------------------------------------------+-------+\n",
            "\n"
          ]
        }
      ]
    },
    {
      "cell_type": "code",
      "source": [
        "df.groupBy('SuspicionLevel').count().orderBy('count', ascending=False).show()"
      ],
      "metadata": {
        "colab": {
          "base_uri": "https://localhost:8080/"
        },
        "id": "B4Dys2UhQNt3",
        "outputId": "27533292-7c4f-467a-da4e-a52f5e4bf481"
      },
      "execution_count": null,
      "outputs": [
        {
          "output_type": "stream",
          "name": "stdout",
          "text": [
            "+--------------+-------+\n",
            "|SuspicionLevel|  count|\n",
            "+--------------+-------+\n",
            "|          NULL|8072708|\n",
            "|    Suspicious|1442614|\n",
            "|  Incriminated|   1515|\n",
            "+--------------+-------+\n",
            "\n"
          ]
        }
      ]
    },
    {
      "cell_type": "code",
      "source": [
        "df.groupBy('LastVerdict').count().orderBy('count', ascending=False).show(truncate=False)"
      ],
      "metadata": {
        "colab": {
          "base_uri": "https://localhost:8080/"
        },
        "id": "vZSq-A6_QVrP",
        "outputId": "63d0bfd6-367c-43ff-d31d-d0f7fc827b5a"
      },
      "execution_count": null,
      "outputs": [
        {
          "output_type": "stream",
          "name": "stdout",
          "text": [
            "+--------------------------------------------------+-------+\n",
            "|LastVerdict                                       |count  |\n",
            "+--------------------------------------------------+-------+\n",
            "|NULL                                              |7282572|\n",
            "|Suspicious                                        |1402997|\n",
            "|Malicious                                         |433359 |\n",
            "|NoThreatsFound                                    |397718 |\n",
            "|DomainPII_50d8b4a941c26b89482c94ab324b5a274f9ced66|128    |\n",
            "|DomainPII_9207384283ce115db5a590dd9ca5de21e5e99df2|63     |\n",
            "+--------------------------------------------------+-------+\n",
            "\n"
          ]
        }
      ]
    },
    {
      "cell_type": "code",
      "source": [
        "df.groupBy('EntityType').count().orderBy('count', ascending=False).show(35,truncate=False)"
      ],
      "metadata": {
        "colab": {
          "base_uri": "https://localhost:8080/"
        },
        "id": "xm6VIEk5QYMi",
        "outputId": "b2d5560f-f704-4833-80ca-8d9cbd6b263a"
      },
      "execution_count": null,
      "outputs": [
        {
          "output_type": "stream",
          "name": "stdout",
          "text": [
            "+---------------------+-------+\n",
            "|EntityType           |count  |\n",
            "+---------------------+-------+\n",
            "|Ip                   |2181194|\n",
            "|User                 |1932416|\n",
            "|MailMessage          |1173154|\n",
            "|Machine              |699208 |\n",
            "|File                 |688402 |\n",
            "|Url                  |682578 |\n",
            "|CloudLogonRequest    |638565 |\n",
            "|Mailbox              |483158 |\n",
            "|Process              |345732 |\n",
            "|MailCluster          |224684 |\n",
            "|CloudApplication     |216811 |\n",
            "|CloudLogonSession    |212382 |\n",
            "|RegistryValue        |11209  |\n",
            "|AzureResource        |8166   |\n",
            "|RegistryKey          |7277   |\n",
            "|GenericEntity        |4294   |\n",
            "|OAuthApplication     |2595   |\n",
            "|Malware              |2580   |\n",
            "|SecurityGroup        |1518   |\n",
            "|BlobContainer        |306    |\n",
            "|Blob                 |263    |\n",
            "|MailboxConfiguration |226    |\n",
            "|Nic                  |49     |\n",
            "|IoTDevice            |31     |\n",
            "|ActiveDirectoryDomain|11     |\n",
            "|GoogleCloudResource  |10     |\n",
            "|AmazonResource       |6      |\n",
            "|Container            |2      |\n",
            "|KubernetesCluster    |2      |\n",
            "|ContainerImage       |2      |\n",
            "|KubernetesPod        |2      |\n",
            "|KubernetesNamespace  |2      |\n",
            "|ContainerRegistry    |2      |\n",
            "+---------------------+-------+\n",
            "\n"
          ]
        }
      ]
    },
    {
      "cell_type": "code",
      "source": [
        "df.groupBy('OSVersion').count().orderBy('count', ascending=False).show(70)"
      ],
      "metadata": {
        "colab": {
          "base_uri": "https://localhost:8080/"
        },
        "id": "L8FaGFdTSEdn",
        "outputId": "74e0e5b9-51ba-409b-e2ce-7b1e8af9bcf9"
      },
      "execution_count": null,
      "outputs": [
        {
          "output_type": "stream",
          "name": "stdout",
          "text": [
            "+---------+-------+\n",
            "|OSVersion|  count|\n",
            "+---------+-------+\n",
            "|       66|9322572|\n",
            "|        0| 187405|\n",
            "|        2|   1892|\n",
            "|        1|   1652|\n",
            "|        3|   1125|\n",
            "|        4|    732|\n",
            "|        6|    362|\n",
            "|        5|    266|\n",
            "|        8|    132|\n",
            "|        9|    109|\n",
            "|       10|     89|\n",
            "|        7|     81|\n",
            "|       11|     66|\n",
            "|       12|     54|\n",
            "|       16|     38|\n",
            "|       13|     32|\n",
            "|       14|     31|\n",
            "|       15|     22|\n",
            "|       19|     18|\n",
            "|       17|     17|\n",
            "|       20|     16|\n",
            "|       22|     15|\n",
            "|       21|     14|\n",
            "|       24|     13|\n",
            "|       25|      7|\n",
            "|       26|      7|\n",
            "|       27|      6|\n",
            "|       31|      5|\n",
            "|       28|      5|\n",
            "|       33|      4|\n",
            "|       35|      4|\n",
            "|       38|      3|\n",
            "|       41|      3|\n",
            "|       29|      3|\n",
            "|       42|      3|\n",
            "|       37|      3|\n",
            "|       40|      3|\n",
            "|       46|      2|\n",
            "|       34|      2|\n",
            "|       45|      2|\n",
            "|       30|      2|\n",
            "|       43|      2|\n",
            "|       23|      2|\n",
            "|       44|      2|\n",
            "|       47|      1|\n",
            "|       52|      1|\n",
            "|       62|      1|\n",
            "|       56|      1|\n",
            "|       51|      1|\n",
            "|       64|      1|\n",
            "|       48|      1|\n",
            "|       58|      1|\n",
            "|       36|      1|\n",
            "|       63|      1|\n",
            "|       65|      1|\n",
            "|       59|      1|\n",
            "|       53|      1|\n",
            "|       60|      1|\n",
            "+---------+-------+\n",
            "\n"
          ]
        }
      ]
    },
    {
      "cell_type": "markdown",
      "source": [
        "OSVersion 66 is overwhelmingly represented here. As with OS could refelct sampling bias or actual target selection."
      ],
      "metadata": {
        "id": "eySfnlqzUFKh"
      }
    },
    {
      "cell_type": "code",
      "source": [
        "df.groupBy('ThreatFamily').count().orderBy('count', ascending=False).show(10, truncate=False)"
      ],
      "metadata": {
        "colab": {
          "base_uri": "https://localhost:8080/"
        },
        "id": "ggGNugXf8jG6",
        "outputId": "a5688214-9814-4874-ef4f-4e0b1e1d456b"
      },
      "execution_count": null,
      "outputs": [
        {
          "output_type": "stream",
          "name": "stdout",
          "text": [
            "+-------------------------+-------+\n",
            "|ThreatFamily             |count  |\n",
            "+-------------------------+-------+\n",
            "|NULL                     |9441956|\n",
            "|Phish                    |3526   |\n",
            "|Malgent                  |2636   |\n",
            "|Donoff                   |2519   |\n",
            "|CustomEnterpriseBlock    |2145   |\n",
            "|CustomEnterpriseBlockOnly|2139   |\n",
            "|CymRan                   |1648   |\n",
            "|CustomCertEnterpriseBlock|1595   |\n",
            "|Phonzy                   |1493   |\n",
            "|Wacatac                  |1185   |\n",
            "+-------------------------+-------+\n",
            "only showing top 10 rows\n",
            "\n"
          ]
        }
      ]
    },
    {
      "cell_type": "code",
      "source": [
        "df.drop('MitreTechniques', 'ActionGrouped', 'ActionGranular', 'EmailClusterId', 'ThreatFamily', 'ResourceType', 'Roles', 'AntispamDirection', 'SuspicionLevel', 'LastVerdict')"
      ],
      "metadata": {
        "colab": {
          "base_uri": "https://localhost:8080/"
        },
        "id": "GDzogmKzSINz",
        "outputId": "aa249e72-8b3d-484c-9b89-dc7da3b46d00"
      },
      "execution_count": null,
      "outputs": [
        {
          "output_type": "stream",
          "name": "stdout",
          "text": [
            "+-------------+-----+----------+-------+-------------------+----------+----------+------------------+--------------+----------------+------------+--------+------+---------+------+----------+----------+---------------+-----------+----------+----------------+-----------+-----------------+-----------------+-------------+---------------+------------------+--------+----------+--------------+--------+---------+-----------+-----+-----+\n",
            "|           Id|OrgId|IncidentId|AlertId|          Timestamp|DetectorId|AlertTitle|          Category| IncidentGrade|      EntityType|EvidenceRole|DeviceId|Sha256|IpAddress|   Url|AccountSid|AccountUpn|AccountObjectId|AccountName|DeviceName|NetworkMessageId|RegistryKey|RegistryValueName|RegistryValueData|ApplicationId|ApplicationName|OAuthApplicationId|FileName|FolderPath|ResourceIdName|OSFamily|OSVersion|CountryCode|State| City|\n",
            "+-------------+-----+----------+-------+-------------------+----------+----------+------------------+--------------+----------------+------------+--------+------+---------+------+----------+----------+---------------+-----------+----------+----------------+-----------+-----------------+-----------------+-------------+---------------+------------------+--------+----------+--------------+--------+---------+-----------+-----+-----+\n",
            "| 180388628218|    0|       612| 123247|2024-06-04 06:05:15|         7|         6|     InitialAccess|  TruePositive|              Ip|     Related|   98799|138268|       27|160396|    441377|    673934|         425863|     453297|    153085|          529644|       1631|              635|              860|         2251|           3421|               881|  289573|    117668|          3586|       5|       66|         31|    6|    3|\n",
            "| 455266534868|   88|       326| 210035|2024-06-14 03:01:25|        58|        43|      Exfiltration| FalsePositive|            User|    Impacted|   98799|138268|   360606|160396|     22406|     23032|          22795|      24887|    153085|          529644|       1631|              635|              860|         2251|           3421|               881|  289573|    117668|          3586|       5|       66|        242| 1445|10630|\n",
            "|1056561957389|  809|     58352| 712507|2024-06-13 04:52:55|       423|       298|     InitialAccess| FalsePositive|             Url|     Related|   98799|138268|   360606| 68652|    441377|    673934|         425863|     453297|    153085|          529644|       1631|              635|              860|         2251|           3421|               881|  289573|    117668|          3586|       5|       66|        242| 1445|10630|\n",
            "|1279900258736|   92|     32992| 774301|2024-06-10 16:39:36|         2|         2| CommandAndControl|BenignPositive|             Url|     Related|   98799|138268|   360606|    13|    441377|    673934|         425863|     453297|    153085|          529644|       1631|              635|              860|         2251|           3421|               881|  289573|    117668|          3586|       5|       66|        242| 1445|10630|\n",
            "| 214748368522|  148|      4359| 188041|2024-06-15 01:08:07|         9|        74|         Execution|  TruePositive|            User|    Impacted|   98799|138268|   360606|160396|       449|       592|            440|        479|    153085|          529644|       1631|              635|              860|         2251|           3421|               881|  289573|    117668|          3586|       5|       66|        242| 1445|10630|\n",
            "|1322849927433|   11|    417400| 825450|2024-06-10 13:30:56|         0|         0|     InitialAccess| FalsePositive|              Ip|     Related|   98799|138268|    30410|160396|    441377|    673934|         425863|     453297|    153085|          529644|       1631|              635|              860|         2251|           3421|               881|  289573|    117668|          3586|       5|       66|          8|    6|    3|\n",
            "| 163208760309|  522|       566| 705663|2024-06-14 23:19:45|         2|         2| CommandAndControl|BenignPositive|             Url|     Related|   98799|138268|   360606|  3306|    441377|    673934|         425863|     453297|    153085|          529644|       1631|              635|              860|         2251|           3421|               881|  289573|    117668|          3586|       5|       66|        242| 1445|10630|\n",
            "|1400159339557|  125|     38679|  47423|2024-06-06 13:39:23|       313|      3919|      Exfiltration|BenignPositive|     MailMessage|    Impacted|   98799|138268|   360606|160396|    441377|     34744|         425863|     453297|    153085|            1082|       1631|              635|              860|         2251|           3421|               881|  289573|    117668|          3586|       5|       66|        242| 1445|10630|\n",
            "|1219770713645|   21|       414| 197969|2024-06-09 10:21:29|         3|         4|SuspiciousActivity|BenignPositive|         Process|     Related|   98799|     0|   360606|160396|    441377|    673934|         425863|     453297|    153085|          529644|       1631|              635|              860|         2251|           3421|               881|       0|      1694|          3586|       5|       66|        242| 1445|10630|\n",
            "|1073741827836|   72|        70| 831157|2024-06-08 02:08:01|         4|         3|     InitialAccess|  TruePositive|            User|    Impacted|   98799|138268|   360606|160396|      4070|      5532|           4086|       4256|    153085|          529644|       1631|              635|              860|         2251|           3421|               881|  289573|    117668|          3586|       5|       66|        242| 1445|10630|\n",
            "| 197568500579|  268|       251| 473068|2024-06-12 18:43:42|         3|         4|SuspiciousActivity|  TruePositive|         Machine|    Impacted|    2504|138268|   360606|160396|    441377|    673934|         425863|     453297|      4872|          529644|       1631|              635|              860|         2251|           3421|               881|  289573|    117668|          3586|       5|       66|        242| 1445|10630|\n",
            "| 103079219463|  597|    159032|1380964|2024-06-07 07:08:22|         9|       373|         Execution|  TruePositive|CloudApplication|    Impacted|   98799|138268|   360606|160396|    441377|    673934|         425863|     453297|    153085|          529644|       1631|              635|              860|            3|              3|               881|  289573|    117668|          3586|       5|       66|        242| 1445|10630|\n",
            "|1305670059931|   23|       107| 409854|2024-06-06 00:27:12|         4|         3|     InitialAccess|  TruePositive|              Ip|     Related|   98799|138268|      279|160396|    441377|    673934|         425863|     453297|    153085|          529644|       1631|              635|              860|         2251|           3421|               881|  289573|    117668|          3586|       5|       66|          7|   50|   46|\n",
            "| 223338299440|    6|      2472|   1148|2024-05-26 21:07:09|        17|       284|            Impact| FalsePositive|              Ip|     Related|   98799|138268|     8146|160396|    441377|    673934|         425863|     453297|    153085|          529644|       1631|              635|              860|         2251|           3421|               881|  289573|    117668|          3586|       5|       66|        242| 1445|10630|\n",
            "| 652835032220|  376|     93925| 289288|2024-06-12 14:00:08|       447|       473|     InitialAccess|BenignPositive|   AzureResource|    Impacted|   17769|138268|   360606|160396|    441377|    673934|         425863|     453297|     25710|          529644|       1631|              635|              860|         2251|           3421|               881|  289573|    117668|           251|       5|       66|        242| 1445|10630|\n",
            "| 781684051738| 2119|      6622|  23284|2024-06-10 10:28:29|        13|        11|     InitialAccess|BenignPositive|     MailMessage|     Related|   98799|138268|   360606|160396|    441377|    160691|         425863|     453297|    153085|            1842|       1631|              635|              860|         2251|           3421|               881|  289573|    117668|          3586|       5|       66|        242| 1445|10630|\n",
            "| 635655163305|  261|    110412|  41503|2024-06-03 17:05:40|      1794|       344|        Collection|BenignPositive|            User|    Impacted|   98799|138268|   360606|160396|    172996|    268738|         173595|     184537|    153085|          529644|       1631|              635|              860|         2251|           3421|               881|  289573|    117668|          3586|       5|       66|        242| 1445|10630|\n",
            "| 429496732853|   51|     84683| 134887|2024-06-05 04:17:50|        39|        26|         Execution|BenignPositive|            File|     Related|   98799|     4|   360606|160396|    441377|    673934|         425863|     453297|    153085|          529644|       1631|              635|              860|         2251|           3421|               881|       3|         6|          3586|       5|       66|        242| 1445|10630|\n",
            "|1546188229482|   34|    329953| 709535|2024-06-05 20:45:37|         2|         2| CommandAndControl|BenignPositive|            User|    Impacted|   98799|138268|   360606|160396|     30614|     50597|          31131|      33321|    153085|          529644|       1631|              635|              860|         2251|           3421|               881|  289573|    117668|          3586|       5|       66|        242| 1445|10630|\n",
            "|1340029797776|  592|     53360| 215453|2024-06-13 13:21:39|       933|      9966|      Exfiltration|BenignPositive|            File|    Impacted|   98799| 10713|   360606|160396|    441377|    673934|         425863|     453297|    153085|          529644|       1631|              635|              860|         2251|           3421|               881|   12633|      3509|          3586|       5|       66|        242| 1445|10630|\n",
            "+-------------+-----+----------+-------+-------------------+----------+----------+------------------+--------------+----------------+------------+--------+------+---------+------+----------+----------+---------------+-----------+----------+----------------+-----------+-----------------+-----------------+-------------+---------------+------------------+--------+----------+--------------+--------+---------+-----------+-----+-----+\n",
            "only showing top 20 rows\n",
            "\n"
          ]
        }
      ]
    },
    {
      "cell_type": "code",
      "source": [
        "df.groupBy('RegistryKey').count().orderBy('count', ascending=False).show()"
      ],
      "metadata": {
        "colab": {
          "base_uri": "https://localhost:8080/"
        },
        "id": "0oabA4SbVGbC",
        "outputId": "fdda0b48-a8c0-4644-941d-3f0773cf84ac"
      },
      "execution_count": null,
      "outputs": [
        {
          "output_type": "stream",
          "name": "stdout",
          "text": [
            "+-----------+-------+\n",
            "|RegistryKey|  count|\n",
            "+-----------+-------+\n",
            "|       1631|9499313|\n",
            "|          0|  11076|\n",
            "|          1|    245|\n",
            "|          3|    235|\n",
            "|          6|    141|\n",
            "|          4|    136|\n",
            "|          5|    131|\n",
            "|          8|    118|\n",
            "|          7|     98|\n",
            "|         12|     75|\n",
            "|          9|     70|\n",
            "|         11|     66|\n",
            "|         10|     66|\n",
            "|         15|     58|\n",
            "|          2|     53|\n",
            "|         13|     44|\n",
            "|         16|     40|\n",
            "|         17|     36|\n",
            "|         24|     36|\n",
            "|         25|     34|\n",
            "+-----------+-------+\n",
            "only showing top 20 rows\n",
            "\n"
          ]
        }
      ]
    },
    {
      "cell_type": "markdown",
      "source": [
        "### Numericals"
      ],
      "metadata": {
        "id": "wwEdwXDkc3d7"
      }
    },
    {
      "cell_type": "code",
      "source": [
        "df.columns"
      ],
      "metadata": {
        "colab": {
          "base_uri": "https://localhost:8080/"
        },
        "id": "wTTNaFCbpuSB",
        "outputId": "43fed79b-a105-4555-826f-a86a93b7fd44"
      },
      "execution_count": null,
      "outputs": [
        {
          "output_type": "execute_result",
          "data": {
            "text/plain": [
              "['Id',\n",
              " 'OrgId',\n",
              " 'IncidentId',\n",
              " 'AlertId',\n",
              " 'Timestamp',\n",
              " 'DetectorId',\n",
              " 'AlertTitle',\n",
              " 'Category',\n",
              " 'MitreTechniques',\n",
              " 'IncidentGrade',\n",
              " 'ActionGrouped',\n",
              " 'ActionGranular',\n",
              " 'EntityType',\n",
              " 'EvidenceRole',\n",
              " 'DeviceId',\n",
              " 'Sha256',\n",
              " 'IpAddress',\n",
              " 'Url',\n",
              " 'AccountSid',\n",
              " 'AccountUpn',\n",
              " 'AccountObjectId',\n",
              " 'AccountName',\n",
              " 'DeviceName',\n",
              " 'NetworkMessageId',\n",
              " 'EmailClusterId',\n",
              " 'RegistryKey',\n",
              " 'RegistryValueName',\n",
              " 'RegistryValueData',\n",
              " 'ApplicationId',\n",
              " 'ApplicationName',\n",
              " 'OAuthApplicationId',\n",
              " 'ThreatFamily',\n",
              " 'FileName',\n",
              " 'FolderPath',\n",
              " 'ResourceIdName',\n",
              " 'ResourceType',\n",
              " 'Roles',\n",
              " 'OSFamily',\n",
              " 'OSVersion',\n",
              " 'AntispamDirection',\n",
              " 'SuspicionLevel',\n",
              " 'LastVerdict',\n",
              " 'CountryCode',\n",
              " 'State',\n",
              " 'City']"
            ]
          },
          "metadata": {},
          "execution_count": 19
        }
      ]
    },
    {
      "cell_type": "code",
      "source": [
        "num_col = ['Id', 'OrgId', 'IncidentId', 'AlertId', 'DetectorId', 'AlertTitle',\n",
        "            'DeviceId', 'Sha256', 'IpAddress', 'Url', 'AccountSid',\n",
        "            'AccountUpn', 'AccountObjectId', 'AccountName', 'DeviceName',\n",
        "            'NetworkMessageId', 'RegistryKey', 'RegistryValueName',\n",
        "            'RegistryValueData', 'ApplicationId', 'EmailClusterId',\n",
        "            'ApplicationName', 'OAuthApplicationId', 'ThreatFamily', 'FileName',\n",
        "            'FolderPath', 'ResourceIdName', 'CountryCode', 'State', 'City']"
      ],
      "metadata": {
        "id": "yDmSSSrYrSlx"
      },
      "execution_count": null,
      "outputs": []
    },
    {
      "cell_type": "code",
      "source": [
        "len(num_col)"
      ],
      "metadata": {
        "colab": {
          "base_uri": "https://localhost:8080/"
        },
        "id": "tplvhTYawO-M",
        "outputId": "7ee6df28-1019-41cf-be25-1bce132c33a4"
      },
      "execution_count": null,
      "outputs": [
        {
          "output_type": "execute_result",
          "data": {
            "text/plain": [
              "30"
            ]
          },
          "metadata": {},
          "execution_count": 4
        }
      ]
    },
    {
      "cell_type": "code",
      "source": [
        "df.select(\"OrgId\").summary().show(truncate=False)"
      ],
      "metadata": {
        "colab": {
          "base_uri": "https://localhost:8080/"
        },
        "id": "8i-kzPTs36CU",
        "outputId": "f66a7703-ddfd-4733-bb18-695fdb79ad9c"
      },
      "execution_count": null,
      "outputs": [
        {
          "output_type": "stream",
          "name": "stdout",
          "text": [
            "+-------+------------------+\n",
            "|summary|OrgId             |\n",
            "+-------+------------------+\n",
            "|count  |9516837           |\n",
            "|mean   |181.57995014520054|\n",
            "|stddev |386.77837703936484|\n",
            "|min    |0                 |\n",
            "|25%    |10                |\n",
            "|50%    |45                |\n",
            "|75%    |171               |\n",
            "|max    |6147              |\n",
            "+-------+------------------+\n",
            "\n"
          ]
        }
      ]
    },
    {
      "cell_type": "code",
      "source": [
        "for c in num_col:\n",
        "  df.select(c).summary().show(truncate=False)"
      ],
      "metadata": {
        "colab": {
          "base_uri": "https://localhost:8080/"
        },
        "id": "1VX0RqgtsWJO",
        "outputId": "b729d705-3f49-4a4b-c868-2c2383c1cf47"
      },
      "execution_count": null,
      "outputs": [
        {
          "output_type": "stream",
          "name": "stdout",
          "text": [
            "+-------+---------------------+\n",
            "|summary|Id                   |\n",
            "+-------+---------------------+\n",
            "|count  |9516837              |\n",
            "|mean   |8.425494025715468E11 |\n",
            "|stddev |4.9624987503972345E11|\n",
            "|min    |0                    |\n",
            "|25%    |412316863917         |\n",
            "|50%    |841813590289         |\n",
            "|75%    |1271310322153        |\n",
            "|max    |1709396988938        |\n",
            "+-------+---------------------+\n",
            "\n",
            "+-------+------------------+\n",
            "|summary|OrgId             |\n",
            "+-------+------------------+\n",
            "|count  |9516837           |\n",
            "|mean   |181.57995014520054|\n",
            "|stddev |386.77837703936484|\n",
            "|min    |0                 |\n",
            "|25%    |10                |\n",
            "|50%    |45                |\n",
            "|75%    |171               |\n",
            "|max    |6147              |\n",
            "+-------+------------------+\n",
            "\n",
            "+-------+------------------+\n",
            "|summary|IncidentId        |\n",
            "+-------+------------------+\n",
            "|count  |9516837           |\n",
            "|mean   |70663.48631630446 |\n",
            "|stddev |120836.85320205832|\n",
            "|min    |0                 |\n",
            "|25%    |504               |\n",
            "|50%    |10335             |\n",
            "|75%    |84315             |\n",
            "|max    |599706            |\n",
            "+-------+------------------+\n",
            "\n",
            "+-------+------------------+\n",
            "|summary|AlertId           |\n",
            "+-------+------------------+\n",
            "|count  |9516837           |\n",
            "|mean   |406518.829002325  |\n",
            "|stddev |459282.69751793233|\n",
            "|min    |0                 |\n",
            "|25%    |23232             |\n",
            "|50%    |216619            |\n",
            "|75%    |671536            |\n",
            "|max    |1721456           |\n",
            "+-------+------------------+\n",
            "\n",
            "+-------+-----------------+\n",
            "|summary|DetectorId       |\n",
            "+-------+-----------------+\n",
            "|count  |9516837          |\n",
            "|mean   |110.6724262483428|\n",
            "|stddev |435.1037900929531|\n",
            "|min    |0                |\n",
            "|25%    |2                |\n",
            "|50%    |9                |\n",
            "|75%    |45               |\n",
            "|max    |9522             |\n",
            "+-------+-----------------+\n",
            "\n",
            "+-------+------------------+\n",
            "|summary|AlertTitle        |\n",
            "+-------+------------------+\n",
            "|count  |9516837           |\n",
            "|mean   |2947.315112048257 |\n",
            "|stddev |11461.504048258923|\n",
            "|min    |0                 |\n",
            "|25%    |2                 |\n",
            "|50%    |11                |\n",
            "|75%    |180               |\n",
            "|max    |113174            |\n",
            "+-------+------------------+\n",
            "\n",
            "+-------+------------------+\n",
            "|summary|DeviceId          |\n",
            "+-------+------------------+\n",
            "|count  |9516837           |\n",
            "|mean   |95664.75937667105 |\n",
            "|stddev |16352.878082760382|\n",
            "|min    |0                 |\n",
            "|25%    |98799             |\n",
            "|50%    |98799             |\n",
            "|75%    |98799             |\n",
            "|max    |98799             |\n",
            "+-------+------------------+\n",
            "\n",
            "+-------+------------------+\n",
            "|summary|Sha256            |\n",
            "+-------+------------------+\n",
            "|count  |9516837           |\n",
            "|mean   |128719.06251772516|\n",
            "|stddev |33992.08131041004 |\n",
            "|min    |0                 |\n",
            "|25%    |138268            |\n",
            "|50%    |138268            |\n",
            "|75%    |138268            |\n",
            "|max    |138268            |\n",
            "+-------+------------------+\n",
            "\n",
            "+-------+-----------------+\n",
            "|summary|IpAddress        |\n",
            "+-------+-----------------+\n",
            "|count  |9516837          |\n",
            "|mean   |285750.6059213791|\n",
            "|stddev |141224.0025391288|\n",
            "|min    |0                |\n",
            "|25%    |360606           |\n",
            "|50%    |360606           |\n",
            "|75%    |360606           |\n",
            "|max    |360606           |\n",
            "+-------+-----------------+\n",
            "\n",
            "+-------+------------------+\n",
            "|summary|Url               |\n",
            "+-------+------------------+\n",
            "|count  |9516837           |\n",
            "|mean   |150331.68962355875|\n",
            "|stddev |37507.947035026984|\n",
            "|min    |0                 |\n",
            "|25%    |160396            |\n",
            "|50%    |160396            |\n",
            "|75%    |160396            |\n",
            "|max    |160396            |\n",
            "+-------+------------------+\n",
            "\n",
            "+-------+------------------+\n",
            "|summary|AccountSid        |\n",
            "+-------+------------------+\n",
            "|count  |9516837           |\n",
            "|mean   |352446.57033098285|\n",
            "|stddev |166496.5039621475 |\n",
            "|min    |0                 |\n",
            "|25%    |441377            |\n",
            "|50%    |441377            |\n",
            "|75%    |441377            |\n",
            "|max    |441377            |\n",
            "+-------+------------------+\n",
            "\n",
            "+-------+------------------+\n",
            "|summary|AccountUpn        |\n",
            "+-------+------------------+\n",
            "|count  |9516837           |\n",
            "|mean   |464377.2554008228 |\n",
            "|stddev |290227.48508265655|\n",
            "|min    |0                 |\n",
            "|25%    |92558             |\n",
            "|50%    |673934            |\n",
            "|75%    |673934            |\n",
            "|max    |673934            |\n",
            "+-------+------------------+\n",
            "\n",
            "+-------+------------------+\n",
            "|summary|AccountObjectId   |\n",
            "+-------+------------------+\n",
            "|count  |9516837           |\n",
            "|mean   |340962.24058003724|\n",
            "|stddev |159937.7327424319 |\n",
            "|min    |0                 |\n",
            "|25%    |425863            |\n",
            "|50%    |425863            |\n",
            "|75%    |425863            |\n",
            "|max    |425863            |\n",
            "+-------+------------------+\n",
            "\n",
            "+-------+------------------+\n",
            "|summary|AccountName       |\n",
            "+-------+------------------+\n",
            "|count  |9516837           |\n",
            "|mean   |356966.4053009419 |\n",
            "|stddev |174446.56336047658|\n",
            "|min    |0                 |\n",
            "|25%    |453297            |\n",
            "|50%    |453297            |\n",
            "|75%    |453297            |\n",
            "|max    |453297            |\n",
            "+-------+------------------+\n",
            "\n",
            "+-------+-----------------+\n",
            "|summary|DeviceName       |\n",
            "+-------+-----------------+\n",
            "|count  |9516837          |\n",
            "|mean   |143229.8303901811|\n",
            "|stddev |36070.5559415137 |\n",
            "|min    |0                |\n",
            "|25%    |153085           |\n",
            "|50%    |153085           |\n",
            "|75%    |153085           |\n",
            "|max    |153085           |\n",
            "+-------+-----------------+\n",
            "\n",
            "+-------+------------------+\n",
            "|summary|NetworkMessageId  |\n",
            "+-------+------------------+\n",
            "|count  |9516837           |\n",
            "|mean   |480046.6944734895 |\n",
            "|stddev |141758.38178252557|\n",
            "|min    |0                 |\n",
            "|25%    |529644            |\n",
            "|50%    |529644            |\n",
            "|75%    |529644            |\n",
            "|max    |529644            |\n",
            "+-------+------------------+\n",
            "\n",
            "+-------+------------------+\n",
            "|summary|RegistryKey       |\n",
            "+-------+------------------+\n",
            "|count  |9516837           |\n",
            "|mean   |1628.1702543607714|\n",
            "|stddev |66.75012029646115 |\n",
            "|min    |0                 |\n",
            "|25%    |1631              |\n",
            "|50%    |1631              |\n",
            "|75%    |1631              |\n",
            "|max    |1631              |\n",
            "+-------+------------------+\n",
            "\n",
            "+-------+------------------+\n",
            "|summary|RegistryValueName |\n",
            "+-------+------------------+\n",
            "|count  |9516837           |\n",
            "|mean   |634.7344931934844 |\n",
            "|stddev |12.581114349361183|\n",
            "|min    |0                 |\n",
            "|25%    |635               |\n",
            "|50%    |635               |\n",
            "|75%    |635               |\n",
            "|max    |635               |\n",
            "+-------+------------------+\n",
            "\n",
            "+-------+------------------+\n",
            "|summary|RegistryValueData |\n",
            "+-------+------------------+\n",
            "|count  |9516837           |\n",
            "|mean   |859.5600832503488 |\n",
            "|stddev |18.863029958903866|\n",
            "|min    |0                 |\n",
            "|25%    |860               |\n",
            "|50%    |860               |\n",
            "|75%    |860               |\n",
            "|max    |860               |\n",
            "+-------+------------------+\n",
            "\n",
            "+-------+------------------+\n",
            "|summary|ApplicationId     |\n",
            "+-------+------------------+\n",
            "|count  |9516837           |\n",
            "|mean   |2200.9102597848423|\n",
            "|stddev |331.55276222599485|\n",
            "|min    |0                 |\n",
            "|25%    |2251              |\n",
            "|50%    |2251              |\n",
            "|75%    |2251              |\n",
            "|max    |2251              |\n",
            "+-------+------------------+\n",
            "\n",
            "+-------+--------------------+\n",
            "|summary|EmailClusterId      |\n",
            "+-------+--------------------+\n",
            "|count  |96812               |\n",
            "|mean   |3.24250315718821E9  |\n",
            "|stddev |1.0344680548497251E9|\n",
            "|min    |192708.0            |\n",
            "|25%    |2.762533038E9       |\n",
            "|50%    |3.504263975E9       |\n",
            "|75%    |4.106996285E9       |\n",
            "|max    |4.294966974E9       |\n",
            "+-------+--------------------+\n",
            "\n",
            "+-------+------------------+\n",
            "|summary|ApplicationName   |\n",
            "+-------+------------------+\n",
            "|count  |9516837           |\n",
            "|mean   |3342.790298604463 |\n",
            "|stddev |510.33810828082636|\n",
            "|min    |0                 |\n",
            "|25%    |3421              |\n",
            "|50%    |3421              |\n",
            "|75%    |3421              |\n",
            "|max    |3421              |\n",
            "+-------+------------------+\n",
            "\n",
            "+-------+------------------+\n",
            "|summary|OAuthApplicationId|\n",
            "+-------+------------------+\n",
            "|count  |9516837           |\n",
            "|mean   |880.7954823645713 |\n",
            "|stddev |12.910830845026563|\n",
            "|min    |0                 |\n",
            "|25%    |881               |\n",
            "|50%    |881               |\n",
            "|75%    |881               |\n",
            "|max    |881               |\n",
            "+-------+------------------+\n",
            "\n",
            "+-------+------------------------+\n",
            "|summary|ThreatFamily            |\n",
            "+-------+------------------------+\n",
            "|count  |74881                   |\n",
            "|mean   |NULL                    |\n",
            "|stddev |NULL                    |\n",
            "|min    |2345Browser             |\n",
            "|25%    |NULL                    |\n",
            "|50%    |NULL                    |\n",
            "|75%    |NULL                    |\n",
            "|max    |uTorrent_BundleInstaller|\n",
            "+-------+------------------------+\n",
            "\n",
            "+-------+------------------+\n",
            "|summary|FileName          |\n",
            "+-------+------------------+\n",
            "|count  |9516837           |\n",
            "|mean   |262262.09318652825|\n",
            "|stddev |81529.557138471   |\n",
            "|min    |0                 |\n",
            "|25%    |289573            |\n",
            "|50%    |289573            |\n",
            "|75%    |289573            |\n",
            "|max    |289573            |\n",
            "+-------+------------------+\n",
            "\n",
            "+-------+------------------+\n",
            "|summary|FolderPath        |\n",
            "+-------+------------------+\n",
            "|count  |9516837           |\n",
            "|mean   |107617.15036424392|\n",
            "|stddev |32208.35482718593 |\n",
            "|min    |0                 |\n",
            "|25%    |117668            |\n",
            "|50%    |117668            |\n",
            "|75%    |117668            |\n",
            "|max    |117668            |\n",
            "+-------+------------------+\n",
            "\n",
            "+-------+-----------------+\n",
            "|summary|ResourceIdName   |\n",
            "+-------+-----------------+\n",
            "|count  |9516837          |\n",
            "|mean   |3583.477294819697|\n",
            "|stddev |90.20261855599777|\n",
            "|min    |0                |\n",
            "|25%    |3586             |\n",
            "|50%    |3586             |\n",
            "|75%    |3586             |\n",
            "|max    |3586             |\n",
            "+-------+-----------------+\n",
            "\n",
            "+-------+------------------+\n",
            "|summary|CountryCode       |\n",
            "+-------+------------------+\n",
            "|count  |9516837           |\n",
            "|mean   |223.67421413227945|\n",
            "|stddev |62.797291250200395|\n",
            "|min    |0                 |\n",
            "|25%    |242               |\n",
            "|50%    |242               |\n",
            "|75%    |242               |\n",
            "|max    |242               |\n",
            "+-------+------------------+\n",
            "\n",
            "+-------+------------------+\n",
            "|summary|State             |\n",
            "+-------+------------------+\n",
            "|count  |9516837           |\n",
            "|mean   |1351.488426564414 |\n",
            "|stddev |350.98079709130144|\n",
            "|min    |0                 |\n",
            "|25%    |1445              |\n",
            "|50%    |1445              |\n",
            "|75%    |1445              |\n",
            "|max    |1445              |\n",
            "+-------+------------------+\n",
            "\n",
            "+-------+------------------+\n",
            "|summary|City              |\n",
            "+-------+------------------+\n",
            "|count  |9516837           |\n",
            "|mean   |9936.183029613725 |\n",
            "|stddev |2606.8124989430057|\n",
            "|min    |0                 |\n",
            "|25%    |10630             |\n",
            "|50%    |10630             |\n",
            "|75%    |10630             |\n",
            "|max    |10630             |\n",
            "+-------+------------------+\n",
            "\n"
          ]
        }
      ]
    },
    {
      "cell_type": "markdown",
      "source": [
        "Inspecting the output we see most features are HEAVILY skewed."
      ],
      "metadata": {
        "id": "DPeH2wadyCoH"
      }
    },
    {
      "cell_type": "markdown",
      "source": [
        "## Time Feature and Transformation\n",
        " Should probably move this so time is part of the transformation pipeline. For now though looking at this to get an understanding of time.\n",
        "\n"
      ],
      "metadata": {
        "id": "AapHoaigXM01"
      }
    },
    {
      "cell_type": "code",
      "source": [
        "from pyspark.sql.functions import year, month, dayofmonth, hour, minute, second, dayofweek, weekofyear\n",
        "\n",
        "df_time = df.withColumn(\"year\", year(df[\"Timestamp\"])) \\\n",
        "       .withColumn(\"month\", month(df[\"Timestamp\"])) \\\n",
        "       .withColumn(\"day\", dayofmonth(df[\"Timestamp\"])) \\\n",
        "       .withColumn(\"hour\", hour(df[\"Timestamp\"])) \\\n",
        "       .withColumn(\"minute\", minute(df[\"Timestamp\"])) \\\n",
        "       .withColumn(\"second\", second(df[\"Timestamp\"])) \\\n",
        "       .withColumn(\"day_of_week\", dayofweek(df[\"Timestamp\"])) \\\n",
        "       .withColumn(\"week_of_year\", weekofyear(df[\"Timestamp\"]))\n",
        "df_time.show(5)"
      ],
      "metadata": {
        "id": "viQHY9S-XMbx",
        "colab": {
          "base_uri": "https://localhost:8080/"
        },
        "outputId": "af97a1b6-4445-45e7-c5eb-5e0656a417ab"
      },
      "execution_count": null,
      "outputs": [
        {
          "output_type": "stream",
          "name": "stdout",
          "text": [
            "+-------------+-----+----------+-------+-------------------+----------+----------+-----------------+---------------+--------------+-------------+--------------+----------+------------+--------+------+---------+------+----------+----------+---------------+-----------+----------+----------------+--------------+-----------+-----------------+-----------------+-------------+---------------+------------------+------------+--------+----------+--------------+------------+-----+--------+---------+-----------------+--------------+-----------+-----------+-----+-----+----+-----+---+----+------+------+-----------+------------+\n",
            "|           Id|OrgId|IncidentId|AlertId|          Timestamp|DetectorId|AlertTitle|         Category|MitreTechniques| IncidentGrade|ActionGrouped|ActionGranular|EntityType|EvidenceRole|DeviceId|Sha256|IpAddress|   Url|AccountSid|AccountUpn|AccountObjectId|AccountName|DeviceName|NetworkMessageId|EmailClusterId|RegistryKey|RegistryValueName|RegistryValueData|ApplicationId|ApplicationName|OAuthApplicationId|ThreatFamily|FileName|FolderPath|ResourceIdName|ResourceType|Roles|OSFamily|OSVersion|AntispamDirection|SuspicionLevel|LastVerdict|CountryCode|State| City|year|month|day|hour|minute|second|day_of_week|week_of_year|\n",
            "+-------------+-----+----------+-------+-------------------+----------+----------+-----------------+---------------+--------------+-------------+--------------+----------+------------+--------+------+---------+------+----------+----------+---------------+-----------+----------+----------------+--------------+-----------+-----------------+-----------------+-------------+---------------+------------------+------------+--------+----------+--------------+------------+-----+--------+---------+-----------------+--------------+-----------+-----------+-----+-----+----+-----+---+----+------+------+-----------+------------+\n",
            "| 180388628218|    0|       612| 123247|2024-06-04 06:05:15|         7|         6|    InitialAccess|           NULL|  TruePositive|         NULL|          NULL|        Ip|     Related|   98799|138268|       27|160396|    441377|    673934|         425863|     453297|    153085|          529644|          NULL|       1631|              635|              860|         2251|           3421|               881|        NULL|  289573|    117668|          3586|        NULL| NULL|       5|       66|             NULL|          NULL|       NULL|         31|    6|    3|2024|    6|  4|   6|     5|    15|          3|          23|\n",
            "| 455266534868|   88|       326| 210035|2024-06-14 03:01:25|        58|        43|     Exfiltration|           NULL| FalsePositive|         NULL|          NULL|      User|    Impacted|   98799|138268|   360606|160396|     22406|     23032|          22795|      24887|    153085|          529644|          NULL|       1631|              635|              860|         2251|           3421|               881|        NULL|  289573|    117668|          3586|        NULL| NULL|       5|       66|             NULL|          NULL|       NULL|        242| 1445|10630|2024|    6| 14|   3|     1|    25|          6|          24|\n",
            "|1056561957389|  809|     58352| 712507|2024-06-13 04:52:55|       423|       298|    InitialAccess|          T1189| FalsePositive|         NULL|          NULL|       Url|     Related|   98799|138268|   360606| 68652|    441377|    673934|         425863|     453297|    153085|          529644|          NULL|       1631|              635|              860|         2251|           3421|               881|        NULL|  289573|    117668|          3586|        NULL| NULL|       5|       66|             NULL|    Suspicious| Suspicious|        242| 1445|10630|2024|    6| 13|   4|    52|    55|          5|          24|\n",
            "|1279900258736|   92|     32992| 774301|2024-06-10 16:39:36|         2|         2|CommandAndControl|           NULL|BenignPositive|         NULL|          NULL|       Url|     Related|   98799|138268|   360606|    13|    441377|    673934|         425863|     453297|    153085|          529644|          NULL|       1631|              635|              860|         2251|           3421|               881|        NULL|  289573|    117668|          3586|        NULL| NULL|       5|       66|             NULL|    Suspicious| Suspicious|        242| 1445|10630|2024|    6| 10|  16|    39|    36|          2|          24|\n",
            "| 214748368522|  148|      4359| 188041|2024-06-15 01:08:07|         9|        74|        Execution|           NULL|  TruePositive|         NULL|          NULL|      User|    Impacted|   98799|138268|   360606|160396|       449|       592|            440|        479|    153085|          529644|          NULL|       1631|              635|              860|         2251|           3421|               881|        NULL|  289573|    117668|          3586|        NULL| NULL|       5|       66|             NULL|          NULL|       NULL|        242| 1445|10630|2024|    6| 15|   1|     8|     7|          7|          24|\n",
            "+-------------+-----+----------+-------+-------------------+----------+----------+-----------------+---------------+--------------+-------------+--------------+----------+------------+--------+------+---------+------+----------+----------+---------------+-----------+----------+----------------+--------------+-----------+-----------------+-----------------+-------------+---------------+------------------+------------+--------+----------+--------------+------------+-----+--------+---------+-----------------+--------------+-----------+-----------+-----+-----+----+-----+---+----+------+------+-----------+------------+\n",
            "only showing top 5 rows\n",
            "\n"
          ]
        }
      ]
    },
    {
      "cell_type": "code",
      "source": [
        "df_time.groupBy('year').count().orderBy('count', ascending=False).show()"
      ],
      "metadata": {
        "colab": {
          "base_uri": "https://localhost:8080/"
        },
        "id": "1bf9bLiAPHbG",
        "outputId": "b1d906b2-991e-4f9d-9f22-3a2101f225b3"
      },
      "execution_count": null,
      "outputs": [
        {
          "output_type": "stream",
          "name": "stdout",
          "text": [
            "+----+-------+\n",
            "|year|  count|\n",
            "+----+-------+\n",
            "|2024|9516658|\n",
            "|2023|    179|\n",
            "+----+-------+\n",
            "\n"
          ]
        }
      ]
    },
    {
      "cell_type": "code",
      "source": [
        "df_time.groupBy('month').count().orderBy('count', ascending=False).show()"
      ],
      "metadata": {
        "colab": {
          "base_uri": "https://localhost:8080/"
        },
        "id": "VF8bysbVPM6O",
        "outputId": "629484a3-8d20-433b-9af8-c7c6944cfba1"
      },
      "execution_count": null,
      "outputs": [
        {
          "output_type": "stream",
          "name": "stdout",
          "text": [
            "+-----+-------+\n",
            "|month|  count|\n",
            "+-----+-------+\n",
            "|    6|8662447|\n",
            "|    5| 853082|\n",
            "|    1|    310|\n",
            "|    2|    297|\n",
            "|    4|    287|\n",
            "|    3|    235|\n",
            "|   12|    168|\n",
            "|   11|     11|\n",
            "+-----+-------+\n",
            "\n"
          ]
        }
      ]
    },
    {
      "cell_type": "code",
      "source": [
        "df_time.groupBy('day').count().orderBy('count', ascending=False).show()"
      ],
      "metadata": {
        "colab": {
          "base_uri": "https://localhost:8080/"
        },
        "id": "dCUhHhfYjS6l",
        "outputId": "c37386a4-96c9-48fd-e411-227e378c2caf"
      },
      "execution_count": null,
      "outputs": [
        {
          "output_type": "stream",
          "name": "stdout",
          "text": [
            "+---+------+\n",
            "|day| count|\n",
            "+---+------+\n",
            "|  4|910667|\n",
            "|  5|899745|\n",
            "|  3|784976|\n",
            "| 11|742607|\n",
            "|  6|736842|\n",
            "| 10|698534|\n",
            "| 12|683131|\n",
            "| 13|660391|\n",
            "|  7|630698|\n",
            "|  9|475598|\n",
            "| 14|469160|\n",
            "|  8|452636|\n",
            "| 15|176232|\n",
            "| 16|145826|\n",
            "| 26|113551|\n",
            "|  2| 99237|\n",
            "| 24| 98830|\n",
            "| 25| 98512|\n",
            "| 23| 84361|\n",
            "| 31| 81432|\n",
            "+---+------+\n",
            "only showing top 20 rows\n",
            "\n"
          ]
        }
      ]
    },
    {
      "cell_type": "code",
      "source": [
        "df_time.groupBy('week_of_year').count().orderBy('count', ascending=False).show()"
      ],
      "metadata": {
        "colab": {
          "base_uri": "https://localhost:8080/"
        },
        "id": "Oh-B3pJfjS_Y",
        "outputId": "9ab8e812-5f2c-4ec9-dbff-5fa86d3f5672"
      },
      "execution_count": null,
      "outputs": [
        {
          "output_type": "stream",
          "name": "stdout",
          "text": [
            "+------------+-------+\n",
            "|week_of_year|  count|\n",
            "+------------+-------+\n",
            "|          23|4890537|\n",
            "|          24|3575067|\n",
            "|          21| 579401|\n",
            "|          22| 427695|\n",
            "|          25|  41631|\n",
            "|          20|    815|\n",
            "|          19|    312|\n",
            "|           6|    153|\n",
            "|          18|     94|\n",
            "|           5|     87|\n",
            "|          14|     85|\n",
            "|          16|     79|\n",
            "|          52|     71|\n",
            "|          13|     65|\n",
            "|           1|     64|\n",
            "|           3|     64|\n",
            "|          10|     63|\n",
            "|           2|     63|\n",
            "|           9|     60|\n",
            "|           4|     59|\n",
            "+------------+-------+\n",
            "only showing top 20 rows\n",
            "\n"
          ]
        }
      ]
    },
    {
      "cell_type": "code",
      "source": [
        "(4890537 + 3575067 + 579401 + 427695 + 41631)/df_time.count()"
      ],
      "metadata": {
        "colab": {
          "base_uri": "https://localhost:8080/"
        },
        "id": "Az5adMZfmzU6",
        "outputId": "8af40023-618b-45eb-93e2-4a54b86b5424"
      },
      "execution_count": null,
      "outputs": [
        {
          "output_type": "execute_result",
          "data": {
            "text/plain": [
              "0.9997366772174411"
            ]
          },
          "metadata": {},
          "execution_count": 26
        }
      ]
    },
    {
      "cell_type": "markdown",
      "source": [
        "An overwhelming majority of the data occurs between week 21- 25.  This may be indicitive of either extreme sampling bias or a significant cyber attack campaign in this time period. For the final report, this necessitates further study."
      ],
      "metadata": {
        "id": "hGNh0sfvw0B1"
      }
    },
    {
      "cell_type": "code",
      "source": [
        "df_time.groupBy('hour').count().orderBy('count', ascending=False).show(25)"
      ],
      "metadata": {
        "colab": {
          "base_uri": "https://localhost:8080/"
        },
        "id": "_k1Td6UBldO4",
        "outputId": "aaf332eb-933c-4ea4-c678-c53f4932c132"
      },
      "execution_count": null,
      "outputs": [
        {
          "output_type": "stream",
          "name": "stdout",
          "text": [
            "+----+------+\n",
            "|hour| count|\n",
            "+----+------+\n",
            "|  15|482147|\n",
            "|  17|479501|\n",
            "|  16|478842|\n",
            "|  18|470807|\n",
            "|  13|451389|\n",
            "|  14|450973|\n",
            "|  19|448513|\n",
            "|  20|434794|\n",
            "|  12|421560|\n",
            "|  21|417091|\n",
            "|  11|397688|\n",
            "|  22|396944|\n",
            "|  10|378357|\n",
            "|  23|377580|\n",
            "|   1|377563|\n",
            "|   9|372211|\n",
            "|   0|354859|\n",
            "|   8|347197|\n",
            "|   2|344377|\n",
            "|   3|335596|\n",
            "|   5|326636|\n",
            "|   7|325715|\n",
            "|   4|324403|\n",
            "|   6|322094|\n",
            "+----+------+\n",
            "\n"
          ]
        }
      ]
    },
    {
      "cell_type": "markdown",
      "source": [
        "We also see a very heavy bias towards 2024 and June. I'll still be using these time features as having them tends to be better for data but still its something to be aware of how biased it appears in sampling."
      ],
      "metadata": {
        "id": "itR7873SWZgK"
      }
    },
    {
      "cell_type": "markdown",
      "source": [
        "## Mitre Techniques Analysis\n",
        "\n",
        "While we will be removing this column due to the volume of missing values, inspecting it is likely to pay dividends in understanding the nature of the most common attacks in the dataset."
      ],
      "metadata": {
        "id": "lOquZS4oeujg"
      }
    },
    {
      "cell_type": "code",
      "source": [
        "mitre_count = df.groupBy('MitreTechniques').count().orderBy('count', ascending=False).show(11, truncate=False)"
      ],
      "metadata": {
        "colab": {
          "base_uri": "https://localhost:8080/"
        },
        "id": "m6KY1kJ8e-Gr",
        "outputId": "6ebfdda0-1bf6-4333-868e-11325751fddb"
      },
      "execution_count": null,
      "outputs": [
        {
          "output_type": "stream",
          "name": "stdout",
          "text": [
            "+-------------------------+-------+\n",
            "|MitreTechniques          |count  |\n",
            "+-------------------------+-------+\n",
            "|NULL                     |5468386|\n",
            "|T1078;T1078.004          |1354904|\n",
            "|T1566.002                |814308 |\n",
            "|T1566                    |659591 |\n",
            "|T1133                    |145579 |\n",
            "|T1566.001                |136892 |\n",
            "|T1110;T1110.003;T1110.001|88661  |\n",
            "|T1087;T1087.002          |54564  |\n",
            "|T1110                    |41768  |\n",
            "|T1078;T1098              |40342  |\n",
            "|T1559;T1106;T1059.005    |37869  |\n",
            "+-------------------------+-------+\n",
            "only showing top 11 rows\n",
            "\n"
          ]
        }
      ]
    },
    {
      "cell_type": "code",
      "source": [
        "mitre_count_nonull = df.filter(df.MitreTechniques.isNotNull()).groupBy('MitreTechniques').count().orderBy('count', ascending=False).show(10, truncate=False)"
      ],
      "metadata": {
        "colab": {
          "base_uri": "https://localhost:8080/"
        },
        "id": "Tb4E7DESfM2K",
        "outputId": "cc8aa812-8863-41c1-d6a5-57fc0588215b"
      },
      "execution_count": null,
      "outputs": [
        {
          "output_type": "stream",
          "name": "stdout",
          "text": [
            "+-------------------------+-------+\n",
            "|MitreTechniques          |count  |\n",
            "+-------------------------+-------+\n",
            "|T1078;T1078.004          |1354904|\n",
            "|T1566.002                |814308 |\n",
            "|T1566                    |659591 |\n",
            "|T1133                    |145579 |\n",
            "|T1566.001                |136892 |\n",
            "|T1110;T1110.003;T1110.001|88661  |\n",
            "|T1087;T1087.002          |54564  |\n",
            "|T1110                    |41768  |\n",
            "|T1078;T1098              |40342  |\n",
            "|T1559;T1106;T1059.005    |37869  |\n",
            "+-------------------------+-------+\n",
            "only showing top 10 rows\n",
            "\n"
          ]
        }
      ]
    },
    {
      "cell_type": "code",
      "source": [
        "from pyspark.sql.functions import col, count\n",
        "\n",
        "top_attacks = (\n",
        "    df.filter(df.MitreTechniques.isNotNull())\n",
        "    .groupBy(\"MitreTechniques\")\n",
        "    .agg(count(\"*\").alias(\"count\"))\n",
        "    .orderBy(col(\"count\").desc())\n",
        "    .limit(10)\n",
        ")\n",
        "\n",
        "df_filtered = df.join(top_attacks, on=\"MitreTechniques\", how=\"inner\")\n",
        "df_filtered.stat.crosstab(\"MitreTechniques\", \"IncidentGrade\").show(truncate=False)"
      ],
      "metadata": {
        "colab": {
          "base_uri": "https://localhost:8080/"
        },
        "id": "HKBUzqd8-PkK",
        "outputId": "0976e9a7-a284-4a4f-c848-7ccaadf4c389"
      },
      "execution_count": null,
      "outputs": [
        {
          "output_type": "stream",
          "name": "stdout",
          "text": [
            "+-----------------------------+--------------+-------------+------------+----+\n",
            "|MitreTechniques_IncidentGrade|BenignPositive|FalsePositive|TruePositive|null|\n",
            "+-----------------------------+--------------+-------------+------------+----+\n",
            "|T1078;T1078.004              |35897         |308347       |1009935     |725 |\n",
            "|T1087;T1087.002              |23935         |21831        |8782        |16  |\n",
            "|T1566                        |346566        |167763       |141964      |3298|\n",
            "|T1110;T1110.003;T1110.001    |1549          |3102         |84002       |8   |\n",
            "|T1133                        |19124         |126455       |0           |0   |\n",
            "|T1559;T1106;T1059.005        |37869         |0            |0           |0   |\n",
            "|T1566.001                    |90698         |7398         |38792       |4   |\n",
            "|T1566.002                    |391993        |128955       |292731      |629 |\n",
            "|T1078;T1098                  |35268         |3721         |1341        |12  |\n",
            "|T1110                        |24047         |7081         |10604       |36  |\n",
            "+-----------------------------+--------------+-------------+------------+----+\n",
            "\n"
          ]
        }
      ]
    },
    {
      "cell_type": "markdown",
      "source": [
        "I will be looking into these further for the final report."
      ],
      "metadata": {
        "id": "PTXLRu7RxZVS"
      }
    },
    {
      "cell_type": "code",
      "source": [],
      "metadata": {
        "id": "xutYVoMixoo2"
      },
      "execution_count": null,
      "outputs": []
    }
  ]
}