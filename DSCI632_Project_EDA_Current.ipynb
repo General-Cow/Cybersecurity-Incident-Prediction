{
  "nbformat": 4,
  "nbformat_minor": 0,
  "metadata": {
    "colab": {
      "provenance": [],
      "collapsed_sections": [
        "6KBsNH-nXqiK",
        "NMBh_e7mLthz",
        "PQi_H3HqWtO7",
        "AapHoaigXM01"
      ]
    },
    "kernelspec": {
      "name": "python3",
      "display_name": "Python 3"
    },
    "language_info": {
      "name": "python"
    }
  },
  "cells": [
    {
      "cell_type": "markdown",
      "source": [
        "# Cybersecurity Incident Prediction EDA for DSCI632 Project\n",
        "\n",
        "David Blankenship: dwb65@drexel.edu\n",
        "\n",
        "\n",
        "Current Goals:\n",
        "- get plots for features\n",
        "- Set up hyperparam tuning\n",
        "- Run the model\n",
        "- try GCP, if that fails try here, if that fails subsample."
      ],
      "metadata": {
        "id": "v-fb5HQJW1Jt"
      }
    },
    {
      "cell_type": "code",
      "execution_count": 11,
      "metadata": {
        "id": "ci-Y1SkBW_68",
        "colab": {
          "base_uri": "https://localhost:8080/"
        },
        "outputId": "2f69bc49-df07-4e24-afdd-95730e49706c"
      },
      "outputs": [
        {
          "output_type": "stream",
          "name": "stdout",
          "text": [
            "Mounted at /content/gdrive\n"
          ]
        }
      ],
      "source": [
        "from google.colab import drive\n",
        "drive.mount('/content/gdrive')\n",
        "\n",
        "from pyspark.sql.functions import col, mean, min, max, count\n",
        "import matplotlib.pyplot as plt\n",
        "\n",
        "from pyspark.sql import SparkSession\n",
        "\n",
        "spark = SparkSession.builder.appName('SparkByExamples.com').getOrCreate()"
      ]
    },
    {
      "cell_type": "code",
      "source": [
        "df = spark.read.csv('/content/gdrive/MyDrive/GUIDE_Train.csv', header=True, inferSchema = True)\n",
        "df.show(5)"
      ],
      "metadata": {
        "id": "ubNnaGDjYRNE",
        "colab": {
          "base_uri": "https://localhost:8080/"
        },
        "outputId": "b89cc715-5c83-4fab-f044-a6d67bbfacd8"
      },
      "execution_count": 12,
      "outputs": [
        {
          "output_type": "stream",
          "name": "stdout",
          "text": [
            "+-------------+-----+----------+-------+-------------------+----------+----------+-----------------+---------------+--------------+-------------+--------------+----------+------------+--------+------+---------+------+----------+----------+---------------+-----------+----------+----------------+--------------+-----------+-----------------+-----------------+-------------+---------------+------------------+------------+--------+----------+--------------+------------+-----+--------+---------+-----------------+--------------+-----------+-----------+-----+-----+\n",
            "|           Id|OrgId|IncidentId|AlertId|          Timestamp|DetectorId|AlertTitle|         Category|MitreTechniques| IncidentGrade|ActionGrouped|ActionGranular|EntityType|EvidenceRole|DeviceId|Sha256|IpAddress|   Url|AccountSid|AccountUpn|AccountObjectId|AccountName|DeviceName|NetworkMessageId|EmailClusterId|RegistryKey|RegistryValueName|RegistryValueData|ApplicationId|ApplicationName|OAuthApplicationId|ThreatFamily|FileName|FolderPath|ResourceIdName|ResourceType|Roles|OSFamily|OSVersion|AntispamDirection|SuspicionLevel|LastVerdict|CountryCode|State| City|\n",
            "+-------------+-----+----------+-------+-------------------+----------+----------+-----------------+---------------+--------------+-------------+--------------+----------+------------+--------+------+---------+------+----------+----------+---------------+-----------+----------+----------------+--------------+-----------+-----------------+-----------------+-------------+---------------+------------------+------------+--------+----------+--------------+------------+-----+--------+---------+-----------------+--------------+-----------+-----------+-----+-----+\n",
            "| 180388628218|    0|       612| 123247|2024-06-04 06:05:15|         7|         6|    InitialAccess|           NULL|  TruePositive|         NULL|          NULL|        Ip|     Related|   98799|138268|       27|160396|    441377|    673934|         425863|     453297|    153085|          529644|          NULL|       1631|              635|              860|         2251|           3421|               881|        NULL|  289573|    117668|          3586|        NULL| NULL|       5|       66|             NULL|          NULL|       NULL|         31|    6|    3|\n",
            "| 455266534868|   88|       326| 210035|2024-06-14 03:01:25|        58|        43|     Exfiltration|           NULL| FalsePositive|         NULL|          NULL|      User|    Impacted|   98799|138268|   360606|160396|     22406|     23032|          22795|      24887|    153085|          529644|          NULL|       1631|              635|              860|         2251|           3421|               881|        NULL|  289573|    117668|          3586|        NULL| NULL|       5|       66|             NULL|          NULL|       NULL|        242| 1445|10630|\n",
            "|1056561957389|  809|     58352| 712507|2024-06-13 04:52:55|       423|       298|    InitialAccess|          T1189| FalsePositive|         NULL|          NULL|       Url|     Related|   98799|138268|   360606| 68652|    441377|    673934|         425863|     453297|    153085|          529644|          NULL|       1631|              635|              860|         2251|           3421|               881|        NULL|  289573|    117668|          3586|        NULL| NULL|       5|       66|             NULL|    Suspicious| Suspicious|        242| 1445|10630|\n",
            "|1279900258736|   92|     32992| 774301|2024-06-10 16:39:36|         2|         2|CommandAndControl|           NULL|BenignPositive|         NULL|          NULL|       Url|     Related|   98799|138268|   360606|    13|    441377|    673934|         425863|     453297|    153085|          529644|          NULL|       1631|              635|              860|         2251|           3421|               881|        NULL|  289573|    117668|          3586|        NULL| NULL|       5|       66|             NULL|    Suspicious| Suspicious|        242| 1445|10630|\n",
            "| 214748368522|  148|      4359| 188041|2024-06-15 01:08:07|         9|        74|        Execution|           NULL|  TruePositive|         NULL|          NULL|      User|    Impacted|   98799|138268|   360606|160396|       449|       592|            440|        479|    153085|          529644|          NULL|       1631|              635|              860|         2251|           3421|               881|        NULL|  289573|    117668|          3586|        NULL| NULL|       5|       66|             NULL|          NULL|       NULL|        242| 1445|10630|\n",
            "+-------------+-----+----------+-------+-------------------+----------+----------+-----------------+---------------+--------------+-------------+--------------+----------+------------+--------+------+---------+------+----------+----------+---------------+-----------+----------+----------------+--------------+-----------+-----------------+-----------------+-------------+---------------+------------------+------------+--------+----------+--------------+------------+-----+--------+---------+-----------------+--------------+-----------+-----------+-----+-----+\n",
            "only showing top 5 rows\n",
            "\n"
          ]
        }
      ]
    },
    {
      "cell_type": "markdown",
      "source": [
        "## Initial Inspection/Preprocessing"
      ],
      "metadata": {
        "id": "RGhZVlxIW3gh"
      }
    },
    {
      "cell_type": "code",
      "source": [
        "print('Data Shape: ', (df.count(), len(df.columns)))"
      ],
      "metadata": {
        "colab": {
          "base_uri": "https://localhost:8080/"
        },
        "id": "Rp9GPL4ZxIe2",
        "outputId": "f3936410-83b8-4bf5-c71c-09b2b1e9057b"
      },
      "execution_count": null,
      "outputs": [
        {
          "output_type": "stream",
          "name": "stdout",
          "text": [
            "Data Shape:  (9516837, 45)\n"
          ]
        }
      ]
    },
    {
      "cell_type": "code",
      "source": [
        "df.printSchema()"
      ],
      "metadata": {
        "colab": {
          "base_uri": "https://localhost:8080/"
        },
        "id": "cHsArVTTsUSu",
        "outputId": "b1bb7e35-5b46-471d-e79e-dede48cfd607"
      },
      "execution_count": null,
      "outputs": [
        {
          "output_type": "stream",
          "name": "stdout",
          "text": [
            "root\n",
            " |-- Id: long (nullable = true)\n",
            " |-- OrgId: integer (nullable = true)\n",
            " |-- IncidentId: integer (nullable = true)\n",
            " |-- AlertId: integer (nullable = true)\n",
            " |-- Timestamp: timestamp (nullable = true)\n",
            " |-- DetectorId: integer (nullable = true)\n",
            " |-- AlertTitle: integer (nullable = true)\n",
            " |-- Category: string (nullable = true)\n",
            " |-- MitreTechniques: string (nullable = true)\n",
            " |-- IncidentGrade: string (nullable = true)\n",
            " |-- ActionGrouped: string (nullable = true)\n",
            " |-- ActionGranular: string (nullable = true)\n",
            " |-- EntityType: string (nullable = true)\n",
            " |-- EvidenceRole: string (nullable = true)\n",
            " |-- DeviceId: integer (nullable = true)\n",
            " |-- Sha256: integer (nullable = true)\n",
            " |-- IpAddress: integer (nullable = true)\n",
            " |-- Url: integer (nullable = true)\n",
            " |-- AccountSid: integer (nullable = true)\n",
            " |-- AccountUpn: integer (nullable = true)\n",
            " |-- AccountObjectId: integer (nullable = true)\n",
            " |-- AccountName: integer (nullable = true)\n",
            " |-- DeviceName: integer (nullable = true)\n",
            " |-- NetworkMessageId: integer (nullable = true)\n",
            " |-- EmailClusterId: double (nullable = true)\n",
            " |-- RegistryKey: integer (nullable = true)\n",
            " |-- RegistryValueName: integer (nullable = true)\n",
            " |-- RegistryValueData: integer (nullable = true)\n",
            " |-- ApplicationId: integer (nullable = true)\n",
            " |-- ApplicationName: integer (nullable = true)\n",
            " |-- OAuthApplicationId: integer (nullable = true)\n",
            " |-- ThreatFamily: string (nullable = true)\n",
            " |-- FileName: integer (nullable = true)\n",
            " |-- FolderPath: integer (nullable = true)\n",
            " |-- ResourceIdName: integer (nullable = true)\n",
            " |-- ResourceType: string (nullable = true)\n",
            " |-- Roles: string (nullable = true)\n",
            " |-- OSFamily: integer (nullable = true)\n",
            " |-- OSVersion: integer (nullable = true)\n",
            " |-- AntispamDirection: string (nullable = true)\n",
            " |-- SuspicionLevel: string (nullable = true)\n",
            " |-- LastVerdict: string (nullable = true)\n",
            " |-- CountryCode: integer (nullable = true)\n",
            " |-- State: integer (nullable = true)\n",
            " |-- City: integer (nullable = true)\n",
            "\n"
          ]
        }
      ]
    },
    {
      "cell_type": "code",
      "source": [
        "df.columns"
      ],
      "metadata": {
        "colab": {
          "base_uri": "https://localhost:8080/"
        },
        "id": "et45MGoy2X-Q",
        "outputId": "ee81088b-50ed-474c-c5cf-ae6723a5cebd"
      },
      "execution_count": null,
      "outputs": [
        {
          "output_type": "execute_result",
          "data": {
            "text/plain": [
              "['Id',\n",
              " 'OrgId',\n",
              " 'IncidentId',\n",
              " 'AlertId',\n",
              " 'Timestamp',\n",
              " 'DetectorId',\n",
              " 'AlertTitle',\n",
              " 'Category',\n",
              " 'MitreTechniques',\n",
              " 'IncidentGrade',\n",
              " 'ActionGrouped',\n",
              " 'ActionGranular',\n",
              " 'EntityType',\n",
              " 'EvidenceRole',\n",
              " 'DeviceId',\n",
              " 'Sha256',\n",
              " 'IpAddress',\n",
              " 'Url',\n",
              " 'AccountSid',\n",
              " 'AccountUpn',\n",
              " 'AccountObjectId',\n",
              " 'AccountName',\n",
              " 'DeviceName',\n",
              " 'NetworkMessageId',\n",
              " 'EmailClusterId',\n",
              " 'RegistryKey',\n",
              " 'RegistryValueName',\n",
              " 'RegistryValueData',\n",
              " 'ApplicationId',\n",
              " 'ApplicationName',\n",
              " 'OAuthApplicationId',\n",
              " 'ThreatFamily',\n",
              " 'FileName',\n",
              " 'FolderPath',\n",
              " 'ResourceIdName',\n",
              " 'ResourceType',\n",
              " 'Roles',\n",
              " 'OSFamily',\n",
              " 'OSVersion',\n",
              " 'AntispamDirection',\n",
              " 'SuspicionLevel',\n",
              " 'LastVerdict',\n",
              " 'CountryCode',\n",
              " 'State',\n",
              " 'City']"
            ]
          },
          "metadata": {},
          "execution_count": 18
        }
      ]
    },
    {
      "cell_type": "code",
      "source": [
        "df.groupBy('IncidentGrade').count().show()"
      ],
      "metadata": {
        "colab": {
          "base_uri": "https://localhost:8080/"
        },
        "id": "mbe46HSQw9kq",
        "outputId": "6c721ad7-9940-4a0a-ad4c-4ac9c588e89a"
      },
      "execution_count": null,
      "outputs": [
        {
          "output_type": "stream",
          "name": "stdout",
          "text": [
            "+--------------+-------+\n",
            "| IncidentGrade|  count|\n",
            "+--------------+-------+\n",
            "|          NULL|  51340|\n",
            "|BenignPositive|4110817|\n",
            "| FalsePositive|2031967|\n",
            "|  TruePositive|3322713|\n",
            "+--------------+-------+\n",
            "\n"
          ]
        }
      ]
    },
    {
      "cell_type": "code",
      "source": [
        "51340/9516837 * 100"
      ],
      "metadata": {
        "colab": {
          "base_uri": "https://localhost:8080/"
        },
        "id": "xiMgXSf_x1nL",
        "outputId": "393eefba-57f0-45b3-8d18-8d6f00aaece4"
      },
      "execution_count": null,
      "outputs": [
        {
          "output_type": "execute_result",
          "data": {
            "text/plain": [
              "0.539464950382149"
            ]
          },
          "metadata": {},
          "execution_count": 17
        }
      ]
    },
    {
      "cell_type": "markdown",
      "source": [
        "We see that the nulls in the target is 0.5% of the overall dataset. As the dataset is already enormous I will probably just be dropping these."
      ],
      "metadata": {
        "id": "HTKguoCTyLIe"
      }
    },
    {
      "cell_type": "code",
      "source": [
        "df.filter(df.IncidentGrade.isNull()).count()"
      ],
      "metadata": {
        "colab": {
          "base_uri": "https://localhost:8080/"
        },
        "id": "0aGaXuGFyGzr",
        "outputId": "e02f2377-77ab-4c12-96e1-f87a4c3c3118"
      },
      "execution_count": null,
      "outputs": [
        {
          "output_type": "execute_result",
          "data": {
            "text/plain": [
              "51340"
            ]
          },
          "metadata": {},
          "execution_count": 20
        }
      ]
    },
    {
      "cell_type": "markdown",
      "source": [
        "### Missing Data Inspection"
      ],
      "metadata": {
        "id": "6KBsNH-nXqiK"
      }
    },
    {
      "cell_type": "code",
      "source": [
        "from pyspark.sql.functions import col, sum\n",
        "\n",
        "null_counts = df.select([sum(col(c).isNull().cast(\"int\")).alias(c) for c in df.columns])\n",
        "null_counts.show()"
      ],
      "metadata": {
        "colab": {
          "base_uri": "https://localhost:8080/"
        },
        "id": "A31oVMiy3Hgn",
        "outputId": "918275e7-9abb-4c04-dc8c-cc54c906af71"
      },
      "execution_count": null,
      "outputs": [
        {
          "output_type": "stream",
          "name": "stdout",
          "text": [
            "+---+-----+----------+-------+---------+----------+----------+--------+---------------+-------------+-------------+--------------+----------+------------+--------+------+---------+---+----------+----------+---------------+-----------+----------+----------------+--------------+-----------+-----------------+-----------------+-------------+---------------+------------------+------------+--------+----------+--------------+------------+-------+--------+---------+-----------------+--------------+-----------+-----------+-----+----+\n",
            "| Id|OrgId|IncidentId|AlertId|Timestamp|DetectorId|AlertTitle|Category|MitreTechniques|IncidentGrade|ActionGrouped|ActionGranular|EntityType|EvidenceRole|DeviceId|Sha256|IpAddress|Url|AccountSid|AccountUpn|AccountObjectId|AccountName|DeviceName|NetworkMessageId|EmailClusterId|RegistryKey|RegistryValueName|RegistryValueData|ApplicationId|ApplicationName|OAuthApplicationId|ThreatFamily|FileName|FolderPath|ResourceIdName|ResourceType|  Roles|OSFamily|OSVersion|AntispamDirection|SuspicionLevel|LastVerdict|CountryCode|State|City|\n",
            "+---+-----+----------+-------+---------+----------+----------+--------+---------------+-------------+-------------+--------------+----------+------------+--------+------+---------+---+----------+----------+---------------+-----------+----------+----------------+--------------+-----------+-----------------+-----------------+-------------+---------------+------------------+------------+--------+----------+--------------+------------+-------+--------+---------+-----------------+--------------+-----------+-----------+-----+----+\n",
            "|  0|    0|         0|      0|        0|         0|         0|       0|        5468386|        51340|      9460773|       9460773|         0|           0|       0|     0|        0|  0|         0|         0|              0|          0|         0|               0|       9420025|          0|                0|                0|            0|              0|                 0|     9441956|       0|         0|             0|     9509762|9298686|       0|        0|          9339535|       8072708|    7282572|          0|    0|   0|\n",
            "+---+-----+----------+-------+---------+----------+----------+--------+---------------+-------------+-------------+--------------+----------+------------+--------+------+---------+---+----------+----------+---------------+-----------+----------+----------------+--------------+-----------+-----------------+-----------------+-------------+---------------+------------------+------------+--------+----------+--------------+------------+-------+--------+---------+-----------------+--------------+-----------+-----------+-----+----+\n",
            "\n"
          ]
        }
      ]
    },
    {
      "cell_type": "markdown",
      "source": [
        "MitreTechniques, ActionGrouped, ActionGranular, EmailClusterId, ThreatFamily, ResourceType, Roles, AntispamDirection, SuspicionLevel, and LastVerdict lack enough data that I will be dropping these columns. I will look at MitreTechniques first.\n",
        "\n",
        "Otherwise the dataset is mostly good aside from the target nulls we saw earlier."
      ],
      "metadata": {
        "id": "bVrLkNRx4mlJ"
      }
    },
    {
      "cell_type": "code",
      "source": [
        "missing_cols = ['MitreTechniques', 'ActionGrouped', 'ActionGranular', 'EmailClusterId', 'ThreatFamily', 'ResourceType', 'Roles', 'AntispamDirection', 'SuspicionLevel', 'LastVerdict', 'IncidentGrade']\n",
        "\n",
        "for c in missing_cols:\n",
        "  print(c, \": \", df.filter(df[c].isNull()).count())"
      ],
      "metadata": {
        "colab": {
          "base_uri": "https://localhost:8080/"
        },
        "id": "il9Z2INij-om",
        "outputId": "4cb72de2-8e20-43d6-fce7-c1b3629f98e0"
      },
      "execution_count": 13,
      "outputs": [
        {
          "output_type": "stream",
          "name": "stdout",
          "text": [
            "MitreTechniques :  5468386\n",
            "ActionGrouped :  9460773\n",
            "ActionGranular :  9460773\n",
            "EmailClusterId :  9420025\n",
            "ThreatFamily :  9441956\n",
            "ResourceType :  9509762\n",
            "Roles :  9298686\n",
            "AntispamDirection :  9339535\n",
            "SuspicionLevel :  8072708\n",
            "LastVerdict :  7282572\n",
            "IncidentGrade :  51340\n"
          ]
        }
      ]
    },
    {
      "cell_type": "code",
      "source": [
        "for c in missing_cols:\n",
        "  print(c, \" Missing Percent: \", (df.filter(df[c].isNull()).count()/df.count()) * 100)"
      ],
      "metadata": {
        "colab": {
          "base_uri": "https://localhost:8080/"
        },
        "id": "kUr7hNKHlekP",
        "outputId": "3be808ff-b280-47ac-9a8e-21bd5cce789f"
      },
      "execution_count": 15,
      "outputs": [
        {
          "output_type": "stream",
          "name": "stdout",
          "text": [
            "MitreTechniques  Missing Percent:  57.4601204160584\n",
            "ActionGrouped  Missing Percent:  99.41089670864385\n",
            "ActionGranular  Missing Percent:  99.41089670864385\n",
            "EmailClusterId  Missing Percent:  98.98272924081814\n",
            "ThreatFamily  Missing Percent:  99.21317345248217\n",
            "ResourceType  Missing Percent:  99.92565807316024\n",
            "Roles  Missing Percent:  97.7077362993608\n",
            "AntispamDirection  Missing Percent:  98.1369650441633\n",
            "SuspicionLevel  Missing Percent:  84.8255360473233\n",
            "LastVerdict  Missing Percent:  76.52302965785796\n",
            "IncidentGrade  Missing Percent:  0.539464950382149\n"
          ]
        }
      ]
    },
    {
      "cell_type": "code",
      "source": [
        "df.groupBy('MitreTechniques').count().orderBy('count', ascending=False).show()"
      ],
      "metadata": {
        "colab": {
          "base_uri": "https://localhost:8080/"
        },
        "id": "WhMb6gkT3xX4",
        "outputId": "7ebb8e86-6fee-48b5-e4a2-0c20741e65ba"
      },
      "execution_count": null,
      "outputs": [
        {
          "output_type": "stream",
          "name": "stdout",
          "text": [
            "+--------------------+-------+\n",
            "|     MitreTechniques|  count|\n",
            "+--------------------+-------+\n",
            "|                NULL|5468386|\n",
            "|     T1078;T1078.004|1354904|\n",
            "|           T1566.002| 814308|\n",
            "|               T1566| 659591|\n",
            "|               T1133| 145579|\n",
            "|           T1566.001| 136892|\n",
            "|T1110;T1110.003;T...|  88661|\n",
            "|     T1087;T1087.002|  54564|\n",
            "|               T1110|  41768|\n",
            "|         T1078;T1098|  40342|\n",
            "|T1559;T1106;T1059...|  37869|\n",
            "|   T1046;T1071;T1210|  34229|\n",
            "|         T1568;T1008|  33335|\n",
            "|         T1110;T1078|  31570|\n",
            "|         T1190;T1133|  31379|\n",
            "|T1046;T1030;T1071...|  28769|\n",
            "|               T1078|  27371|\n",
            "|T1003;T1012;T1552...|  22170|\n",
            "|               T1190|  20214|\n",
            "|         T1071;T1048|  19526|\n",
            "+--------------------+-------+\n",
            "only showing top 20 rows\n",
            "\n"
          ]
        }
      ]
    },
    {
      "cell_type": "markdown",
      "source": [
        "MITRE Techniques are a categorization of the specific methods involved in the cybersecurity incident.\n",
        "\n",
        "https://attack.mitre.org/techniques/T1078/\n",
        "\n",
        "The most common non-null value is a T1078 incident, which is an incident involving valid accounts. T1078.004 in particular is a cloud account which I find hilariously relevant to this class.\n",
        "\n",
        "While valuable information the high volume of missing data likely means it has to be dropped. I am extremely torn on this though and suspect it would be best for future work. I will return to this and do some analysis on this column\n",
        "\n"
      ],
      "metadata": {
        "id": "Nbz1e8-L7CH3"
      }
    },
    {
      "cell_type": "code",
      "source": [
        "df.dtypes"
      ],
      "metadata": {
        "colab": {
          "base_uri": "https://localhost:8080/"
        },
        "id": "sCLcBegSe2xp",
        "outputId": "d652e55a-1a23-410c-dfe2-6690c0bd837a"
      },
      "execution_count": null,
      "outputs": [
        {
          "output_type": "execute_result",
          "data": {
            "text/plain": [
              "[('Id', 'bigint'),\n",
              " ('OrgId', 'int'),\n",
              " ('IncidentId', 'int'),\n",
              " ('AlertId', 'int'),\n",
              " ('Timestamp', 'timestamp'),\n",
              " ('DetectorId', 'int'),\n",
              " ('AlertTitle', 'int'),\n",
              " ('Category', 'string'),\n",
              " ('MitreTechniques', 'string'),\n",
              " ('IncidentGrade', 'string'),\n",
              " ('ActionGrouped', 'string'),\n",
              " ('ActionGranular', 'string'),\n",
              " ('EntityType', 'string'),\n",
              " ('EvidenceRole', 'string'),\n",
              " ('DeviceId', 'int'),\n",
              " ('Sha256', 'int'),\n",
              " ('IpAddress', 'int'),\n",
              " ('Url', 'int'),\n",
              " ('AccountSid', 'int'),\n",
              " ('AccountUpn', 'int'),\n",
              " ('AccountObjectId', 'int'),\n",
              " ('AccountName', 'int'),\n",
              " ('DeviceName', 'int'),\n",
              " ('NetworkMessageId', 'int'),\n",
              " ('EmailClusterId', 'double'),\n",
              " ('RegistryKey', 'int'),\n",
              " ('RegistryValueName', 'int'),\n",
              " ('RegistryValueData', 'int'),\n",
              " ('ApplicationId', 'int'),\n",
              " ('ApplicationName', 'int'),\n",
              " ('OAuthApplicationId', 'int'),\n",
              " ('ThreatFamily', 'string'),\n",
              " ('FileName', 'int'),\n",
              " ('FolderPath', 'int'),\n",
              " ('ResourceIdName', 'int'),\n",
              " ('ResourceType', 'string'),\n",
              " ('Roles', 'string'),\n",
              " ('OSFamily', 'int'),\n",
              " ('OSVersion', 'int'),\n",
              " ('AntispamDirection', 'string'),\n",
              " ('SuspicionLevel', 'string'),\n",
              " ('LastVerdict', 'string'),\n",
              " ('CountryCode', 'int'),\n",
              " ('State', 'int'),\n",
              " ('City', 'int')]"
            ]
          },
          "metadata": {},
          "execution_count": 4
        }
      ]
    },
    {
      "cell_type": "markdown",
      "source": [
        "\n",
        " 'Category', 'MitreTechniques', 'IncidentGrade', 'ActionGrouped',\n",
        " 'ActionGranular', 'EntityType', 'EvidenceRole', 'ThreatFamily',\n",
        " 'ResourceType', 'Roles', 'AntispamDirection', 'SuspicionLevel',\n",
        " 'LastVerdict'\n",
        "\n",
        "Now while these are the strings it seems like a lot of these even nominally int values are actually categoricals. Need to look into this."
      ],
      "metadata": {
        "id": "gfrNqkxhhAQJ"
      }
    },
    {
      "cell_type": "code",
      "source": [
        "for f in df.columns:\n",
        "  value = df.select(f).distinct().count()\n",
        "  print(f, \": \", str(value), \" unique values\")"
      ],
      "metadata": {
        "id": "vC_2EfzL6j_V",
        "colab": {
          "base_uri": "https://localhost:8080/"
        },
        "outputId": "213d39c6-810b-45f2-c9f6-20871d7d7aaf"
      },
      "execution_count": null,
      "outputs": [
        {
          "output_type": "stream",
          "name": "stdout",
          "text": [
            "Id :  730778  unique values\n",
            "OrgId :  5769  unique values\n",
            "IncidentId :  466151  unique values\n",
            "AlertId :  1265644  unique values\n",
            "Timestamp :  760944  unique values\n",
            "DetectorId :  8428  unique values\n",
            "AlertTitle :  86149  unique values\n",
            "Category :  20  unique values\n",
            "MitreTechniques :  1194  unique values\n",
            "IncidentGrade :  4  unique values\n",
            "ActionGrouped :  4  unique values\n",
            "ActionGranular :  17  unique values\n",
            "EntityType :  33  unique values\n",
            "EvidenceRole :  2  unique values\n",
            "DeviceId :  75826  unique values\n",
            "Sha256 :  106416  unique values\n",
            "IpAddress :  285957  unique values\n",
            "Url :  123252  unique values\n",
            "AccountSid :  358401  unique values\n",
            "AccountUpn :  530183  unique values\n",
            "AccountObjectId :  343516  unique values\n",
            "AccountName :  368250  unique values\n",
            "DeviceName :  114541  unique values\n",
            "NetworkMessageId :  375196  unique values\n",
            "EmailClusterId :  26475  unique values\n",
            "RegistryKey :  1341  unique values\n",
            "RegistryValueName :  525  unique values\n",
            "RegistryValueData :  699  unique values\n",
            "ApplicationId :  1728  unique values\n",
            "ApplicationName :  2681  unique values\n",
            "OAuthApplicationId :  703  unique values\n",
            "ThreatFamily :  1746  unique values\n",
            "FileName :  222085  unique values\n",
            "FolderPath :  87832  unique values\n",
            "ResourceIdName :  2309  unique values\n",
            "ResourceType :  26  unique values\n",
            "Roles :  11  unique values\n",
            "OSFamily :  6  unique values\n",
            "OSVersion :  58  unique values\n",
            "AntispamDirection :  6  unique values\n",
            "SuspicionLevel :  3  unique values\n",
            "LastVerdict :  6  unique values\n",
            "CountryCode :  236  unique values\n",
            "State :  1368  unique values\n",
            "City :  9342  unique values\n"
          ]
        }
      ]
    },
    {
      "cell_type": "markdown",
      "source": [
        "## Test Set Inspection\n",
        "Looking at basic features of test set to ensure no issues and verify any need for further data cleaning.\n"
      ],
      "metadata": {
        "id": "NMBh_e7mLthz"
      }
    },
    {
      "cell_type": "code",
      "source": [
        "df_test = spark.read.csv('/content/gdrive/MyDrive/GUIDE_Test.csv', header=True, inferSchema = True)\n",
        "df_test.show(5)"
      ],
      "metadata": {
        "colab": {
          "base_uri": "https://localhost:8080/"
        },
        "id": "V-ZSoOgoLxP_",
        "outputId": "fb6813a4-c777-428c-d6f3-96f023ea5f2e"
      },
      "execution_count": null,
      "outputs": [
        {
          "output_type": "stream",
          "name": "stdout",
          "text": [
            "+-------------+-----+----------+-------+-------------------+----------+----------+-----------------+--------------------+--------------+-------------+--------------+-----------------+------------+--------+------+---------+------+----------+----------+---------------+-----------+----------+----------------+--------------+-----------+-----------------+-----------------+-------------+---------------+------------------+------------+--------+----------+--------------+------------+----------+--------+---------+-----------------+--------------+-----------+-----------+-----+-----+-------+\n",
            "|           Id|OrgId|IncidentId|AlertId|          Timestamp|DetectorId|AlertTitle|         Category|     MitreTechniques| IncidentGrade|ActionGrouped|ActionGranular|       EntityType|EvidenceRole|DeviceId|Sha256|IpAddress|   Url|AccountSid|AccountUpn|AccountObjectId|AccountName|DeviceName|NetworkMessageId|EmailClusterId|RegistryKey|RegistryValueName|RegistryValueData|ApplicationId|ApplicationName|OAuthApplicationId|ThreatFamily|FileName|FolderPath|ResourceIdName|ResourceType|     Roles|OSFamily|OSVersion|AntispamDirection|SuspicionLevel|LastVerdict|CountryCode|State| City|  Usage|\n",
            "+-------------+-----+----------+-------+-------------------+----------+----------+-----------------+--------------------+--------------+-------------+--------------+-----------------+------------+--------+------+---------+------+----------+----------+---------------+-----------+----------+----------------+--------------+-----------+-----------------+-----------------+-------------+---------------+------------------+------------+--------+----------+--------------+------------+----------+--------+---------+-----------------+--------------+-----------+-----------+-----+-----+-------+\n",
            "|1245540519230|  657|     11767|  87199|2024-06-04 22:56:27|       524|       563|  LateralMovement|T1021;T1047;T1105...|BenignPositive|         NULL|          NULL|             User|    Impacted|   98799|138268|   360606|160396|      2610|      3699|         425863|        863|    153085|          529644|          NULL|       1631|              635|              860|         2251|           3421|               881|        NULL|  289573|    117668|          3586|        NULL|      NULL|       5|       66|             NULL|    Suspicious| Suspicious|        242| 1445|10630|Private|\n",
            "|1400159342154|    3|     91158| 632273|2024-06-03 12:58:26|         2|         2|CommandAndControl|                NULL|BenignPositive|         NULL|          NULL|          Machine|    Impacted|    1239|138268|   360606|160396|    441377|    673934|         425863|     453297|      2833|          529644|          NULL|       1631|              635|              860|         2251|           3421|               881|        NULL|  289573|    117668|          3586|        NULL|      NULL|       0|        0|             NULL|    Suspicious| Suspicious|        242| 1445|10630| Public|\n",
            "|1279900255923|  145|     32247| 131719|2024-06-08 03:20:49|      2932|     10807|  LateralMovement|T1021;T1027.002;T...|BenignPositive|         NULL|          NULL|          Process|     Related|   98799|  4296|   360606|160396|    441377|    673934|         425863|     453297|    153085|          529644|          NULL|       1631|              635|              860|         2251|           3421|               881|        NULL|      14|        22|          3586|        NULL|      NULL|       5|       66|             NULL|    Suspicious| Suspicious|        242| 1445|10630| Public|\n",
            "|  60129547292|  222|     15294| 917686|2024-06-12 12:07:31|         0|         0|    InitialAccess|     T1078;T1078.004| FalsePositive|         NULL|          NULL|CloudLogonSession|     Related|   98799|138268|   360606|160396|    441377|    673934|         425863|     453297|    153085|          529644|          NULL|       1631|              635|              860|         2251|           3421|               881|        NULL|  289573|    117668|          3586|        NULL|      NULL|       5|       66|             NULL|          NULL|       NULL|        242| 1445|10630| Public|\n",
            "| 515396080539|  363|      7615|   5944|2024-06-06 17:42:05|        27|        18|        Discovery|     T1087;T1087.002|BenignPositive|         NULL|          NULL|             User|    Impacted|   98799|138268|   360606|160396|    133549|    673934|         425863|     136104|    153085|          529644|          NULL|       1631|              635|              860|         2251|           3421|               881|        NULL|  289573|    117668|          3586|        NULL|Suspicious|       5|       66|             NULL|          NULL|       NULL|        242| 1445|10630| Public|\n",
            "+-------------+-----+----------+-------+-------------------+----------+----------+-----------------+--------------------+--------------+-------------+--------------+-----------------+------------+--------+------+---------+------+----------+----------+---------------+-----------+----------+----------------+--------------+-----------+-----------------+-----------------+-------------+---------------+------------------+------------+--------+----------+--------------+------------+----------+--------+---------+-----------------+--------------+-----------+-----------+-----+-----+-------+\n",
            "only showing top 5 rows\n",
            "\n"
          ]
        }
      ]
    },
    {
      "cell_type": "code",
      "source": [
        "print('Data Shape: ', (df_test.count(), len(df_test.columns)))"
      ],
      "metadata": {
        "colab": {
          "base_uri": "https://localhost:8080/"
        },
        "id": "SbBzfRjFMRDt",
        "outputId": "3a084a8a-e482-4e5d-f4d8-6efb43358f81"
      },
      "execution_count": null,
      "outputs": [
        {
          "output_type": "stream",
          "name": "stdout",
          "text": [
            "Data Shape:  (4147992, 46)\n"
          ]
        }
      ]
    },
    {
      "cell_type": "code",
      "source": [
        "4147992/(9516837+4147992)"
      ],
      "metadata": {
        "colab": {
          "base_uri": "https://localhost:8080/"
        },
        "id": "eJVFG_otcsIi",
        "outputId": "67885d07-6683-4980-a6f5-14eec24e5ce5"
      },
      "execution_count": 2,
      "outputs": [
        {
          "output_type": "execute_result",
          "data": {
            "text/plain": [
              "0.30355242645187874"
            ]
          },
          "metadata": {},
          "execution_count": 2
        }
      ]
    },
    {
      "cell_type": "code",
      "source": [
        "df_test.printSchema()"
      ],
      "metadata": {
        "colab": {
          "base_uri": "https://localhost:8080/"
        },
        "id": "36LDkluHMWMo",
        "outputId": "79eaf966-d620-46d7-e30c-d64dd3d65395"
      },
      "execution_count": null,
      "outputs": [
        {
          "output_type": "stream",
          "name": "stdout",
          "text": [
            "root\n",
            " |-- Id: long (nullable = true)\n",
            " |-- OrgId: integer (nullable = true)\n",
            " |-- IncidentId: integer (nullable = true)\n",
            " |-- AlertId: integer (nullable = true)\n",
            " |-- Timestamp: timestamp (nullable = true)\n",
            " |-- DetectorId: integer (nullable = true)\n",
            " |-- AlertTitle: integer (nullable = true)\n",
            " |-- Category: string (nullable = true)\n",
            " |-- MitreTechniques: string (nullable = true)\n",
            " |-- IncidentGrade: string (nullable = true)\n",
            " |-- ActionGrouped: string (nullable = true)\n",
            " |-- ActionGranular: string (nullable = true)\n",
            " |-- EntityType: string (nullable = true)\n",
            " |-- EvidenceRole: string (nullable = true)\n",
            " |-- DeviceId: integer (nullable = true)\n",
            " |-- Sha256: integer (nullable = true)\n",
            " |-- IpAddress: integer (nullable = true)\n",
            " |-- Url: integer (nullable = true)\n",
            " |-- AccountSid: integer (nullable = true)\n",
            " |-- AccountUpn: integer (nullable = true)\n",
            " |-- AccountObjectId: integer (nullable = true)\n",
            " |-- AccountName: integer (nullable = true)\n",
            " |-- DeviceName: integer (nullable = true)\n",
            " |-- NetworkMessageId: integer (nullable = true)\n",
            " |-- EmailClusterId: double (nullable = true)\n",
            " |-- RegistryKey: integer (nullable = true)\n",
            " |-- RegistryValueName: integer (nullable = true)\n",
            " |-- RegistryValueData: integer (nullable = true)\n",
            " |-- ApplicationId: integer (nullable = true)\n",
            " |-- ApplicationName: integer (nullable = true)\n",
            " |-- OAuthApplicationId: integer (nullable = true)\n",
            " |-- ThreatFamily: string (nullable = true)\n",
            " |-- FileName: integer (nullable = true)\n",
            " |-- FolderPath: integer (nullable = true)\n",
            " |-- ResourceIdName: integer (nullable = true)\n",
            " |-- ResourceType: string (nullable = true)\n",
            " |-- Roles: string (nullable = true)\n",
            " |-- OSFamily: integer (nullable = true)\n",
            " |-- OSVersion: integer (nullable = true)\n",
            " |-- AntispamDirection: string (nullable = true)\n",
            " |-- SuspicionLevel: string (nullable = true)\n",
            " |-- LastVerdict: string (nullable = true)\n",
            " |-- CountryCode: integer (nullable = true)\n",
            " |-- State: integer (nullable = true)\n",
            " |-- City: integer (nullable = true)\n",
            " |-- Usage: string (nullable = true)\n",
            "\n"
          ]
        }
      ]
    },
    {
      "cell_type": "markdown",
      "source": [
        "The Usage column is unique to the test set and not relevant to our problem. I will simply be dropping this column."
      ],
      "metadata": {
        "id": "YdyF0L5xMi0G"
      }
    },
    {
      "cell_type": "code",
      "source": [
        "from pyspark.sql.functions import col, sum\n",
        "\n",
        "null_counts = df_test.select([sum(col(c).isNull().cast(\"int\")).alias(c) for c in df_test.columns])\n",
        "null_counts.show()"
      ],
      "metadata": {
        "colab": {
          "base_uri": "https://localhost:8080/"
        },
        "id": "DI9L7njWMZIM",
        "outputId": "a377581d-46b6-4f75-cc26-90a779b35b9f"
      },
      "execution_count": null,
      "outputs": [
        {
          "output_type": "stream",
          "name": "stdout",
          "text": [
            "+---+-----+----------+-------+---------+----------+----------+--------+---------------+-------------+-------------+--------------+----------+------------+--------+------+---------+---+----------+----------+---------------+-----------+----------+----------------+--------------+-----------+-----------------+-----------------+-------------+---------------+------------------+------------+--------+----------+--------------+------------+-------+--------+---------+-----------------+--------------+-----------+-----------+-----+----+-----+\n",
            "| Id|OrgId|IncidentId|AlertId|Timestamp|DetectorId|AlertTitle|Category|MitreTechniques|IncidentGrade|ActionGrouped|ActionGranular|EntityType|EvidenceRole|DeviceId|Sha256|IpAddress|Url|AccountSid|AccountUpn|AccountObjectId|AccountName|DeviceName|NetworkMessageId|EmailClusterId|RegistryKey|RegistryValueName|RegistryValueData|ApplicationId|ApplicationName|OAuthApplicationId|ThreatFamily|FileName|FolderPath|ResourceIdName|ResourceType|  Roles|OSFamily|OSVersion|AntispamDirection|SuspicionLevel|LastVerdict|CountryCode|State|City|Usage|\n",
            "+---+-----+----------+-------+---------+----------+----------+--------+---------------+-------------+-------------+--------------+----------+------------+--------+------+---------+---+----------+----------+---------------+-----------+----------+----------------+--------------+-----------+-----------------+-----------------+-------------+---------------+------------------+------------+--------+----------+--------------+------------+-------+--------+---------+-----------------+--------------+-----------+-----------+-----+----+-----+\n",
            "|  0|    0|         0|      0|        0|         0|         0|       0|        2307104|            0|      4146079|       4146079|         0|           0|       0|     0|        0|  0|         0|         0|              0|          0|         0|               0|       4106285|          0|                0|                0|            0|              0|                 0|     4116614|       0|         0|             0|     4144998|4039317|       0|        0|          4071481|       3498157|    3155260|          0|    0|   0|    0|\n",
            "+---+-----+----------+-------+---------+----------+----------+--------+---------------+-------------+-------------+--------------+----------+------------+--------+------+---------+---+----------+----------+---------------+-----------+----------+----------------+--------------+-----------+-----------------+-----------------+-------------+---------------+------------------+------------+--------+----------+--------------+------------+-------+--------+---------+-----------------+--------------+-----------+-----------+-----+----+-----+\n",
            "\n"
          ]
        }
      ]
    },
    {
      "cell_type": "markdown",
      "source": [
        "MitreTechniques, ActionGrouped, ActionGranular, EmailClusterId, ThreatFamily, ResourceType, Roles, AntispamDirection, SuspicionLevel, and LastVerdict all have missing values. These are, very convieniently, the same columns as the train set so I will be dropping them."
      ],
      "metadata": {
        "id": "6yAd2AvRNBPz"
      }
    },
    {
      "cell_type": "markdown",
      "source": [
        "## Univariate Analyses"
      ],
      "metadata": {
        "id": "PQi_H3HqWtO7"
      }
    },
    {
      "cell_type": "markdown",
      "source": [
        "### Categoricals\n",
        "\n",
        "- Category\n",
        "- IncidentGrade\n",
        "- ActionGrouped\n",
        "- ActionGranular\n",
        "- EvidenceRole\n",
        "- ResourceType\n",
        "- Roles\n",
        "- OSFamily\n",
        "- AntispamDirection\n",
        "- SuspicionLevel\n",
        "- LastVerdict\n",
        "- EntityType\n",
        "- OSVersion"
      ],
      "metadata": {
        "id": "Arlf2vs_JV_T"
      }
    },
    {
      "cell_type": "code",
      "source": [
        "df.groupBy('Category').count().orderBy('count', ascending=False).show()"
      ],
      "metadata": {
        "id": "Oh2KSB3Si1EE",
        "colab": {
          "base_uri": "https://localhost:8080/"
        },
        "outputId": "344a6250-6fe5-4099-82e0-4c8cc495aeee"
      },
      "execution_count": null,
      "outputs": [
        {
          "output_type": "stream",
          "name": "stdout",
          "text": [
            "+-------------------+-------+\n",
            "|           Category|  count|\n",
            "+-------------------+-------+\n",
            "|      InitialAccess|4293041|\n",
            "|       Exfiltration|1577965|\n",
            "| SuspiciousActivity|1003933|\n",
            "|  CommandAndControl| 826691|\n",
            "|             Impact| 750885|\n",
            "|   CredentialAccess| 300518|\n",
            "|          Execution| 267594|\n",
            "|            Malware| 144081|\n",
            "|          Discovery| 129342|\n",
            "|        Persistence|  72682|\n",
            "|     DefenseEvasion|  46662|\n",
            "|    LateralMovement|  41754|\n",
            "|         Ransomware|  18974|\n",
            "|   UnwantedSoftware|  18211|\n",
            "|         Collection|  14753|\n",
            "|PrivilegeEscalation|   4671|\n",
            "|            Exploit|   4648|\n",
            "| CredentialStealing|    388|\n",
            "|         WebExploit|     38|\n",
            "|      Weaponization|      6|\n",
            "+-------------------+-------+\n",
            "\n"
          ]
        }
      ]
    },
    {
      "cell_type": "code",
      "source": [
        "df.groupBy('IncidentGrade').count().orderBy('count', ascending=False).show()"
      ],
      "metadata": {
        "colab": {
          "base_uri": "https://localhost:8080/"
        },
        "id": "Yc1b7jPvPjba",
        "outputId": "81d35587-e833-4c01-8fd2-b0412510b98f"
      },
      "execution_count": null,
      "outputs": [
        {
          "output_type": "stream",
          "name": "stdout",
          "text": [
            "+--------------+-------+\n",
            "| IncidentGrade|  count|\n",
            "+--------------+-------+\n",
            "|BenignPositive|4110817|\n",
            "|  TruePositive|3322713|\n",
            "| FalsePositive|2031967|\n",
            "|          NULL|  51340|\n",
            "+--------------+-------+\n",
            "\n"
          ]
        }
      ]
    },
    {
      "cell_type": "code",
      "source": [
        "df.groupBy('ActionGrouped').count().orderBy('count', ascending=False).show()"
      ],
      "metadata": {
        "colab": {
          "base_uri": "https://localhost:8080/"
        },
        "id": "LBJKbidiPtFy",
        "outputId": "aa0c8496-e731-495a-fe67-c9f3b466a607"
      },
      "execution_count": null,
      "outputs": [
        {
          "output_type": "stream",
          "name": "stdout",
          "text": [
            "+--------------------+-------+\n",
            "|       ActionGrouped|  count|\n",
            "+--------------------+-------+\n",
            "|                NULL|9460773|\n",
            "|      ContainAccount|  53760|\n",
            "|       IsolateDevice|   2237|\n",
            "|Stop Virtual Mach...|     67|\n",
            "+--------------------+-------+\n",
            "\n"
          ]
        }
      ]
    },
    {
      "cell_type": "code",
      "source": [
        "df.groupBy('ActionGranular').count().orderBy('count', ascending=False).show()"
      ],
      "metadata": {
        "colab": {
          "base_uri": "https://localhost:8080/"
        },
        "id": "Vgx4ptN4PxB2",
        "outputId": "748bcb13-6f45-4807-a37b-bcb6c667d015"
      },
      "execution_count": null,
      "outputs": [
        {
          "output_type": "stream",
          "name": "stdout",
          "text": [
            "+--------------------+-------+\n",
            "|      ActionGranular|  count|\n",
            "+--------------------+-------+\n",
            "|                NULL|9460773|\n",
            "|update stsrefresh...|  21393|\n",
            "|account password ...|  14059|\n",
            "|change user passw...|  13623|\n",
            "|     isolateresponse|   2043|\n",
            "|    account disabled|   1991|\n",
            "|    disable account.|   1143|\n",
            "|reset user password.|    886|\n",
            "|forcepasswordrese...|    234|\n",
            "|      quarantinefile|    194|\n",
            "|msecidentitiescon...|    146|\n",
            "|         disableuser|    107|\n",
            "|msecidentitiessus...|     81|\n",
            "|delete virtualmac...|     67|\n",
            "|     account deleted|     55|\n",
            "|        delete user.|     35|\n",
            "|set force change ...|      7|\n",
            "+--------------------+-------+\n",
            "\n"
          ]
        }
      ]
    },
    {
      "cell_type": "code",
      "source": [
        "df.groupBy('EvidenceRole').count().orderBy('count', ascending=False).show()"
      ],
      "metadata": {
        "colab": {
          "base_uri": "https://localhost:8080/"
        },
        "id": "ETAVugFuPzkn",
        "outputId": "a4d188f5-9eba-48a6-e45e-64c854d9b1f9"
      },
      "execution_count": null,
      "outputs": [
        {
          "output_type": "stream",
          "name": "stdout",
          "text": [
            "+------------+-------+\n",
            "|EvidenceRole|  count|\n",
            "+------------+-------+\n",
            "|     Related|5208644|\n",
            "|    Impacted|4308193|\n",
            "+------------+-------+\n",
            "\n"
          ]
        }
      ]
    },
    {
      "cell_type": "code",
      "source": [
        "df.groupBy('ResourceType').count().orderBy('count', ascending=False).show(26)"
      ],
      "metadata": {
        "colab": {
          "base_uri": "https://localhost:8080/"
        },
        "id": "B2-fVXVTP-dC",
        "outputId": "0469129c-4483-45c3-d8dd-815541ab0c12"
      },
      "execution_count": null,
      "outputs": [
        {
          "output_type": "stream",
          "name": "stdout",
          "text": [
            "+--------------------+-------+\n",
            "|        ResourceType|  count|\n",
            "+--------------------+-------+\n",
            "|                NULL|9509762|\n",
            "|     Virtual Machine|   4146|\n",
            "|           Key Vault|    480|\n",
            "|         App Service|    404|\n",
            "|   Azure Arc machine|    373|\n",
            "|     Storage Account|    366|\n",
            "|        Subscription|    271|\n",
            "|        SQL Database|    226|\n",
            "|Azure Database fo...|    182|\n",
            "|      Azure Resource|    157|\n",
            "|Virtual Machine S...|    112|\n",
            "|API Management Se...|     94|\n",
            "|    Key Vault Secret|     77|\n",
            "|Azure Database fo...|     45|\n",
            "|          SQL Server|     41|\n",
            "|Azure Cosmos DB A...|     30|\n",
            "|          Networking|     14|\n",
            "|    Synapse SQL Pool|     11|\n",
            "|GCP Compute Instance|     10|\n",
            "|  Kubernetes Service|      9|\n",
            "|SQL Managed Instance|      9|\n",
            "|Key Vault Certifi...|      7|\n",
            "|    AWS EC2 Instance|      6|\n",
            "|       Key Vault Key|      2|\n",
            "|   Synapse Workspace|      2|\n",
            "|   Cognitive Service|      1|\n",
            "+--------------------+-------+\n",
            "\n"
          ]
        }
      ]
    },
    {
      "cell_type": "code",
      "source": [
        "df.groupBy('Roles').count().orderBy('count', ascending=False).show()"
      ],
      "metadata": {
        "colab": {
          "base_uri": "https://localhost:8080/"
        },
        "id": "HE3Fmz1oQCVf",
        "outputId": "3027ff0d-6775-4727-bef1-0ad6420325e4"
      },
      "execution_count": null,
      "outputs": [
        {
          "output_type": "stream",
          "name": "stdout",
          "text": [
            "+--------------+-------+\n",
            "|         Roles|  count|\n",
            "+--------------+-------+\n",
            "|          NULL|9298686|\n",
            "|    Contextual| 130528|\n",
            "|   Destination|  34324|\n",
            "|    Suspicious|  28952|\n",
            "|      Attacker|  13096|\n",
            "|        Source|   7171|\n",
            "|   Compromised|   3219|\n",
            "|PolicyViolator|    666|\n",
            "|      Attacked|    188|\n",
            "|        Edited|      6|\n",
            "|         Added|      1|\n",
            "+--------------+-------+\n",
            "\n"
          ]
        }
      ]
    },
    {
      "cell_type": "code",
      "source": [
        "df.groupBy('OSFamily').count().orderBy('count', ascending=False).show()"
      ],
      "metadata": {
        "colab": {
          "base_uri": "https://localhost:8080/"
        },
        "id": "P_PTHx3fQFg7",
        "outputId": "2b9a470b-ee1b-4b83-b113-47d63b110707"
      },
      "execution_count": null,
      "outputs": [
        {
          "output_type": "stream",
          "name": "stdout",
          "text": [
            "+--------+-------+\n",
            "|OSFamily|  count|\n",
            "+--------+-------+\n",
            "|       5|9322565|\n",
            "|       0| 190036|\n",
            "|       1|   2732|\n",
            "|       2|   1496|\n",
            "|       3|      7|\n",
            "|       4|      1|\n",
            "+--------+-------+\n",
            "\n"
          ]
        }
      ]
    },
    {
      "cell_type": "markdown",
      "source": [
        "5 is overwhelming represented in this dataset. Is this sampling bias or reflective of targeting?"
      ],
      "metadata": {
        "id": "_XPXPJOuTy-_"
      }
    },
    {
      "cell_type": "code",
      "source": [
        "df.groupBy('AntispamDirection').count().orderBy('count', ascending=False).show()"
      ],
      "metadata": {
        "colab": {
          "base_uri": "https://localhost:8080/"
        },
        "id": "uvZ9LOa7QIyK",
        "outputId": "4634149b-afae-4fa2-e54f-52ae16e06879"
      },
      "execution_count": null,
      "outputs": [
        {
          "output_type": "stream",
          "name": "stdout",
          "text": [
            "+--------------------+-------+\n",
            "|   AntispamDirection|  count|\n",
            "+--------------------+-------+\n",
            "|                NULL|9339535|\n",
            "|             Inbound| 161111|\n",
            "|            Intraorg|  15308|\n",
            "|            Outbound|    868|\n",
            "|DomainPII_50d8b4a...|     10|\n",
            "|DomainPII_df80ab8...|      5|\n",
            "+--------------------+-------+\n",
            "\n"
          ]
        }
      ]
    },
    {
      "cell_type": "code",
      "source": [
        "df.groupBy('SuspicionLevel').count().orderBy('count', ascending=False).show()"
      ],
      "metadata": {
        "colab": {
          "base_uri": "https://localhost:8080/"
        },
        "id": "B4Dys2UhQNt3",
        "outputId": "27533292-7c4f-467a-da4e-a52f5e4bf481"
      },
      "execution_count": null,
      "outputs": [
        {
          "output_type": "stream",
          "name": "stdout",
          "text": [
            "+--------------+-------+\n",
            "|SuspicionLevel|  count|\n",
            "+--------------+-------+\n",
            "|          NULL|8072708|\n",
            "|    Suspicious|1442614|\n",
            "|  Incriminated|   1515|\n",
            "+--------------+-------+\n",
            "\n"
          ]
        }
      ]
    },
    {
      "cell_type": "code",
      "source": [
        "df.groupBy('LastVerdict').count().orderBy('count', ascending=False).show()"
      ],
      "metadata": {
        "colab": {
          "base_uri": "https://localhost:8080/"
        },
        "id": "vZSq-A6_QVrP",
        "outputId": "3cb97893-bb25-4e93-ef64-19f6280c7dfc"
      },
      "execution_count": null,
      "outputs": [
        {
          "output_type": "stream",
          "name": "stdout",
          "text": [
            "+--------------------+-------+\n",
            "|         LastVerdict|  count|\n",
            "+--------------------+-------+\n",
            "|                NULL|7282572|\n",
            "|          Suspicious|1402997|\n",
            "|           Malicious| 433359|\n",
            "|      NoThreatsFound| 397718|\n",
            "|DomainPII_50d8b4a...|    128|\n",
            "|DomainPII_9207384...|     63|\n",
            "+--------------------+-------+\n",
            "\n"
          ]
        }
      ]
    },
    {
      "cell_type": "code",
      "source": [
        "df.groupBy('EntityType').count().orderBy('count', ascending=False).show()"
      ],
      "metadata": {
        "colab": {
          "base_uri": "https://localhost:8080/"
        },
        "id": "xm6VIEk5QYMi",
        "outputId": "01a842da-1ebe-4645-af88-5501fd196e21"
      },
      "execution_count": null,
      "outputs": [
        {
          "output_type": "stream",
          "name": "stdout",
          "text": [
            "+-----------------+-------+\n",
            "|       EntityType|  count|\n",
            "+-----------------+-------+\n",
            "|               Ip|2181194|\n",
            "|             User|1932416|\n",
            "|      MailMessage|1173154|\n",
            "|          Machine| 699208|\n",
            "|             File| 688402|\n",
            "|              Url| 682578|\n",
            "|CloudLogonRequest| 638565|\n",
            "|          Mailbox| 483158|\n",
            "|          Process| 345732|\n",
            "|      MailCluster| 224684|\n",
            "| CloudApplication| 216811|\n",
            "|CloudLogonSession| 212382|\n",
            "|    RegistryValue|  11209|\n",
            "|    AzureResource|   8166|\n",
            "|      RegistryKey|   7277|\n",
            "|    GenericEntity|   4294|\n",
            "| OAuthApplication|   2595|\n",
            "|          Malware|   2580|\n",
            "|    SecurityGroup|   1518|\n",
            "|    BlobContainer|    306|\n",
            "+-----------------+-------+\n",
            "only showing top 20 rows\n",
            "\n"
          ]
        }
      ]
    },
    {
      "cell_type": "code",
      "source": [
        "df.groupBy('OSVersion').count().orderBy('count', ascending=False).show()"
      ],
      "metadata": {
        "colab": {
          "base_uri": "https://localhost:8080/"
        },
        "id": "L8FaGFdTSEdn",
        "outputId": "1483709a-fd59-4150-bca0-1470e98c35fc"
      },
      "execution_count": null,
      "outputs": [
        {
          "output_type": "stream",
          "name": "stdout",
          "text": [
            "+---------+-------+\n",
            "|OSVersion|  count|\n",
            "+---------+-------+\n",
            "|       66|9322572|\n",
            "|        0| 187405|\n",
            "|        2|   1892|\n",
            "|        1|   1652|\n",
            "|        3|   1125|\n",
            "|        4|    732|\n",
            "|        6|    362|\n",
            "|        5|    266|\n",
            "|        8|    132|\n",
            "|        9|    109|\n",
            "|       10|     89|\n",
            "|        7|     81|\n",
            "|       11|     66|\n",
            "|       12|     54|\n",
            "|       16|     38|\n",
            "|       13|     32|\n",
            "|       14|     31|\n",
            "|       15|     22|\n",
            "|       19|     18|\n",
            "|       17|     17|\n",
            "+---------+-------+\n",
            "only showing top 20 rows\n",
            "\n"
          ]
        }
      ]
    },
    {
      "cell_type": "markdown",
      "source": [
        "OSVersion 66 is overwhelmingly represented here. As with OS could refelct sampling bias or actual target selection. Also I am inclined to treat OSversiona and family as numericals or ordinals."
      ],
      "metadata": {
        "id": "eySfnlqzUFKh"
      }
    },
    {
      "cell_type": "code",
      "source": [
        "df.drop('MitreTechniques', 'ActionGrouped', 'ActionGranular', 'EmailClusterId', 'ThreatFamily', 'ResourceType', 'Roles', 'AntispamDirection', 'SuspicionLevel', 'LastVerdict')"
      ],
      "metadata": {
        "colab": {
          "base_uri": "https://localhost:8080/"
        },
        "id": "GDzogmKzSINz",
        "outputId": "aa249e72-8b3d-484c-9b89-dc7da3b46d00"
      },
      "execution_count": null,
      "outputs": [
        {
          "output_type": "stream",
          "name": "stdout",
          "text": [
            "+-------------+-----+----------+-------+-------------------+----------+----------+------------------+--------------+----------------+------------+--------+------+---------+------+----------+----------+---------------+-----------+----------+----------------+-----------+-----------------+-----------------+-------------+---------------+------------------+--------+----------+--------------+--------+---------+-----------+-----+-----+\n",
            "|           Id|OrgId|IncidentId|AlertId|          Timestamp|DetectorId|AlertTitle|          Category| IncidentGrade|      EntityType|EvidenceRole|DeviceId|Sha256|IpAddress|   Url|AccountSid|AccountUpn|AccountObjectId|AccountName|DeviceName|NetworkMessageId|RegistryKey|RegistryValueName|RegistryValueData|ApplicationId|ApplicationName|OAuthApplicationId|FileName|FolderPath|ResourceIdName|OSFamily|OSVersion|CountryCode|State| City|\n",
            "+-------------+-----+----------+-------+-------------------+----------+----------+------------------+--------------+----------------+------------+--------+------+---------+------+----------+----------+---------------+-----------+----------+----------------+-----------+-----------------+-----------------+-------------+---------------+------------------+--------+----------+--------------+--------+---------+-----------+-----+-----+\n",
            "| 180388628218|    0|       612| 123247|2024-06-04 06:05:15|         7|         6|     InitialAccess|  TruePositive|              Ip|     Related|   98799|138268|       27|160396|    441377|    673934|         425863|     453297|    153085|          529644|       1631|              635|              860|         2251|           3421|               881|  289573|    117668|          3586|       5|       66|         31|    6|    3|\n",
            "| 455266534868|   88|       326| 210035|2024-06-14 03:01:25|        58|        43|      Exfiltration| FalsePositive|            User|    Impacted|   98799|138268|   360606|160396|     22406|     23032|          22795|      24887|    153085|          529644|       1631|              635|              860|         2251|           3421|               881|  289573|    117668|          3586|       5|       66|        242| 1445|10630|\n",
            "|1056561957389|  809|     58352| 712507|2024-06-13 04:52:55|       423|       298|     InitialAccess| FalsePositive|             Url|     Related|   98799|138268|   360606| 68652|    441377|    673934|         425863|     453297|    153085|          529644|       1631|              635|              860|         2251|           3421|               881|  289573|    117668|          3586|       5|       66|        242| 1445|10630|\n",
            "|1279900258736|   92|     32992| 774301|2024-06-10 16:39:36|         2|         2| CommandAndControl|BenignPositive|             Url|     Related|   98799|138268|   360606|    13|    441377|    673934|         425863|     453297|    153085|          529644|       1631|              635|              860|         2251|           3421|               881|  289573|    117668|          3586|       5|       66|        242| 1445|10630|\n",
            "| 214748368522|  148|      4359| 188041|2024-06-15 01:08:07|         9|        74|         Execution|  TruePositive|            User|    Impacted|   98799|138268|   360606|160396|       449|       592|            440|        479|    153085|          529644|       1631|              635|              860|         2251|           3421|               881|  289573|    117668|          3586|       5|       66|        242| 1445|10630|\n",
            "|1322849927433|   11|    417400| 825450|2024-06-10 13:30:56|         0|         0|     InitialAccess| FalsePositive|              Ip|     Related|   98799|138268|    30410|160396|    441377|    673934|         425863|     453297|    153085|          529644|       1631|              635|              860|         2251|           3421|               881|  289573|    117668|          3586|       5|       66|          8|    6|    3|\n",
            "| 163208760309|  522|       566| 705663|2024-06-14 23:19:45|         2|         2| CommandAndControl|BenignPositive|             Url|     Related|   98799|138268|   360606|  3306|    441377|    673934|         425863|     453297|    153085|          529644|       1631|              635|              860|         2251|           3421|               881|  289573|    117668|          3586|       5|       66|        242| 1445|10630|\n",
            "|1400159339557|  125|     38679|  47423|2024-06-06 13:39:23|       313|      3919|      Exfiltration|BenignPositive|     MailMessage|    Impacted|   98799|138268|   360606|160396|    441377|     34744|         425863|     453297|    153085|            1082|       1631|              635|              860|         2251|           3421|               881|  289573|    117668|          3586|       5|       66|        242| 1445|10630|\n",
            "|1219770713645|   21|       414| 197969|2024-06-09 10:21:29|         3|         4|SuspiciousActivity|BenignPositive|         Process|     Related|   98799|     0|   360606|160396|    441377|    673934|         425863|     453297|    153085|          529644|       1631|              635|              860|         2251|           3421|               881|       0|      1694|          3586|       5|       66|        242| 1445|10630|\n",
            "|1073741827836|   72|        70| 831157|2024-06-08 02:08:01|         4|         3|     InitialAccess|  TruePositive|            User|    Impacted|   98799|138268|   360606|160396|      4070|      5532|           4086|       4256|    153085|          529644|       1631|              635|              860|         2251|           3421|               881|  289573|    117668|          3586|       5|       66|        242| 1445|10630|\n",
            "| 197568500579|  268|       251| 473068|2024-06-12 18:43:42|         3|         4|SuspiciousActivity|  TruePositive|         Machine|    Impacted|    2504|138268|   360606|160396|    441377|    673934|         425863|     453297|      4872|          529644|       1631|              635|              860|         2251|           3421|               881|  289573|    117668|          3586|       5|       66|        242| 1445|10630|\n",
            "| 103079219463|  597|    159032|1380964|2024-06-07 07:08:22|         9|       373|         Execution|  TruePositive|CloudApplication|    Impacted|   98799|138268|   360606|160396|    441377|    673934|         425863|     453297|    153085|          529644|       1631|              635|              860|            3|              3|               881|  289573|    117668|          3586|       5|       66|        242| 1445|10630|\n",
            "|1305670059931|   23|       107| 409854|2024-06-06 00:27:12|         4|         3|     InitialAccess|  TruePositive|              Ip|     Related|   98799|138268|      279|160396|    441377|    673934|         425863|     453297|    153085|          529644|       1631|              635|              860|         2251|           3421|               881|  289573|    117668|          3586|       5|       66|          7|   50|   46|\n",
            "| 223338299440|    6|      2472|   1148|2024-05-26 21:07:09|        17|       284|            Impact| FalsePositive|              Ip|     Related|   98799|138268|     8146|160396|    441377|    673934|         425863|     453297|    153085|          529644|       1631|              635|              860|         2251|           3421|               881|  289573|    117668|          3586|       5|       66|        242| 1445|10630|\n",
            "| 652835032220|  376|     93925| 289288|2024-06-12 14:00:08|       447|       473|     InitialAccess|BenignPositive|   AzureResource|    Impacted|   17769|138268|   360606|160396|    441377|    673934|         425863|     453297|     25710|          529644|       1631|              635|              860|         2251|           3421|               881|  289573|    117668|           251|       5|       66|        242| 1445|10630|\n",
            "| 781684051738| 2119|      6622|  23284|2024-06-10 10:28:29|        13|        11|     InitialAccess|BenignPositive|     MailMessage|     Related|   98799|138268|   360606|160396|    441377|    160691|         425863|     453297|    153085|            1842|       1631|              635|              860|         2251|           3421|               881|  289573|    117668|          3586|       5|       66|        242| 1445|10630|\n",
            "| 635655163305|  261|    110412|  41503|2024-06-03 17:05:40|      1794|       344|        Collection|BenignPositive|            User|    Impacted|   98799|138268|   360606|160396|    172996|    268738|         173595|     184537|    153085|          529644|       1631|              635|              860|         2251|           3421|               881|  289573|    117668|          3586|       5|       66|        242| 1445|10630|\n",
            "| 429496732853|   51|     84683| 134887|2024-06-05 04:17:50|        39|        26|         Execution|BenignPositive|            File|     Related|   98799|     4|   360606|160396|    441377|    673934|         425863|     453297|    153085|          529644|       1631|              635|              860|         2251|           3421|               881|       3|         6|          3586|       5|       66|        242| 1445|10630|\n",
            "|1546188229482|   34|    329953| 709535|2024-06-05 20:45:37|         2|         2| CommandAndControl|BenignPositive|            User|    Impacted|   98799|138268|   360606|160396|     30614|     50597|          31131|      33321|    153085|          529644|       1631|              635|              860|         2251|           3421|               881|  289573|    117668|          3586|       5|       66|        242| 1445|10630|\n",
            "|1340029797776|  592|     53360| 215453|2024-06-13 13:21:39|       933|      9966|      Exfiltration|BenignPositive|            File|    Impacted|   98799| 10713|   360606|160396|    441377|    673934|         425863|     453297|    153085|          529644|       1631|              635|              860|         2251|           3421|               881|   12633|      3509|          3586|       5|       66|        242| 1445|10630|\n",
            "+-------------+-----+----------+-------+-------------------+----------+----------+------------------+--------------+----------------+------------+--------+------+---------+------+----------+----------+---------------+-----------+----------+----------------+-----------+-----------------+-----------------+-------------+---------------+------------------+--------+----------+--------------+--------+---------+-----------+-----+-----+\n",
            "only showing top 20 rows\n",
            "\n"
          ]
        }
      ]
    },
    {
      "cell_type": "code",
      "source": [
        "df.groupBy('RegistryKey').count().orderBy('count', ascending=False).show()"
      ],
      "metadata": {
        "colab": {
          "base_uri": "https://localhost:8080/"
        },
        "id": "0oabA4SbVGbC",
        "outputId": "fdda0b48-a8c0-4644-941d-3f0773cf84ac"
      },
      "execution_count": null,
      "outputs": [
        {
          "output_type": "stream",
          "name": "stdout",
          "text": [
            "+-----------+-------+\n",
            "|RegistryKey|  count|\n",
            "+-----------+-------+\n",
            "|       1631|9499313|\n",
            "|          0|  11076|\n",
            "|          1|    245|\n",
            "|          3|    235|\n",
            "|          6|    141|\n",
            "|          4|    136|\n",
            "|          5|    131|\n",
            "|          8|    118|\n",
            "|          7|     98|\n",
            "|         12|     75|\n",
            "|          9|     70|\n",
            "|         11|     66|\n",
            "|         10|     66|\n",
            "|         15|     58|\n",
            "|          2|     53|\n",
            "|         13|     44|\n",
            "|         16|     40|\n",
            "|         17|     36|\n",
            "|         24|     36|\n",
            "|         25|     34|\n",
            "+-----------+-------+\n",
            "only showing top 20 rows\n",
            "\n"
          ]
        }
      ]
    },
    {
      "cell_type": "code",
      "source": [
        "# need to fix output but this is the structure\n",
        "\n",
        "df_grouped = df.groupBy(\"Category\").count().orderBy(col(\"count\").desc())\n",
        "\n",
        "# Convert to Pandas for plotting\n",
        "pdf = df_grouped.toPandas()\n",
        "\n",
        "# Bar plot\n",
        "plt.bar(pdf[\"Category\"], pdf[\"count\"])\n",
        "plt.xticks(rotation=45)\n",
        "plt.ylabel(\"Count\")\n",
        "plt.title(\"Category Distribution\")\n",
        "plt.show()"
      ],
      "metadata": {
        "colab": {
          "base_uri": "https://localhost:8080/",
          "height": 553
        },
        "id": "rhCLbQlCVOw2",
        "outputId": "2f2740b3-5d28-4236-b2b3-986c6cb06f42"
      },
      "execution_count": null,
      "outputs": [
        {
          "output_type": "display_data",
          "data": {
            "text/plain": [
              "<Figure size 640x480 with 1 Axes>"
            ],
            "image/png": "[encoded data removed]"
          },
          "metadata": {}
        }
      ]
    },
    {
      "cell_type": "code",
      "source": [
        "df.crosstab('Sex', 'Survived').show()"
      ],
      "metadata": {
        "id": "DUoO_LkMpooB"
      },
      "execution_count": null,
      "outputs": []
    },
    {
      "cell_type": "markdown",
      "source": [
        "### Numericals"
      ],
      "metadata": {
        "id": "wwEdwXDkc3d7"
      }
    },
    {
      "cell_type": "code",
      "source": [
        "df.columns"
      ],
      "metadata": {
        "colab": {
          "base_uri": "https://localhost:8080/"
        },
        "id": "wTTNaFCbpuSB",
        "outputId": "43fed79b-a105-4555-826f-a86a93b7fd44"
      },
      "execution_count": 19,
      "outputs": [
        {
          "output_type": "execute_result",
          "data": {
            "text/plain": [
              "['Id',\n",
              " 'OrgId',\n",
              " 'IncidentId',\n",
              " 'AlertId',\n",
              " 'Timestamp',\n",
              " 'DetectorId',\n",
              " 'AlertTitle',\n",
              " 'Category',\n",
              " 'MitreTechniques',\n",
              " 'IncidentGrade',\n",
              " 'ActionGrouped',\n",
              " 'ActionGranular',\n",
              " 'EntityType',\n",
              " 'EvidenceRole',\n",
              " 'DeviceId',\n",
              " 'Sha256',\n",
              " 'IpAddress',\n",
              " 'Url',\n",
              " 'AccountSid',\n",
              " 'AccountUpn',\n",
              " 'AccountObjectId',\n",
              " 'AccountName',\n",
              " 'DeviceName',\n",
              " 'NetworkMessageId',\n",
              " 'EmailClusterId',\n",
              " 'RegistryKey',\n",
              " 'RegistryValueName',\n",
              " 'RegistryValueData',\n",
              " 'ApplicationId',\n",
              " 'ApplicationName',\n",
              " 'OAuthApplicationId',\n",
              " 'ThreatFamily',\n",
              " 'FileName',\n",
              " 'FolderPath',\n",
              " 'ResourceIdName',\n",
              " 'ResourceType',\n",
              " 'Roles',\n",
              " 'OSFamily',\n",
              " 'OSVersion',\n",
              " 'AntispamDirection',\n",
              " 'SuspicionLevel',\n",
              " 'LastVerdict',\n",
              " 'CountryCode',\n",
              " 'State',\n",
              " 'City']"
            ]
          },
          "metadata": {},
          "execution_count": 19
        }
      ]
    },
    {
      "cell_type": "code",
      "source": [
        "num_col = ['Id', 'OrgId', 'IncidentId', 'AlertId', 'DetectorId', 'AlertTitle',\n",
        "            'DeviceId', 'Sha256', 'IpAddress', 'Url', 'AccountSid',\n",
        "            'AccountUpn', 'AccountObjectId', 'AccountName', 'DeviceName',\n",
        "            'NetworkMessageId', 'RegistryKey', 'RegistryValueName',\n",
        "            'RegistryValueData', 'ApplicationId', 'EmailClusterId',\n",
        "            'ApplicationName', 'OAuthApplicationId', 'ThreatFamily', 'FileName',\n",
        "            'FolderPath', 'ResourceIdName', 'CountryCode', 'State', 'City']"
      ],
      "metadata": {
        "id": "yDmSSSrYrSlx"
      },
      "execution_count": 22,
      "outputs": []
    },
    {
      "cell_type": "code",
      "source": [
        "from pyspark.sql.functions import mean, min, max\n",
        "for c in num_col:\n",
        "  df.select(mean(c), min(c), max(c)).show()\n"
      ],
      "metadata": {
        "id": "EiHmMlqZXNfn",
        "colab": {
          "base_uri": "https://localhost:8080/"
        },
        "outputId": "74a2c090-c575-412f-bd95-795f0fc3f02e"
      },
      "execution_count": 23,
      "outputs": [
        {
          "output_type": "stream",
          "name": "stdout",
          "text": [
            "+--------------------+-------+-------------+\n",
            "|             avg(Id)|min(Id)|      max(Id)|\n",
            "+--------------------+-------+-------------+\n",
            "|8.425494025715468E11|      0|1709396988938|\n",
            "+--------------------+-------+-------------+\n",
            "\n",
            "+------------------+----------+----------+\n",
            "|        avg(OrgId)|min(OrgId)|max(OrgId)|\n",
            "+------------------+----------+----------+\n",
            "|181.57995014520054|         0|      6147|\n",
            "+------------------+----------+----------+\n",
            "\n",
            "+-----------------+---------------+---------------+\n",
            "|  avg(IncidentId)|min(IncidentId)|max(IncidentId)|\n",
            "+-----------------+---------------+---------------+\n",
            "|70663.48631630446|              0|         599706|\n",
            "+-----------------+---------------+---------------+\n",
            "\n",
            "+----------------+------------+------------+\n",
            "|    avg(AlertId)|min(AlertId)|max(AlertId)|\n",
            "+----------------+------------+------------+\n",
            "|406518.829002325|           0|     1721456|\n",
            "+----------------+------------+------------+\n",
            "\n",
            "+-----------------+---------------+---------------+\n",
            "|  avg(DetectorId)|min(DetectorId)|max(DetectorId)|\n",
            "+-----------------+---------------+---------------+\n",
            "|110.6724262483428|              0|           9522|\n",
            "+-----------------+---------------+---------------+\n",
            "\n",
            "+-----------------+---------------+---------------+\n",
            "|  avg(AlertTitle)|min(AlertTitle)|max(AlertTitle)|\n",
            "+-----------------+---------------+---------------+\n",
            "|2947.315112048257|              0|         113174|\n",
            "+-----------------+---------------+---------------+\n",
            "\n",
            "+-----------------+-------------+-------------+\n",
            "|    avg(DeviceId)|min(DeviceId)|max(DeviceId)|\n",
            "+-----------------+-------------+-------------+\n",
            "|95664.75937667105|            0|        98799|\n",
            "+-----------------+-------------+-------------+\n",
            "\n",
            "+------------------+-----------+-----------+\n",
            "|       avg(Sha256)|min(Sha256)|max(Sha256)|\n",
            "+------------------+-----------+-----------+\n",
            "|128719.06251772516|          0|     138268|\n",
            "+------------------+-----------+-----------+\n",
            "\n",
            "+-----------------+--------------+--------------+\n",
            "|   avg(IpAddress)|min(IpAddress)|max(IpAddress)|\n",
            "+-----------------+--------------+--------------+\n",
            "|285750.6059213791|             0|        360606|\n",
            "+-----------------+--------------+--------------+\n",
            "\n",
            "+------------------+--------+--------+\n",
            "|          avg(Url)|min(Url)|max(Url)|\n",
            "+------------------+--------+--------+\n",
            "|150331.68962355875|       0|  160396|\n",
            "+------------------+--------+--------+\n",
            "\n",
            "+------------------+---------------+---------------+\n",
            "|   avg(AccountSid)|min(AccountSid)|max(AccountSid)|\n",
            "+------------------+---------------+---------------+\n",
            "|352446.57033098285|              0|         441377|\n",
            "+------------------+---------------+---------------+\n",
            "\n",
            "+-----------------+---------------+---------------+\n",
            "|  avg(AccountUpn)|min(AccountUpn)|max(AccountUpn)|\n",
            "+-----------------+---------------+---------------+\n",
            "|464377.2554008228|              0|         673934|\n",
            "+-----------------+---------------+---------------+\n",
            "\n",
            "+--------------------+--------------------+--------------------+\n",
            "|avg(AccountObjectId)|min(AccountObjectId)|max(AccountObjectId)|\n",
            "+--------------------+--------------------+--------------------+\n",
            "|  340962.24058003724|                   0|              425863|\n",
            "+--------------------+--------------------+--------------------+\n",
            "\n",
            "+-----------------+----------------+----------------+\n",
            "| avg(AccountName)|min(AccountName)|max(AccountName)|\n",
            "+-----------------+----------------+----------------+\n",
            "|356966.4053009419|               0|          453297|\n",
            "+-----------------+----------------+----------------+\n",
            "\n",
            "+-----------------+---------------+---------------+\n",
            "|  avg(DeviceName)|min(DeviceName)|max(DeviceName)|\n",
            "+-----------------+---------------+---------------+\n",
            "|143229.8303901811|              0|         153085|\n",
            "+-----------------+---------------+---------------+\n",
            "\n",
            "+---------------------+---------------------+---------------------+\n",
            "|avg(NetworkMessageId)|min(NetworkMessageId)|max(NetworkMessageId)|\n",
            "+---------------------+---------------------+---------------------+\n",
            "|    480046.6944734895|                    0|               529644|\n",
            "+---------------------+---------------------+---------------------+\n",
            "\n",
            "+------------------+----------------+----------------+\n",
            "|  avg(RegistryKey)|min(RegistryKey)|max(RegistryKey)|\n",
            "+------------------+----------------+----------------+\n",
            "|1628.1702543607714|               0|            1631|\n",
            "+------------------+----------------+----------------+\n",
            "\n",
            "+----------------------+----------------------+----------------------+\n",
            "|avg(RegistryValueName)|min(RegistryValueName)|max(RegistryValueName)|\n",
            "+----------------------+----------------------+----------------------+\n",
            "|     634.7344931934844|                     0|                   635|\n",
            "+----------------------+----------------------+----------------------+\n",
            "\n",
            "+----------------------+----------------------+----------------------+\n",
            "|avg(RegistryValueData)|min(RegistryValueData)|max(RegistryValueData)|\n",
            "+----------------------+----------------------+----------------------+\n",
            "|     859.5600832503488|                     0|                   860|\n",
            "+----------------------+----------------------+----------------------+\n",
            "\n",
            "+------------------+------------------+------------------+\n",
            "|avg(ApplicationId)|min(ApplicationId)|max(ApplicationId)|\n",
            "+------------------+------------------+------------------+\n",
            "|2200.9102597848423|                 0|              2251|\n",
            "+------------------+------------------+------------------+\n",
            "\n",
            "+-------------------+-------------------+-------------------+\n",
            "|avg(EmailClusterId)|min(EmailClusterId)|max(EmailClusterId)|\n",
            "+-------------------+-------------------+-------------------+\n",
            "| 3.24250315718821E9|           192708.0|      4.294966974E9|\n",
            "+-------------------+-------------------+-------------------+\n",
            "\n",
            "+--------------------+--------------------+--------------------+\n",
            "|avg(ApplicationName)|min(ApplicationName)|max(ApplicationName)|\n",
            "+--------------------+--------------------+--------------------+\n",
            "|   3342.790298604463|                   0|                3421|\n",
            "+--------------------+--------------------+--------------------+\n",
            "\n",
            "+-----------------------+-----------------------+-----------------------+\n",
            "|avg(OAuthApplicationId)|min(OAuthApplicationId)|max(OAuthApplicationId)|\n",
            "+-----------------------+-----------------------+-----------------------+\n",
            "|      880.7954823645713|                      0|                    881|\n",
            "+-----------------------+-----------------------+-----------------------+\n",
            "\n",
            "+-----------------+-----------------+--------------------+\n",
            "|avg(ThreatFamily)|min(ThreatFamily)|   max(ThreatFamily)|\n",
            "+-----------------+-----------------+--------------------+\n",
            "|             NULL|      2345Browser|uTorrent_BundleIn...|\n",
            "+-----------------+-----------------+--------------------+\n",
            "\n",
            "+------------------+-------------+-------------+\n",
            "|     avg(FileName)|min(FileName)|max(FileName)|\n",
            "+------------------+-------------+-------------+\n",
            "|262262.09318652825|            0|       289573|\n",
            "+------------------+-------------+-------------+\n",
            "\n",
            "+------------------+---------------+---------------+\n",
            "|   avg(FolderPath)|min(FolderPath)|max(FolderPath)|\n",
            "+------------------+---------------+---------------+\n",
            "|107617.15036424392|              0|         117668|\n",
            "+------------------+---------------+---------------+\n",
            "\n",
            "+-------------------+-------------------+-------------------+\n",
            "|avg(ResourceIdName)|min(ResourceIdName)|max(ResourceIdName)|\n",
            "+-------------------+-------------------+-------------------+\n",
            "|  3583.477294819697|                  0|               3586|\n",
            "+-------------------+-------------------+-------------------+\n",
            "\n",
            "+------------------+----------------+----------------+\n",
            "|  avg(CountryCode)|min(CountryCode)|max(CountryCode)|\n",
            "+------------------+----------------+----------------+\n",
            "|223.67421413227945|               0|             242|\n",
            "+------------------+----------------+----------------+\n",
            "\n",
            "+-----------------+----------+----------+\n",
            "|       avg(State)|min(State)|max(State)|\n",
            "+-----------------+----------+----------+\n",
            "|1351.488426564414|         0|      1445|\n",
            "+-----------------+----------+----------+\n",
            "\n",
            "+-----------------+---------+---------+\n",
            "|        avg(City)|min(City)|max(City)|\n",
            "+-----------------+---------+---------+\n",
            "|9936.183029613725|        0|    10630|\n",
            "+-----------------+---------+---------+\n",
            "\n"
          ]
        }
      ]
    },
    {
      "cell_type": "code",
      "source": [
        "for c in num_col:\n",
        "  df.select(c).describe().show() # maybe .summary"
      ],
      "metadata": {
        "colab": {
          "base_uri": "https://localhost:8080/"
        },
        "id": "1VX0RqgtsWJO",
        "outputId": "3cd2c936-3724-43a9-f025-5115f9fb5df5"
      },
      "execution_count": 24,
      "outputs": [
        {
          "output_type": "stream",
          "name": "stdout",
          "text": [
            "+-------+--------------------+\n",
            "|summary|                  Id|\n",
            "+-------+--------------------+\n",
            "|  count|             9516837|\n",
            "|   mean|8.425494025715468E11|\n",
            "| stddev|4.962498750397234...|\n",
            "|    min|                   0|\n",
            "|    max|       1709396988938|\n",
            "+-------+--------------------+\n",
            "\n",
            "+-------+------------------+\n",
            "|summary|             OrgId|\n",
            "+-------+------------------+\n",
            "|  count|           9516837|\n",
            "|   mean|181.57995014520054|\n",
            "| stddev|386.77837703936484|\n",
            "|    min|                 0|\n",
            "|    max|              6147|\n",
            "+-------+------------------+\n",
            "\n",
            "+-------+------------------+\n",
            "|summary|        IncidentId|\n",
            "+-------+------------------+\n",
            "|  count|           9516837|\n",
            "|   mean| 70663.48631630446|\n",
            "| stddev|120836.85320205832|\n",
            "|    min|                 0|\n",
            "|    max|            599706|\n",
            "+-------+------------------+\n",
            "\n",
            "+-------+------------------+\n",
            "|summary|           AlertId|\n",
            "+-------+------------------+\n",
            "|  count|           9516837|\n",
            "|   mean|  406518.829002325|\n",
            "| stddev|459282.69751793233|\n",
            "|    min|                 0|\n",
            "|    max|           1721456|\n",
            "+-------+------------------+\n",
            "\n",
            "+-------+-----------------+\n",
            "|summary|       DetectorId|\n",
            "+-------+-----------------+\n",
            "|  count|          9516837|\n",
            "|   mean|110.6724262483428|\n",
            "| stddev|435.1037900929531|\n",
            "|    min|                0|\n",
            "|    max|             9522|\n",
            "+-------+-----------------+\n",
            "\n",
            "+-------+------------------+\n",
            "|summary|        AlertTitle|\n",
            "+-------+------------------+\n",
            "|  count|           9516837|\n",
            "|   mean| 2947.315112048257|\n",
            "| stddev|11461.504048258923|\n",
            "|    min|                 0|\n",
            "|    max|            113174|\n",
            "+-------+------------------+\n",
            "\n",
            "+-------+------------------+\n",
            "|summary|          DeviceId|\n",
            "+-------+------------------+\n",
            "|  count|           9516837|\n",
            "|   mean| 95664.75937667105|\n",
            "| stddev|16352.878082760382|\n",
            "|    min|                 0|\n",
            "|    max|             98799|\n",
            "+-------+------------------+\n",
            "\n",
            "+-------+------------------+\n",
            "|summary|            Sha256|\n",
            "+-------+------------------+\n",
            "|  count|           9516837|\n",
            "|   mean|128719.06251772516|\n",
            "| stddev| 33992.08131041004|\n",
            "|    min|                 0|\n",
            "|    max|            138268|\n",
            "+-------+------------------+\n",
            "\n",
            "+-------+-----------------+\n",
            "|summary|        IpAddress|\n",
            "+-------+-----------------+\n",
            "|  count|          9516837|\n",
            "|   mean|285750.6059213791|\n",
            "| stddev|141224.0025391288|\n",
            "|    min|                0|\n",
            "|    max|           360606|\n",
            "+-------+-----------------+\n",
            "\n",
            "+-------+------------------+\n",
            "|summary|               Url|\n",
            "+-------+------------------+\n",
            "|  count|           9516837|\n",
            "|   mean|150331.68962355875|\n",
            "| stddev|37507.947035026984|\n",
            "|    min|                 0|\n",
            "|    max|            160396|\n",
            "+-------+------------------+\n",
            "\n",
            "+-------+------------------+\n",
            "|summary|        AccountSid|\n",
            "+-------+------------------+\n",
            "|  count|           9516837|\n",
            "|   mean|352446.57033098285|\n",
            "| stddev| 166496.5039621475|\n",
            "|    min|                 0|\n",
            "|    max|            441377|\n",
            "+-------+------------------+\n",
            "\n",
            "+-------+------------------+\n",
            "|summary|        AccountUpn|\n",
            "+-------+------------------+\n",
            "|  count|           9516837|\n",
            "|   mean| 464377.2554008228|\n",
            "| stddev|290227.48508265655|\n",
            "|    min|                 0|\n",
            "|    max|            673934|\n",
            "+-------+------------------+\n",
            "\n",
            "+-------+------------------+\n",
            "|summary|   AccountObjectId|\n",
            "+-------+------------------+\n",
            "|  count|           9516837|\n",
            "|   mean|340962.24058003724|\n",
            "| stddev| 159937.7327424319|\n",
            "|    min|                 0|\n",
            "|    max|            425863|\n",
            "+-------+------------------+\n",
            "\n",
            "+-------+------------------+\n",
            "|summary|       AccountName|\n",
            "+-------+------------------+\n",
            "|  count|           9516837|\n",
            "|   mean| 356966.4053009419|\n",
            "| stddev|174446.56336047658|\n",
            "|    min|                 0|\n",
            "|    max|            453297|\n",
            "+-------+------------------+\n",
            "\n",
            "+-------+-----------------+\n",
            "|summary|       DeviceName|\n",
            "+-------+-----------------+\n",
            "|  count|          9516837|\n",
            "|   mean|143229.8303901811|\n",
            "| stddev| 36070.5559415137|\n",
            "|    min|                0|\n",
            "|    max|           153085|\n",
            "+-------+-----------------+\n",
            "\n",
            "+-------+------------------+\n",
            "|summary|  NetworkMessageId|\n",
            "+-------+------------------+\n",
            "|  count|           9516837|\n",
            "|   mean| 480046.6944734895|\n",
            "| stddev|141758.38178252557|\n",
            "|    min|                 0|\n",
            "|    max|            529644|\n",
            "+-------+------------------+\n",
            "\n",
            "+-------+------------------+\n",
            "|summary|       RegistryKey|\n",
            "+-------+------------------+\n",
            "|  count|           9516837|\n",
            "|   mean|1628.1702543607714|\n",
            "| stddev| 66.75012029646115|\n",
            "|    min|                 0|\n",
            "|    max|              1631|\n",
            "+-------+------------------+\n",
            "\n",
            "+-------+------------------+\n",
            "|summary| RegistryValueName|\n",
            "+-------+------------------+\n",
            "|  count|           9516837|\n",
            "|   mean| 634.7344931934844|\n",
            "| stddev|12.581114349361183|\n",
            "|    min|                 0|\n",
            "|    max|               635|\n",
            "+-------+------------------+\n",
            "\n",
            "+-------+------------------+\n",
            "|summary| RegistryValueData|\n",
            "+-------+------------------+\n",
            "|  count|           9516837|\n",
            "|   mean| 859.5600832503488|\n",
            "| stddev|18.863029958903866|\n",
            "|    min|                 0|\n",
            "|    max|               860|\n",
            "+-------+------------------+\n",
            "\n",
            "+-------+------------------+\n",
            "|summary|     ApplicationId|\n",
            "+-------+------------------+\n",
            "|  count|           9516837|\n",
            "|   mean|2200.9102597848423|\n",
            "| stddev|331.55276222599485|\n",
            "|    min|                 0|\n",
            "|    max|              2251|\n",
            "+-------+------------------+\n",
            "\n",
            "+-------+--------------------+\n",
            "|summary|      EmailClusterId|\n",
            "+-------+--------------------+\n",
            "|  count|               96812|\n",
            "|   mean|  3.24250315718821E9|\n",
            "| stddev|1.0344680548497251E9|\n",
            "|    min|            192708.0|\n",
            "|    max|       4.294966974E9|\n",
            "+-------+--------------------+\n",
            "\n",
            "+-------+------------------+\n",
            "|summary|   ApplicationName|\n",
            "+-------+------------------+\n",
            "|  count|           9516837|\n",
            "|   mean| 3342.790298604463|\n",
            "| stddev|510.33810828082636|\n",
            "|    min|                 0|\n",
            "|    max|              3421|\n",
            "+-------+------------------+\n",
            "\n",
            "+-------+------------------+\n",
            "|summary|OAuthApplicationId|\n",
            "+-------+------------------+\n",
            "|  count|           9516837|\n",
            "|   mean| 880.7954823645713|\n",
            "| stddev|12.910830845026563|\n",
            "|    min|                 0|\n",
            "|    max|               881|\n",
            "+-------+------------------+\n",
            "\n",
            "+-------+--------------------+\n",
            "|summary|        ThreatFamily|\n",
            "+-------+--------------------+\n",
            "|  count|               74881|\n",
            "|   mean|                NULL|\n",
            "| stddev|                NULL|\n",
            "|    min|         2345Browser|\n",
            "|    max|uTorrent_BundleIn...|\n",
            "+-------+--------------------+\n",
            "\n",
            "+-------+------------------+\n",
            "|summary|          FileName|\n",
            "+-------+------------------+\n",
            "|  count|           9516837|\n",
            "|   mean|262262.09318652825|\n",
            "| stddev|   81529.557138471|\n",
            "|    min|                 0|\n",
            "|    max|            289573|\n",
            "+-------+------------------+\n",
            "\n",
            "+-------+------------------+\n",
            "|summary|        FolderPath|\n",
            "+-------+------------------+\n",
            "|  count|           9516837|\n",
            "|   mean|107617.15036424392|\n",
            "| stddev| 32208.35482718593|\n",
            "|    min|                 0|\n",
            "|    max|            117668|\n",
            "+-------+------------------+\n",
            "\n",
            "+-------+-----------------+\n",
            "|summary|   ResourceIdName|\n",
            "+-------+-----------------+\n",
            "|  count|          9516837|\n",
            "|   mean|3583.477294819697|\n",
            "| stddev|90.20261855599777|\n",
            "|    min|                0|\n",
            "|    max|             3586|\n",
            "+-------+-----------------+\n",
            "\n",
            "+-------+------------------+\n",
            "|summary|       CountryCode|\n",
            "+-------+------------------+\n",
            "|  count|           9516837|\n",
            "|   mean|223.67421413227945|\n",
            "| stddev|62.797291250200395|\n",
            "|    min|                 0|\n",
            "|    max|               242|\n",
            "+-------+------------------+\n",
            "\n",
            "+-------+------------------+\n",
            "|summary|             State|\n",
            "+-------+------------------+\n",
            "|  count|           9516837|\n",
            "|   mean| 1351.488426564414|\n",
            "| stddev|350.98079709130144|\n",
            "|    min|                 0|\n",
            "|    max|              1445|\n",
            "+-------+------------------+\n",
            "\n",
            "+-------+------------------+\n",
            "|summary|              City|\n",
            "+-------+------------------+\n",
            "|  count|           9516837|\n",
            "|   mean| 9936.183029613725|\n",
            "| stddev|2606.8124989430057|\n",
            "|    min|                 0|\n",
            "|    max|             10630|\n",
            "+-------+------------------+\n",
            "\n"
          ]
        }
      ]
    },
    {
      "cell_type": "code",
      "source": [
        "for c in num_col:\n",
        "  df.select(c).summary().show()"
      ],
      "metadata": {
        "id": "hEzCgBrUx6Jv"
      },
      "execution_count": null,
      "outputs": []
    },
    {
      "cell_type": "markdown",
      "source": [
        "Histograms"
      ],
      "metadata": {
        "id": "krELZJmYsp0A"
      }
    },
    {
      "cell_type": "code",
      "source": [
        "for c in num_col:\n",
        "  df_grouped = df.groupBy(c).count().orderBy(col(\"count\").desc())\n",
        "\n",
        "  # Convert to Pandas for plotting\n",
        "  pdf = df_grouped.toPandas()\n",
        "\n",
        "  # Bar plot\n",
        "  plt.bar(pdf[c], pdf[\"count\"])\n",
        "  # plt.xticks(rotation=45)\n",
        "  plt.ylabel(\"Count\")\n",
        "  plt.title(f\"{c} Distribution\")\n",
        "  plt.show()"
      ],
      "metadata": {
        "colab": {
          "base_uri": "https://localhost:8080/",
          "height": 1000
        },
        "id": "vCGOo30bso_t",
        "outputId": "ccc63a7e-bc01-4549-9da0-2921d19fbdbb"
      },
      "execution_count": 25,
      "outputs": [
        {
          "output_type": "display_data",
          "data": {
            "text/plain": [
              "<Figure size 640x480 with 1 Axes>"
            ],
            "image/png": "[encoded data removed]"
          },
          "metadata": {}
        },
        {
          "output_type": "display_data",
          "data": {
            "text/plain": [
              "<Figure size 640x480 with 1 Axes>"
            ],
            "image/png": "[encoded data removed]"
          },
          "metadata": {}
        },
        {
          "output_type": "display_data",
          "data": {
            "text/plain": [
              "<Figure size 640x480 with 1 Axes>"
            ],
            "image/png": "[encoded data removed]"
          },
          "metadata": {}
        },
        {
          "output_type": "error",
          "ename": "KeyboardInterrupt",
          "evalue": "",
          "traceback": [
            "\u001b[0;31m---------------------------------------------------------------------------\u001b[0m",
            "\u001b[0;31mKeyboardInterrupt\u001b[0m                         Traceback (most recent call last)",
            "\u001b[0;32m<ipython-input-25-b833ff154090>\u001b[0m in \u001b[0;36m<cell line: 0>\u001b[0;34m()\u001b[0m\n\u001b[1;32m      6\u001b[0m \u001b[0;34m\u001b[0m\u001b[0m\n\u001b[1;32m      7\u001b[0m   \u001b[0;31m# Bar plot\u001b[0m\u001b[0;34m\u001b[0m\u001b[0;34m\u001b[0m\u001b[0m\n\u001b[0;32m----> 8\u001b[0;31m   \u001b[0mplt\u001b[0m\u001b[0;34m.\u001b[0m\u001b[0mbar\u001b[0m\u001b[0;34m(\u001b[0m\u001b[0mpdf\u001b[0m\u001b[0;34m[\u001b[0m\u001b[0mc\u001b[0m\u001b[0;34m]\u001b[0m\u001b[0;34m,\u001b[0m \u001b[0mpdf\u001b[0m\u001b[0;34m[\u001b[0m\u001b[0;34m\"count\"\u001b[0m\u001b[0;34m]\u001b[0m\u001b[0;34m)\u001b[0m\u001b[0;34m\u001b[0m\u001b[0;34m\u001b[0m\u001b[0m\n\u001b[0m\u001b[1;32m      9\u001b[0m   \u001b[0;31m# plt.xticks(rotation=45)\u001b[0m\u001b[0;34m\u001b[0m\u001b[0;34m\u001b[0m\u001b[0m\n\u001b[1;32m     10\u001b[0m   \u001b[0mplt\u001b[0m\u001b[0;34m.\u001b[0m\u001b[0mylabel\u001b[0m\u001b[0;34m(\u001b[0m\u001b[0;34m\"Count\"\u001b[0m\u001b[0;34m)\u001b[0m\u001b[0;34m\u001b[0m\u001b[0;34m\u001b[0m\u001b[0m\n",
            "\u001b[0;32m/usr/local/lib/python3.11/dist-packages/matplotlib/pyplot.py\u001b[0m in \u001b[0;36mbar\u001b[0;34m(x, height, width, bottom, align, data, **kwargs)\u001b[0m\n\u001b[1;32m   2979\u001b[0m     \u001b[0;34m**\u001b[0m\u001b[0mkwargs\u001b[0m\u001b[0;34m,\u001b[0m\u001b[0;34m\u001b[0m\u001b[0;34m\u001b[0m\u001b[0m\n\u001b[1;32m   2980\u001b[0m ) -> BarContainer:\n\u001b[0;32m-> 2981\u001b[0;31m     return gca().bar(\n\u001b[0m\u001b[1;32m   2982\u001b[0m         \u001b[0mx\u001b[0m\u001b[0;34m,\u001b[0m\u001b[0;34m\u001b[0m\u001b[0;34m\u001b[0m\u001b[0m\n\u001b[1;32m   2983\u001b[0m         \u001b[0mheight\u001b[0m\u001b[0;34m,\u001b[0m\u001b[0;34m\u001b[0m\u001b[0;34m\u001b[0m\u001b[0m\n",
            "\u001b[0;32m/usr/local/lib/python3.11/dist-packages/matplotlib/__init__.py\u001b[0m in \u001b[0;36minner\u001b[0;34m(ax, data, *args, **kwargs)\u001b[0m\n\u001b[1;32m   1519\u001b[0m     \u001b[0;32mdef\u001b[0m \u001b[0minner\u001b[0m\u001b[0;34m(\u001b[0m\u001b[0max\u001b[0m\u001b[0;34m,\u001b[0m \u001b[0;34m*\u001b[0m\u001b[0margs\u001b[0m\u001b[0;34m,\u001b[0m \u001b[0mdata\u001b[0m\u001b[0;34m=\u001b[0m\u001b[0;32mNone\u001b[0m\u001b[0;34m,\u001b[0m \u001b[0;34m**\u001b[0m\u001b[0mkwargs\u001b[0m\u001b[0;34m)\u001b[0m\u001b[0;34m:\u001b[0m\u001b[0;34m\u001b[0m\u001b[0;34m\u001b[0m\u001b[0m\n\u001b[1;32m   1520\u001b[0m         \u001b[0;32mif\u001b[0m \u001b[0mdata\u001b[0m \u001b[0;32mis\u001b[0m \u001b[0;32mNone\u001b[0m\u001b[0;34m:\u001b[0m\u001b[0;34m\u001b[0m\u001b[0;34m\u001b[0m\u001b[0m\n\u001b[0;32m-> 1521\u001b[0;31m             return func(\n\u001b[0m\u001b[1;32m   1522\u001b[0m                 \u001b[0max\u001b[0m\u001b[0;34m,\u001b[0m\u001b[0;34m\u001b[0m\u001b[0;34m\u001b[0m\u001b[0m\n\u001b[1;32m   1523\u001b[0m                 \u001b[0;34m*\u001b[0m\u001b[0mmap\u001b[0m\u001b[0;34m(\u001b[0m\u001b[0mcbook\u001b[0m\u001b[0;34m.\u001b[0m\u001b[0msanitize_sequence\u001b[0m\u001b[0;34m,\u001b[0m \u001b[0margs\u001b[0m\u001b[0;34m)\u001b[0m\u001b[0;34m,\u001b[0m\u001b[0;34m\u001b[0m\u001b[0;34m\u001b[0m\u001b[0m\n",
            "\u001b[0;32m/usr/local/lib/python3.11/dist-packages/matplotlib/axes/_axes.py\u001b[0m in \u001b[0;36mbar\u001b[0;34m(self, x, height, width, bottom, align, **kwargs)\u001b[0m\n\u001b[1;32m   2633\u001b[0m                    hatch, patch_labels)\n\u001b[1;32m   2634\u001b[0m         \u001b[0;32mfor\u001b[0m \u001b[0ml\u001b[0m\u001b[0;34m,\u001b[0m \u001b[0mb\u001b[0m\u001b[0;34m,\u001b[0m \u001b[0mw\u001b[0m\u001b[0;34m,\u001b[0m \u001b[0mh\u001b[0m\u001b[0;34m,\u001b[0m \u001b[0mc\u001b[0m\u001b[0;34m,\u001b[0m \u001b[0me\u001b[0m\u001b[0;34m,\u001b[0m \u001b[0mlw\u001b[0m\u001b[0;34m,\u001b[0m \u001b[0mhtch\u001b[0m\u001b[0;34m,\u001b[0m \u001b[0mlbl\u001b[0m \u001b[0;32min\u001b[0m \u001b[0margs\u001b[0m\u001b[0;34m:\u001b[0m\u001b[0;34m\u001b[0m\u001b[0;34m\u001b[0m\u001b[0m\n\u001b[0;32m-> 2635\u001b[0;31m             r = mpatches.Rectangle(\n\u001b[0m\u001b[1;32m   2636\u001b[0m                 \u001b[0mxy\u001b[0m\u001b[0;34m=\u001b[0m\u001b[0;34m(\u001b[0m\u001b[0ml\u001b[0m\u001b[0;34m,\u001b[0m \u001b[0mb\u001b[0m\u001b[0;34m)\u001b[0m\u001b[0;34m,\u001b[0m \u001b[0mwidth\u001b[0m\u001b[0;34m=\u001b[0m\u001b[0mw\u001b[0m\u001b[0;34m,\u001b[0m \u001b[0mheight\u001b[0m\u001b[0;34m=\u001b[0m\u001b[0mh\u001b[0m\u001b[0;34m,\u001b[0m\u001b[0;34m\u001b[0m\u001b[0;34m\u001b[0m\u001b[0m\n\u001b[1;32m   2637\u001b[0m                 \u001b[0mfacecolor\u001b[0m\u001b[0;34m=\u001b[0m\u001b[0mc\u001b[0m\u001b[0;34m,\u001b[0m\u001b[0;34m\u001b[0m\u001b[0;34m\u001b[0m\u001b[0m\n",
            "\u001b[0;32m/usr/local/lib/python3.11/dist-packages/matplotlib/patches.py\u001b[0m in \u001b[0;36m__init__\u001b[0;34m(self, xy, width, height, angle, rotation_point, **kwargs)\u001b[0m\n\u001b[1;32m    770\u001b[0m             \u001b[0;34m%\u001b[0m\u001b[0;34m(\u001b[0m\u001b[0mPatch\u001b[0m\u001b[0;34m:\u001b[0m\u001b[0mkwdoc\u001b[0m\u001b[0;34m)\u001b[0m\u001b[0ms\u001b[0m\u001b[0;34m\u001b[0m\u001b[0;34m\u001b[0m\u001b[0m\n\u001b[1;32m    771\u001b[0m         \"\"\"\n\u001b[0;32m--> 772\u001b[0;31m         \u001b[0msuper\u001b[0m\u001b[0;34m(\u001b[0m\u001b[0;34m)\u001b[0m\u001b[0;34m.\u001b[0m\u001b[0m__init__\u001b[0m\u001b[0;34m(\u001b[0m\u001b[0;34m**\u001b[0m\u001b[0mkwargs\u001b[0m\u001b[0;34m)\u001b[0m\u001b[0;34m\u001b[0m\u001b[0;34m\u001b[0m\u001b[0m\n\u001b[0m\u001b[1;32m    773\u001b[0m         \u001b[0mself\u001b[0m\u001b[0;34m.\u001b[0m\u001b[0m_x0\u001b[0m \u001b[0;34m=\u001b[0m \u001b[0mxy\u001b[0m\u001b[0;34m[\u001b[0m\u001b[0;36m0\u001b[0m\u001b[0;34m]\u001b[0m\u001b[0;34m\u001b[0m\u001b[0;34m\u001b[0m\u001b[0m\n\u001b[1;32m    774\u001b[0m         \u001b[0mself\u001b[0m\u001b[0;34m.\u001b[0m\u001b[0m_y0\u001b[0m \u001b[0;34m=\u001b[0m \u001b[0mxy\u001b[0m\u001b[0;34m[\u001b[0m\u001b[0;36m1\u001b[0m\u001b[0;34m]\u001b[0m\u001b[0;34m\u001b[0m\u001b[0;34m\u001b[0m\u001b[0m\n",
            "\u001b[0;32m/usr/local/lib/python3.11/dist-packages/matplotlib/patches.py\u001b[0m in \u001b[0;36m__init__\u001b[0;34m(self, edgecolor, facecolor, color, linewidth, linestyle, antialiased, hatch, fill, capstyle, joinstyle, **kwargs)\u001b[0m\n\u001b[1;32m     63\u001b[0m         \u001b[0;34m%\u001b[0m\u001b[0;34m(\u001b[0m\u001b[0mPatch\u001b[0m\u001b[0;34m:\u001b[0m\u001b[0mkwdoc\u001b[0m\u001b[0;34m)\u001b[0m\u001b[0ms\u001b[0m\u001b[0;34m\u001b[0m\u001b[0;34m\u001b[0m\u001b[0m\n\u001b[1;32m     64\u001b[0m         \"\"\"\n\u001b[0;32m---> 65\u001b[0;31m         \u001b[0msuper\u001b[0m\u001b[0;34m(\u001b[0m\u001b[0;34m)\u001b[0m\u001b[0;34m.\u001b[0m\u001b[0m__init__\u001b[0m\u001b[0;34m(\u001b[0m\u001b[0;34m)\u001b[0m\u001b[0;34m\u001b[0m\u001b[0;34m\u001b[0m\u001b[0m\n\u001b[0m\u001b[1;32m     66\u001b[0m \u001b[0;34m\u001b[0m\u001b[0m\n\u001b[1;32m     67\u001b[0m         \u001b[0;32mif\u001b[0m \u001b[0mlinestyle\u001b[0m \u001b[0;32mis\u001b[0m \u001b[0;32mNone\u001b[0m\u001b[0;34m:\u001b[0m\u001b[0;34m\u001b[0m\u001b[0;34m\u001b[0m\u001b[0m\n",
            "\u001b[0;32m/usr/local/lib/python3.11/dist-packages/matplotlib/artist.py\u001b[0m in \u001b[0;36m__init__\u001b[0;34m(self)\u001b[0m\n\u001b[1;32m    198\u001b[0m         \u001b[0;31m# only if they override get_cursor_data.\u001b[0m\u001b[0;34m\u001b[0m\u001b[0;34m\u001b[0m\u001b[0m\n\u001b[1;32m    199\u001b[0m         \u001b[0mself\u001b[0m\u001b[0;34m.\u001b[0m\u001b[0m_mouseover\u001b[0m \u001b[0;34m=\u001b[0m \u001b[0mtype\u001b[0m\u001b[0;34m(\u001b[0m\u001b[0mself\u001b[0m\u001b[0;34m)\u001b[0m\u001b[0;34m.\u001b[0m\u001b[0mget_cursor_data\u001b[0m \u001b[0;34m!=\u001b[0m \u001b[0mArtist\u001b[0m\u001b[0;34m.\u001b[0m\u001b[0mget_cursor_data\u001b[0m\u001b[0;34m\u001b[0m\u001b[0;34m\u001b[0m\u001b[0m\n\u001b[0;32m--> 200\u001b[0;31m         \u001b[0mself\u001b[0m\u001b[0;34m.\u001b[0m\u001b[0m_callbacks\u001b[0m \u001b[0;34m=\u001b[0m \u001b[0mcbook\u001b[0m\u001b[0;34m.\u001b[0m\u001b[0mCallbackRegistry\u001b[0m\u001b[0;34m(\u001b[0m\u001b[0msignals\u001b[0m\u001b[0;34m=\u001b[0m\u001b[0;34m[\u001b[0m\u001b[0;34m\"pchanged\"\u001b[0m\u001b[0;34m]\u001b[0m\u001b[0;34m)\u001b[0m\u001b[0;34m\u001b[0m\u001b[0;34m\u001b[0m\u001b[0m\n\u001b[0m\u001b[1;32m    201\u001b[0m         \u001b[0;32mtry\u001b[0m\u001b[0;34m:\u001b[0m\u001b[0;34m\u001b[0m\u001b[0;34m\u001b[0m\u001b[0m\n\u001b[1;32m    202\u001b[0m             \u001b[0mself\u001b[0m\u001b[0;34m.\u001b[0m\u001b[0maxes\u001b[0m \u001b[0;34m=\u001b[0m \u001b[0;32mNone\u001b[0m\u001b[0;34m\u001b[0m\u001b[0;34m\u001b[0m\u001b[0m\n",
            "\u001b[0;32m/usr/local/lib/python3.11/dist-packages/matplotlib/cbook.py\u001b[0m in \u001b[0;36m__init__\u001b[0;34m(self, exception_handler, signals)\u001b[0m\n\u001b[1;32m    258\u001b[0m \u001b[0;34m\u001b[0m\u001b[0m\n\u001b[1;32m    259\u001b[0m     \u001b[0;32mdef\u001b[0m \u001b[0m__init__\u001b[0m\u001b[0;34m(\u001b[0m\u001b[0mself\u001b[0m\u001b[0;34m,\u001b[0m \u001b[0mexception_handler\u001b[0m\u001b[0;34m=\u001b[0m\u001b[0m_exception_printer\u001b[0m\u001b[0;34m,\u001b[0m \u001b[0;34m*\u001b[0m\u001b[0;34m,\u001b[0m \u001b[0msignals\u001b[0m\u001b[0;34m=\u001b[0m\u001b[0;32mNone\u001b[0m\u001b[0;34m)\u001b[0m\u001b[0;34m:\u001b[0m\u001b[0;34m\u001b[0m\u001b[0;34m\u001b[0m\u001b[0m\n\u001b[0;32m--> 260\u001b[0;31m         \u001b[0mself\u001b[0m\u001b[0;34m.\u001b[0m\u001b[0m_signals\u001b[0m \u001b[0;34m=\u001b[0m \u001b[0;32mNone\u001b[0m \u001b[0;32mif\u001b[0m \u001b[0msignals\u001b[0m \u001b[0;32mis\u001b[0m \u001b[0;32mNone\u001b[0m \u001b[0;32melse\u001b[0m \u001b[0mlist\u001b[0m\u001b[0;34m(\u001b[0m\u001b[0msignals\u001b[0m\u001b[0;34m)\u001b[0m  \u001b[0;31m# Copy it.\u001b[0m\u001b[0;34m\u001b[0m\u001b[0;34m\u001b[0m\u001b[0m\n\u001b[0m\u001b[1;32m    261\u001b[0m         \u001b[0mself\u001b[0m\u001b[0;34m.\u001b[0m\u001b[0mexception_handler\u001b[0m \u001b[0;34m=\u001b[0m \u001b[0mexception_handler\u001b[0m\u001b[0;34m\u001b[0m\u001b[0;34m\u001b[0m\u001b[0m\n\u001b[1;32m    262\u001b[0m         \u001b[0mself\u001b[0m\u001b[0;34m.\u001b[0m\u001b[0mcallbacks\u001b[0m \u001b[0;34m=\u001b[0m \u001b[0;34m{\u001b[0m\u001b[0;34m}\u001b[0m\u001b[0;34m\u001b[0m\u001b[0;34m\u001b[0m\u001b[0m\n",
            "\u001b[0;31mKeyboardInterrupt\u001b[0m: "
          ]
        },
        {
          "output_type": "stream",
          "name": "stdout",
          "text": [
            "Error in callback <function _draw_all_if_interactive at 0x7a736fe696c0> (for post_execute):\n"
          ]
        },
        {
          "output_type": "error",
          "ename": "KeyboardInterrupt",
          "evalue": "",
          "traceback": [
            "\u001b[0;31m---------------------------------------------------------------------------\u001b[0m",
            "\u001b[0;31mKeyboardInterrupt\u001b[0m                         Traceback (most recent call last)",
            "\u001b[0;32m/usr/local/lib/python3.11/dist-packages/matplotlib/pyplot.py\u001b[0m in \u001b[0;36m_draw_all_if_interactive\u001b[0;34m()\u001b[0m\n\u001b[1;32m    277\u001b[0m \u001b[0;32mdef\u001b[0m \u001b[0m_draw_all_if_interactive\u001b[0m\u001b[0;34m(\u001b[0m\u001b[0;34m)\u001b[0m \u001b[0;34m->\u001b[0m \u001b[0;32mNone\u001b[0m\u001b[0;34m:\u001b[0m\u001b[0;34m\u001b[0m\u001b[0;34m\u001b[0m\u001b[0m\n\u001b[1;32m    278\u001b[0m     \u001b[0;32mif\u001b[0m \u001b[0mmatplotlib\u001b[0m\u001b[0;34m.\u001b[0m\u001b[0mis_interactive\u001b[0m\u001b[0;34m(\u001b[0m\u001b[0;34m)\u001b[0m\u001b[0;34m:\u001b[0m\u001b[0;34m\u001b[0m\u001b[0;34m\u001b[0m\u001b[0m\n\u001b[0;32m--> 279\u001b[0;31m         \u001b[0mdraw_all\u001b[0m\u001b[0;34m(\u001b[0m\u001b[0;34m)\u001b[0m\u001b[0;34m\u001b[0m\u001b[0;34m\u001b[0m\u001b[0m\n\u001b[0m\u001b[1;32m    280\u001b[0m \u001b[0;34m\u001b[0m\u001b[0m\n\u001b[1;32m    281\u001b[0m \u001b[0;34m\u001b[0m\u001b[0m\n",
            "\u001b[0;32m/usr/local/lib/python3.11/dist-packages/matplotlib/_pylab_helpers.py\u001b[0m in \u001b[0;36mdraw_all\u001b[0;34m(cls, force)\u001b[0m\n\u001b[1;32m    129\u001b[0m         \u001b[0;32mfor\u001b[0m \u001b[0mmanager\u001b[0m \u001b[0;32min\u001b[0m \u001b[0mcls\u001b[0m\u001b[0;34m.\u001b[0m\u001b[0mget_all_fig_managers\u001b[0m\u001b[0;34m(\u001b[0m\u001b[0;34m)\u001b[0m\u001b[0;34m:\u001b[0m\u001b[0;34m\u001b[0m\u001b[0;34m\u001b[0m\u001b[0m\n\u001b[1;32m    130\u001b[0m             \u001b[0;32mif\u001b[0m \u001b[0mforce\u001b[0m \u001b[0;32mor\u001b[0m \u001b[0mmanager\u001b[0m\u001b[0;34m.\u001b[0m\u001b[0mcanvas\u001b[0m\u001b[0;34m.\u001b[0m\u001b[0mfigure\u001b[0m\u001b[0;34m.\u001b[0m\u001b[0mstale\u001b[0m\u001b[0;34m:\u001b[0m\u001b[0;34m\u001b[0m\u001b[0;34m\u001b[0m\u001b[0m\n\u001b[0;32m--> 131\u001b[0;31m                 \u001b[0mmanager\u001b[0m\u001b[0;34m.\u001b[0m\u001b[0mcanvas\u001b[0m\u001b[0;34m.\u001b[0m\u001b[0mdraw_idle\u001b[0m\u001b[0;34m(\u001b[0m\u001b[0;34m)\u001b[0m\u001b[0;34m\u001b[0m\u001b[0;34m\u001b[0m\u001b[0m\n\u001b[0m\u001b[1;32m    132\u001b[0m \u001b[0;34m\u001b[0m\u001b[0m\n\u001b[1;32m    133\u001b[0m \u001b[0;34m\u001b[0m\u001b[0m\n",
            "\u001b[0;32m/usr/local/lib/python3.11/dist-packages/matplotlib/backend_bases.py\u001b[0m in \u001b[0;36mdraw_idle\u001b[0;34m(self, *args, **kwargs)\u001b[0m\n\u001b[1;32m   1889\u001b[0m         \u001b[0;32mif\u001b[0m \u001b[0;32mnot\u001b[0m \u001b[0mself\u001b[0m\u001b[0;34m.\u001b[0m\u001b[0m_is_idle_drawing\u001b[0m\u001b[0;34m:\u001b[0m\u001b[0;34m\u001b[0m\u001b[0;34m\u001b[0m\u001b[0m\n\u001b[1;32m   1890\u001b[0m             \u001b[0;32mwith\u001b[0m \u001b[0mself\u001b[0m\u001b[0;34m.\u001b[0m\u001b[0m_idle_draw_cntx\u001b[0m\u001b[0;34m(\u001b[0m\u001b[0;34m)\u001b[0m\u001b[0;34m:\u001b[0m\u001b[0;34m\u001b[0m\u001b[0;34m\u001b[0m\u001b[0m\n\u001b[0;32m-> 1891\u001b[0;31m                 \u001b[0mself\u001b[0m\u001b[0;34m.\u001b[0m\u001b[0mdraw\u001b[0m\u001b[0;34m(\u001b[0m\u001b[0;34m*\u001b[0m\u001b[0margs\u001b[0m\u001b[0;34m,\u001b[0m \u001b[0;34m**\u001b[0m\u001b[0mkwargs\u001b[0m\u001b[0;34m)\u001b[0m\u001b[0;34m\u001b[0m\u001b[0;34m\u001b[0m\u001b[0m\n\u001b[0m\u001b[1;32m   1892\u001b[0m \u001b[0;34m\u001b[0m\u001b[0m\n\u001b[1;32m   1893\u001b[0m     \u001b[0;34m@\u001b[0m\u001b[0mproperty\u001b[0m\u001b[0;34m\u001b[0m\u001b[0;34m\u001b[0m\u001b[0m\n",
            "\u001b[0;32m/usr/local/lib/python3.11/dist-packages/matplotlib/backends/backend_agg.py\u001b[0m in \u001b[0;36mdraw\u001b[0;34m(self)\u001b[0m\n\u001b[1;32m    380\u001b[0m         with (self.toolbar._wait_cursor_for_draw_cm() if self.toolbar\n\u001b[1;32m    381\u001b[0m               else nullcontext()):\n\u001b[0;32m--> 382\u001b[0;31m             \u001b[0mself\u001b[0m\u001b[0;34m.\u001b[0m\u001b[0mfigure\u001b[0m\u001b[0;34m.\u001b[0m\u001b[0mdraw\u001b[0m\u001b[0;34m(\u001b[0m\u001b[0mself\u001b[0m\u001b[0;34m.\u001b[0m\u001b[0mrenderer\u001b[0m\u001b[0;34m)\u001b[0m\u001b[0;34m\u001b[0m\u001b[0;34m\u001b[0m\u001b[0m\n\u001b[0m\u001b[1;32m    383\u001b[0m             \u001b[0;31m# A GUI class may be need to update a window using this draw, so\u001b[0m\u001b[0;34m\u001b[0m\u001b[0;34m\u001b[0m\u001b[0m\n\u001b[1;32m    384\u001b[0m             \u001b[0;31m# don't forget to call the superclass.\u001b[0m\u001b[0;34m\u001b[0m\u001b[0;34m\u001b[0m\u001b[0m\n",
            "\u001b[0;32m/usr/local/lib/python3.11/dist-packages/matplotlib/artist.py\u001b[0m in \u001b[0;36mdraw_wrapper\u001b[0;34m(artist, renderer, *args, **kwargs)\u001b[0m\n\u001b[1;32m     92\u001b[0m     \u001b[0;34m@\u001b[0m\u001b[0mwraps\u001b[0m\u001b[0;34m(\u001b[0m\u001b[0mdraw\u001b[0m\u001b[0;34m)\u001b[0m\u001b[0;34m\u001b[0m\u001b[0;34m\u001b[0m\u001b[0m\n\u001b[1;32m     93\u001b[0m     \u001b[0;32mdef\u001b[0m \u001b[0mdraw_wrapper\u001b[0m\u001b[0;34m(\u001b[0m\u001b[0martist\u001b[0m\u001b[0;34m,\u001b[0m \u001b[0mrenderer\u001b[0m\u001b[0;34m,\u001b[0m \u001b[0;34m*\u001b[0m\u001b[0margs\u001b[0m\u001b[0;34m,\u001b[0m \u001b[0;34m**\u001b[0m\u001b[0mkwargs\u001b[0m\u001b[0;34m)\u001b[0m\u001b[0;34m:\u001b[0m\u001b[0;34m\u001b[0m\u001b[0;34m\u001b[0m\u001b[0m\n\u001b[0;32m---> 94\u001b[0;31m         \u001b[0mresult\u001b[0m \u001b[0;34m=\u001b[0m \u001b[0mdraw\u001b[0m\u001b[0;34m(\u001b[0m\u001b[0martist\u001b[0m\u001b[0;34m,\u001b[0m \u001b[0mrenderer\u001b[0m\u001b[0;34m,\u001b[0m \u001b[0;34m*\u001b[0m\u001b[0margs\u001b[0m\u001b[0;34m,\u001b[0m \u001b[0;34m**\u001b[0m\u001b[0mkwargs\u001b[0m\u001b[0;34m)\u001b[0m\u001b[0;34m\u001b[0m\u001b[0;34m\u001b[0m\u001b[0m\n\u001b[0m\u001b[1;32m     95\u001b[0m         \u001b[0;32mif\u001b[0m \u001b[0mrenderer\u001b[0m\u001b[0;34m.\u001b[0m\u001b[0m_rasterizing\u001b[0m\u001b[0;34m:\u001b[0m\u001b[0;34m\u001b[0m\u001b[0;34m\u001b[0m\u001b[0m\n\u001b[1;32m     96\u001b[0m             \u001b[0mrenderer\u001b[0m\u001b[0;34m.\u001b[0m\u001b[0mstop_rasterizing\u001b[0m\u001b[0;34m(\u001b[0m\u001b[0;34m)\u001b[0m\u001b[0;34m\u001b[0m\u001b[0;34m\u001b[0m\u001b[0m\n",
            "\u001b[0;32m/usr/local/lib/python3.11/dist-packages/matplotlib/artist.py\u001b[0m in \u001b[0;36mdraw_wrapper\u001b[0;34m(artist, renderer)\u001b[0m\n\u001b[1;32m     69\u001b[0m                 \u001b[0mrenderer\u001b[0m\u001b[0;34m.\u001b[0m\u001b[0mstart_filter\u001b[0m\u001b[0;34m(\u001b[0m\u001b[0;34m)\u001b[0m\u001b[0;34m\u001b[0m\u001b[0;34m\u001b[0m\u001b[0m\n\u001b[1;32m     70\u001b[0m \u001b[0;34m\u001b[0m\u001b[0m\n\u001b[0;32m---> 71\u001b[0;31m             \u001b[0;32mreturn\u001b[0m \u001b[0mdraw\u001b[0m\u001b[0;34m(\u001b[0m\u001b[0martist\u001b[0m\u001b[0;34m,\u001b[0m \u001b[0mrenderer\u001b[0m\u001b[0;34m)\u001b[0m\u001b[0;34m\u001b[0m\u001b[0;34m\u001b[0m\u001b[0m\n\u001b[0m\u001b[1;32m     72\u001b[0m         \u001b[0;32mfinally\u001b[0m\u001b[0;34m:\u001b[0m\u001b[0;34m\u001b[0m\u001b[0;34m\u001b[0m\u001b[0m\n\u001b[1;32m     73\u001b[0m             \u001b[0;32mif\u001b[0m \u001b[0martist\u001b[0m\u001b[0;34m.\u001b[0m\u001b[0mget_agg_filter\u001b[0m\u001b[0;34m(\u001b[0m\u001b[0;34m)\u001b[0m \u001b[0;32mis\u001b[0m \u001b[0;32mnot\u001b[0m \u001b[0;32mNone\u001b[0m\u001b[0;34m:\u001b[0m\u001b[0;34m\u001b[0m\u001b[0;34m\u001b[0m\u001b[0m\n",
            "\u001b[0;32m/usr/local/lib/python3.11/dist-packages/matplotlib/figure.py\u001b[0m in \u001b[0;36mdraw\u001b[0;34m(self, renderer)\u001b[0m\n\u001b[1;32m   3255\u001b[0m \u001b[0;34m\u001b[0m\u001b[0m\n\u001b[1;32m   3256\u001b[0m                 \u001b[0mself\u001b[0m\u001b[0;34m.\u001b[0m\u001b[0mpatch\u001b[0m\u001b[0;34m.\u001b[0m\u001b[0mdraw\u001b[0m\u001b[0;34m(\u001b[0m\u001b[0mrenderer\u001b[0m\u001b[0;34m)\u001b[0m\u001b[0;34m\u001b[0m\u001b[0;34m\u001b[0m\u001b[0m\n\u001b[0;32m-> 3257\u001b[0;31m                 mimage._draw_list_compositing_images(\n\u001b[0m\u001b[1;32m   3258\u001b[0m                     renderer, self, artists, self.suppressComposite)\n\u001b[1;32m   3259\u001b[0m \u001b[0;34m\u001b[0m\u001b[0m\n",
            "\u001b[0;32m/usr/local/lib/python3.11/dist-packages/matplotlib/image.py\u001b[0m in \u001b[0;36m_draw_list_compositing_images\u001b[0;34m(renderer, parent, artists, suppress_composite)\u001b[0m\n\u001b[1;32m    132\u001b[0m     \u001b[0;32mif\u001b[0m \u001b[0mnot_composite\u001b[0m \u001b[0;32mor\u001b[0m \u001b[0;32mnot\u001b[0m \u001b[0mhas_images\u001b[0m\u001b[0;34m:\u001b[0m\u001b[0;34m\u001b[0m\u001b[0;34m\u001b[0m\u001b[0m\n\u001b[1;32m    133\u001b[0m         \u001b[0;32mfor\u001b[0m \u001b[0ma\u001b[0m \u001b[0;32min\u001b[0m \u001b[0martists\u001b[0m\u001b[0;34m:\u001b[0m\u001b[0;34m\u001b[0m\u001b[0;34m\u001b[0m\u001b[0m\n\u001b[0;32m--> 134\u001b[0;31m             \u001b[0ma\u001b[0m\u001b[0;34m.\u001b[0m\u001b[0mdraw\u001b[0m\u001b[0;34m(\u001b[0m\u001b[0mrenderer\u001b[0m\u001b[0;34m)\u001b[0m\u001b[0;34m\u001b[0m\u001b[0;34m\u001b[0m\u001b[0m\n\u001b[0m\u001b[1;32m    135\u001b[0m     \u001b[0;32melse\u001b[0m\u001b[0;34m:\u001b[0m\u001b[0;34m\u001b[0m\u001b[0;34m\u001b[0m\u001b[0m\n\u001b[1;32m    136\u001b[0m         \u001b[0;31m# Composite any adjacent images together\u001b[0m\u001b[0;34m\u001b[0m\u001b[0;34m\u001b[0m\u001b[0m\n",
            "\u001b[0;32m/usr/local/lib/python3.11/dist-packages/matplotlib/artist.py\u001b[0m in \u001b[0;36mdraw_wrapper\u001b[0;34m(artist, renderer)\u001b[0m\n\u001b[1;32m     69\u001b[0m                 \u001b[0mrenderer\u001b[0m\u001b[0;34m.\u001b[0m\u001b[0mstart_filter\u001b[0m\u001b[0;34m(\u001b[0m\u001b[0;34m)\u001b[0m\u001b[0;34m\u001b[0m\u001b[0;34m\u001b[0m\u001b[0m\n\u001b[1;32m     70\u001b[0m \u001b[0;34m\u001b[0m\u001b[0m\n\u001b[0;32m---> 71\u001b[0;31m             \u001b[0;32mreturn\u001b[0m \u001b[0mdraw\u001b[0m\u001b[0;34m(\u001b[0m\u001b[0martist\u001b[0m\u001b[0;34m,\u001b[0m \u001b[0mrenderer\u001b[0m\u001b[0;34m)\u001b[0m\u001b[0;34m\u001b[0m\u001b[0;34m\u001b[0m\u001b[0m\n\u001b[0m\u001b[1;32m     72\u001b[0m         \u001b[0;32mfinally\u001b[0m\u001b[0;34m:\u001b[0m\u001b[0;34m\u001b[0m\u001b[0;34m\u001b[0m\u001b[0m\n\u001b[1;32m     73\u001b[0m             \u001b[0;32mif\u001b[0m \u001b[0martist\u001b[0m\u001b[0;34m.\u001b[0m\u001b[0mget_agg_filter\u001b[0m\u001b[0;34m(\u001b[0m\u001b[0;34m)\u001b[0m \u001b[0;32mis\u001b[0m \u001b[0;32mnot\u001b[0m \u001b[0;32mNone\u001b[0m\u001b[0;34m:\u001b[0m\u001b[0;34m\u001b[0m\u001b[0;34m\u001b[0m\u001b[0m\n",
            "\u001b[0;32m/usr/local/lib/python3.11/dist-packages/matplotlib/axes/_base.py\u001b[0m in \u001b[0;36mdraw\u001b[0;34m(self, renderer)\u001b[0m\n\u001b[1;32m   3179\u001b[0m             \u001b[0m_draw_rasterized\u001b[0m\u001b[0;34m(\u001b[0m\u001b[0mself\u001b[0m\u001b[0;34m.\u001b[0m\u001b[0mget_figure\u001b[0m\u001b[0;34m(\u001b[0m\u001b[0mroot\u001b[0m\u001b[0;34m=\u001b[0m\u001b[0;32mTrue\u001b[0m\u001b[0;34m)\u001b[0m\u001b[0;34m,\u001b[0m \u001b[0martists_rasterized\u001b[0m\u001b[0;34m,\u001b[0m \u001b[0mrenderer\u001b[0m\u001b[0;34m)\u001b[0m\u001b[0;34m\u001b[0m\u001b[0;34m\u001b[0m\u001b[0m\n\u001b[1;32m   3180\u001b[0m \u001b[0;34m\u001b[0m\u001b[0m\n\u001b[0;32m-> 3181\u001b[0;31m         mimage._draw_list_compositing_images(\n\u001b[0m\u001b[1;32m   3182\u001b[0m             renderer, self, artists, self.get_figure(root=True).suppressComposite)\n\u001b[1;32m   3183\u001b[0m \u001b[0;34m\u001b[0m\u001b[0m\n",
            "\u001b[0;32m/usr/local/lib/python3.11/dist-packages/matplotlib/image.py\u001b[0m in \u001b[0;36m_draw_list_compositing_images\u001b[0;34m(renderer, parent, artists, suppress_composite)\u001b[0m\n\u001b[1;32m    132\u001b[0m     \u001b[0;32mif\u001b[0m \u001b[0mnot_composite\u001b[0m \u001b[0;32mor\u001b[0m \u001b[0;32mnot\u001b[0m \u001b[0mhas_images\u001b[0m\u001b[0;34m:\u001b[0m\u001b[0;34m\u001b[0m\u001b[0;34m\u001b[0m\u001b[0m\n\u001b[1;32m    133\u001b[0m         \u001b[0;32mfor\u001b[0m \u001b[0ma\u001b[0m \u001b[0;32min\u001b[0m \u001b[0martists\u001b[0m\u001b[0;34m:\u001b[0m\u001b[0;34m\u001b[0m\u001b[0;34m\u001b[0m\u001b[0m\n\u001b[0;32m--> 134\u001b[0;31m             \u001b[0ma\u001b[0m\u001b[0;34m.\u001b[0m\u001b[0mdraw\u001b[0m\u001b[0;34m(\u001b[0m\u001b[0mrenderer\u001b[0m\u001b[0;34m)\u001b[0m\u001b[0;34m\u001b[0m\u001b[0;34m\u001b[0m\u001b[0m\n\u001b[0m\u001b[1;32m    135\u001b[0m     \u001b[0;32melse\u001b[0m\u001b[0;34m:\u001b[0m\u001b[0;34m\u001b[0m\u001b[0;34m\u001b[0m\u001b[0m\n\u001b[1;32m    136\u001b[0m         \u001b[0;31m# Composite any adjacent images together\u001b[0m\u001b[0;34m\u001b[0m\u001b[0;34m\u001b[0m\u001b[0m\n",
            "\u001b[0;32m/usr/local/lib/python3.11/dist-packages/matplotlib/artist.py\u001b[0m in \u001b[0;36mdraw_wrapper\u001b[0;34m(artist, renderer)\u001b[0m\n\u001b[1;32m     69\u001b[0m                 \u001b[0mrenderer\u001b[0m\u001b[0;34m.\u001b[0m\u001b[0mstart_filter\u001b[0m\u001b[0;34m(\u001b[0m\u001b[0;34m)\u001b[0m\u001b[0;34m\u001b[0m\u001b[0;34m\u001b[0m\u001b[0m\n\u001b[1;32m     70\u001b[0m \u001b[0;34m\u001b[0m\u001b[0m\n\u001b[0;32m---> 71\u001b[0;31m             \u001b[0;32mreturn\u001b[0m \u001b[0mdraw\u001b[0m\u001b[0;34m(\u001b[0m\u001b[0martist\u001b[0m\u001b[0;34m,\u001b[0m \u001b[0mrenderer\u001b[0m\u001b[0;34m)\u001b[0m\u001b[0;34m\u001b[0m\u001b[0;34m\u001b[0m\u001b[0m\n\u001b[0m\u001b[1;32m     72\u001b[0m         \u001b[0;32mfinally\u001b[0m\u001b[0;34m:\u001b[0m\u001b[0;34m\u001b[0m\u001b[0;34m\u001b[0m\u001b[0m\n\u001b[1;32m     73\u001b[0m             \u001b[0;32mif\u001b[0m \u001b[0martist\u001b[0m\u001b[0;34m.\u001b[0m\u001b[0mget_agg_filter\u001b[0m\u001b[0;34m(\u001b[0m\u001b[0;34m)\u001b[0m \u001b[0;32mis\u001b[0m \u001b[0;32mnot\u001b[0m \u001b[0;32mNone\u001b[0m\u001b[0;34m:\u001b[0m\u001b[0;34m\u001b[0m\u001b[0;34m\u001b[0m\u001b[0m\n",
            "\u001b[0;32m/usr/local/lib/python3.11/dist-packages/matplotlib/patches.py\u001b[0m in \u001b[0;36mdraw\u001b[0;34m(self, renderer)\u001b[0m\n\u001b[1;32m    637\u001b[0m             \u001b[0;32mreturn\u001b[0m\u001b[0;34m\u001b[0m\u001b[0;34m\u001b[0m\u001b[0m\n\u001b[1;32m    638\u001b[0m         \u001b[0mpath\u001b[0m \u001b[0;34m=\u001b[0m \u001b[0mself\u001b[0m\u001b[0;34m.\u001b[0m\u001b[0mget_path\u001b[0m\u001b[0;34m(\u001b[0m\u001b[0;34m)\u001b[0m\u001b[0;34m\u001b[0m\u001b[0;34m\u001b[0m\u001b[0m\n\u001b[0;32m--> 639\u001b[0;31m         \u001b[0mtransform\u001b[0m \u001b[0;34m=\u001b[0m \u001b[0mself\u001b[0m\u001b[0;34m.\u001b[0m\u001b[0mget_transform\u001b[0m\u001b[0;34m(\u001b[0m\u001b[0;34m)\u001b[0m\u001b[0;34m\u001b[0m\u001b[0;34m\u001b[0m\u001b[0m\n\u001b[0m\u001b[1;32m    640\u001b[0m         \u001b[0mtpath\u001b[0m \u001b[0;34m=\u001b[0m \u001b[0mtransform\u001b[0m\u001b[0;34m.\u001b[0m\u001b[0mtransform_path_non_affine\u001b[0m\u001b[0;34m(\u001b[0m\u001b[0mpath\u001b[0m\u001b[0;34m)\u001b[0m\u001b[0;34m\u001b[0m\u001b[0;34m\u001b[0m\u001b[0m\n\u001b[1;32m    641\u001b[0m         \u001b[0maffine\u001b[0m \u001b[0;34m=\u001b[0m \u001b[0mtransform\u001b[0m\u001b[0;34m.\u001b[0m\u001b[0mget_affine\u001b[0m\u001b[0;34m(\u001b[0m\u001b[0;34m)\u001b[0m\u001b[0;34m\u001b[0m\u001b[0;34m\u001b[0m\u001b[0m\n",
            "\u001b[0;32m/usr/local/lib/python3.11/dist-packages/matplotlib/patches.py\u001b[0m in \u001b[0;36mget_transform\u001b[0;34m(self)\u001b[0m\n\u001b[1;32m    307\u001b[0m     \u001b[0;32mdef\u001b[0m \u001b[0mget_transform\u001b[0m\u001b[0;34m(\u001b[0m\u001b[0mself\u001b[0m\u001b[0;34m)\u001b[0m\u001b[0;34m:\u001b[0m\u001b[0;34m\u001b[0m\u001b[0;34m\u001b[0m\u001b[0m\n\u001b[1;32m    308\u001b[0m         \u001b[0;34m\"\"\"Return the `~.transforms.Transform` applied to the `Patch`.\"\"\"\u001b[0m\u001b[0;34m\u001b[0m\u001b[0;34m\u001b[0m\u001b[0m\n\u001b[0;32m--> 309\u001b[0;31m         \u001b[0;32mreturn\u001b[0m \u001b[0mself\u001b[0m\u001b[0;34m.\u001b[0m\u001b[0mget_patch_transform\u001b[0m\u001b[0;34m(\u001b[0m\u001b[0;34m)\u001b[0m \u001b[0;34m+\u001b[0m \u001b[0martist\u001b[0m\u001b[0;34m.\u001b[0m\u001b[0mArtist\u001b[0m\u001b[0;34m.\u001b[0m\u001b[0mget_transform\u001b[0m\u001b[0;34m(\u001b[0m\u001b[0mself\u001b[0m\u001b[0;34m)\u001b[0m\u001b[0;34m\u001b[0m\u001b[0;34m\u001b[0m\u001b[0m\n\u001b[0m\u001b[1;32m    310\u001b[0m \u001b[0;34m\u001b[0m\u001b[0m\n\u001b[1;32m    311\u001b[0m     \u001b[0;32mdef\u001b[0m \u001b[0mget_data_transform\u001b[0m\u001b[0;34m(\u001b[0m\u001b[0mself\u001b[0m\u001b[0;34m)\u001b[0m\u001b[0;34m:\u001b[0m\u001b[0;34m\u001b[0m\u001b[0;34m\u001b[0m\u001b[0m\n",
            "\u001b[0;32m/usr/local/lib/python3.11/dist-packages/matplotlib/patches.py\u001b[0m in \u001b[0;36mget_patch_transform\u001b[0;34m(self)\u001b[0m\n\u001b[1;32m    811\u001b[0m         \u001b[0;32melse\u001b[0m\u001b[0;34m:\u001b[0m\u001b[0;34m\u001b[0m\u001b[0;34m\u001b[0m\u001b[0m\n\u001b[1;32m    812\u001b[0m             \u001b[0mrotation_point\u001b[0m \u001b[0;34m=\u001b[0m \u001b[0mself\u001b[0m\u001b[0;34m.\u001b[0m\u001b[0mrotation_point\u001b[0m\u001b[0;34m\u001b[0m\u001b[0;34m\u001b[0m\u001b[0m\n\u001b[0;32m--> 813\u001b[0;31m         \u001b[0;32mreturn\u001b[0m \u001b[0mtransforms\u001b[0m\u001b[0;34m.\u001b[0m\u001b[0mBboxTransformTo\u001b[0m\u001b[0;34m(\u001b[0m\u001b[0mbbox\u001b[0m\u001b[0;34m)\u001b[0m\u001b[0;31m \u001b[0m\u001b[0;31m\\\u001b[0m\u001b[0;34m\u001b[0m\u001b[0;34m\u001b[0m\u001b[0m\n\u001b[0m\u001b[1;32m    814\u001b[0m                 \u001b[0;34m+\u001b[0m \u001b[0mtransforms\u001b[0m\u001b[0;34m.\u001b[0m\u001b[0mAffine2D\u001b[0m\u001b[0;34m(\u001b[0m\u001b[0;34m)\u001b[0m\u001b[0;31m \u001b[0m\u001b[0;31m\\\u001b[0m\u001b[0;34m\u001b[0m\u001b[0;34m\u001b[0m\u001b[0m\n\u001b[1;32m    815\u001b[0m                 \u001b[0;34m.\u001b[0m\u001b[0mtranslate\u001b[0m\u001b[0;34m(\u001b[0m\u001b[0;34m-\u001b[0m\u001b[0mrotation_point\u001b[0m\u001b[0;34m[\u001b[0m\u001b[0;36m0\u001b[0m\u001b[0;34m]\u001b[0m\u001b[0;34m,\u001b[0m \u001b[0;34m-\u001b[0m\u001b[0mrotation_point\u001b[0m\u001b[0;34m[\u001b[0m\u001b[0;36m1\u001b[0m\u001b[0;34m]\u001b[0m\u001b[0;34m)\u001b[0m\u001b[0;31m \u001b[0m\u001b[0;31m\\\u001b[0m\u001b[0;34m\u001b[0m\u001b[0;34m\u001b[0m\u001b[0m\n",
            "\u001b[0;32m/usr/local/lib/python3.11/dist-packages/matplotlib/transforms.py\u001b[0m in \u001b[0;36m__add__\u001b[0;34m(self, other)\u001b[0m\n\u001b[1;32m   1345\u001b[0m         \u001b[0;31m`\u001b[0m\u001b[0;31m`\u001b[0m\u001b[0mC\u001b[0m\u001b[0;34m.\u001b[0m\u001b[0mtransform\u001b[0m\u001b[0;34m(\u001b[0m\u001b[0mx\u001b[0m\u001b[0;34m)\u001b[0m \u001b[0;34m==\u001b[0m \u001b[0mB\u001b[0m\u001b[0;34m.\u001b[0m\u001b[0mtransform\u001b[0m\u001b[0;34m(\u001b[0m\u001b[0mA\u001b[0m\u001b[0;34m.\u001b[0m\u001b[0mtransform\u001b[0m\u001b[0;34m(\u001b[0m\u001b[0mx\u001b[0m\u001b[0;34m)\u001b[0m\u001b[0;34m)\u001b[0m\u001b[0;31m`\u001b[0m\u001b[0;31m`\u001b[0m\u001b[0;34m.\u001b[0m\u001b[0;34m\u001b[0m\u001b[0;34m\u001b[0m\u001b[0m\n\u001b[1;32m   1346\u001b[0m         \"\"\"\n\u001b[0;32m-> 1347\u001b[0;31m         return (composite_transform_factory(self, other)\n\u001b[0m\u001b[1;32m   1348\u001b[0m                 \u001b[0;32mif\u001b[0m \u001b[0misinstance\u001b[0m\u001b[0;34m(\u001b[0m\u001b[0mother\u001b[0m\u001b[0;34m,\u001b[0m \u001b[0mTransform\u001b[0m\u001b[0;34m)\u001b[0m \u001b[0;32melse\u001b[0m\u001b[0;34m\u001b[0m\u001b[0;34m\u001b[0m\u001b[0m\n\u001b[1;32m   1349\u001b[0m                 NotImplemented)\n",
            "\u001b[0;32m/usr/local/lib/python3.11/dist-packages/matplotlib/transforms.py\u001b[0m in \u001b[0;36mcomposite_transform_factory\u001b[0;34m(a, b)\u001b[0m\n\u001b[1;32m   2520\u001b[0m     \u001b[0;32melif\u001b[0m \u001b[0misinstance\u001b[0m\u001b[0;34m(\u001b[0m\u001b[0ma\u001b[0m\u001b[0;34m,\u001b[0m \u001b[0mAffine2D\u001b[0m\u001b[0;34m)\u001b[0m \u001b[0;32mand\u001b[0m \u001b[0misinstance\u001b[0m\u001b[0;34m(\u001b[0m\u001b[0mb\u001b[0m\u001b[0;34m,\u001b[0m \u001b[0mAffine2D\u001b[0m\u001b[0;34m)\u001b[0m\u001b[0;34m:\u001b[0m\u001b[0;34m\u001b[0m\u001b[0;34m\u001b[0m\u001b[0m\n\u001b[1;32m   2521\u001b[0m         \u001b[0;32mreturn\u001b[0m \u001b[0mCompositeAffine2D\u001b[0m\u001b[0;34m(\u001b[0m\u001b[0ma\u001b[0m\u001b[0;34m,\u001b[0m \u001b[0mb\u001b[0m\u001b[0;34m)\u001b[0m\u001b[0;34m\u001b[0m\u001b[0;34m\u001b[0m\u001b[0m\n\u001b[0;32m-> 2522\u001b[0;31m     \u001b[0;32mreturn\u001b[0m \u001b[0mCompositeGenericTransform\u001b[0m\u001b[0;34m(\u001b[0m\u001b[0ma\u001b[0m\u001b[0;34m,\u001b[0m \u001b[0mb\u001b[0m\u001b[0;34m)\u001b[0m\u001b[0;34m\u001b[0m\u001b[0;34m\u001b[0m\u001b[0m\n\u001b[0m\u001b[1;32m   2523\u001b[0m \u001b[0;34m\u001b[0m\u001b[0m\n\u001b[1;32m   2524\u001b[0m \u001b[0;34m\u001b[0m\u001b[0m\n",
            "\u001b[0;32m/usr/local/lib/python3.11/dist-packages/matplotlib/transforms.py\u001b[0m in \u001b[0;36m__init__\u001b[0;34m(self, a, b, **kwargs)\u001b[0m\n\u001b[1;32m   2357\u001b[0m         \u001b[0mself\u001b[0m\u001b[0;34m.\u001b[0m\u001b[0m_a\u001b[0m \u001b[0;34m=\u001b[0m \u001b[0ma\u001b[0m\u001b[0;34m\u001b[0m\u001b[0;34m\u001b[0m\u001b[0m\n\u001b[1;32m   2358\u001b[0m         \u001b[0mself\u001b[0m\u001b[0;34m.\u001b[0m\u001b[0m_b\u001b[0m \u001b[0;34m=\u001b[0m \u001b[0mb\u001b[0m\u001b[0;34m\u001b[0m\u001b[0;34m\u001b[0m\u001b[0m\n\u001b[0;32m-> 2359\u001b[0;31m         \u001b[0mself\u001b[0m\u001b[0;34m.\u001b[0m\u001b[0mset_children\u001b[0m\u001b[0;34m(\u001b[0m\u001b[0ma\u001b[0m\u001b[0;34m,\u001b[0m \u001b[0mb\u001b[0m\u001b[0;34m)\u001b[0m\u001b[0;34m\u001b[0m\u001b[0;34m\u001b[0m\u001b[0m\n\u001b[0m\u001b[1;32m   2360\u001b[0m \u001b[0;34m\u001b[0m\u001b[0m\n\u001b[1;32m   2361\u001b[0m     \u001b[0;32mdef\u001b[0m \u001b[0mfrozen\u001b[0m\u001b[0;34m(\u001b[0m\u001b[0mself\u001b[0m\u001b[0;34m)\u001b[0m\u001b[0;34m:\u001b[0m\u001b[0;34m\u001b[0m\u001b[0;34m\u001b[0m\u001b[0m\n",
            "\u001b[0;32m/usr/local/lib/python3.11/dist-packages/matplotlib/transforms.py\u001b[0m in \u001b[0;36mset_children\u001b[0;34m(self, *children)\u001b[0m\n\u001b[1;32m    192\u001b[0m             \u001b[0;31m# alive; the callback deletes the dictionary entry. This is a\u001b[0m\u001b[0;34m\u001b[0m\u001b[0;34m\u001b[0m\u001b[0m\n\u001b[1;32m    193\u001b[0m             \u001b[0;31m# performance improvement over using WeakValueDictionary.\u001b[0m\u001b[0;34m\u001b[0m\u001b[0;34m\u001b[0m\u001b[0m\n\u001b[0;32m--> 194\u001b[0;31m             ref = weakref.ref(\n\u001b[0m\u001b[1;32m    195\u001b[0m                 self, lambda _, pop=child._parents.pop, k=id_self: pop(k))\n\u001b[1;32m    196\u001b[0m             \u001b[0mchild\u001b[0m\u001b[0;34m.\u001b[0m\u001b[0m_parents\u001b[0m\u001b[0;34m[\u001b[0m\u001b[0mid_self\u001b[0m\u001b[0;34m]\u001b[0m \u001b[0;34m=\u001b[0m \u001b[0mref\u001b[0m\u001b[0;34m\u001b[0m\u001b[0;34m\u001b[0m\u001b[0m\n",
            "\u001b[0;31mKeyboardInterrupt\u001b[0m: "
          ]
        },
        {
          "output_type": "stream",
          "name": "stdout",
          "text": [
            "Error in callback <function flush_figures at 0x7a736fe3b060> (for post_execute):\n"
          ]
        },
        {
          "output_type": "error",
          "ename": "KeyboardInterrupt",
          "evalue": "",
          "traceback": [
            "\u001b[0;31m---------------------------------------------------------------------------\u001b[0m",
            "\u001b[0;31mKeyboardInterrupt\u001b[0m                         Traceback (most recent call last)",
            "\u001b[0;32m/usr/local/lib/python3.11/dist-packages/matplotlib_inline/backend_inline.py\u001b[0m in \u001b[0;36mflush_figures\u001b[0;34m()\u001b[0m\n\u001b[1;32m    124\u001b[0m             \u001b[0;31m# ignore the tracking, just draw and close all figures\u001b[0m\u001b[0;34m\u001b[0m\u001b[0;34m\u001b[0m\u001b[0m\n\u001b[1;32m    125\u001b[0m             \u001b[0;32mtry\u001b[0m\u001b[0;34m:\u001b[0m\u001b[0;34m\u001b[0m\u001b[0;34m\u001b[0m\u001b[0m\n\u001b[0;32m--> 126\u001b[0;31m                 \u001b[0;32mreturn\u001b[0m \u001b[0mshow\u001b[0m\u001b[0;34m(\u001b[0m\u001b[0;32mTrue\u001b[0m\u001b[0;34m)\u001b[0m\u001b[0;34m\u001b[0m\u001b[0;34m\u001b[0m\u001b[0m\n\u001b[0m\u001b[1;32m    127\u001b[0m             \u001b[0;32mexcept\u001b[0m \u001b[0mException\u001b[0m \u001b[0;32mas\u001b[0m \u001b[0me\u001b[0m\u001b[0;34m:\u001b[0m\u001b[0;34m\u001b[0m\u001b[0;34m\u001b[0m\u001b[0m\n\u001b[1;32m    128\u001b[0m                 \u001b[0;31m# safely show traceback if in IPython, else raise\u001b[0m\u001b[0;34m\u001b[0m\u001b[0;34m\u001b[0m\u001b[0m\n",
            "\u001b[0;32m/usr/local/lib/python3.11/dist-packages/matplotlib_inline/backend_inline.py\u001b[0m in \u001b[0;36mshow\u001b[0;34m(close, block)\u001b[0m\n\u001b[1;32m     88\u001b[0m     \u001b[0;32mtry\u001b[0m\u001b[0;34m:\u001b[0m\u001b[0;34m\u001b[0m\u001b[0;34m\u001b[0m\u001b[0m\n\u001b[1;32m     89\u001b[0m         \u001b[0;32mfor\u001b[0m \u001b[0mfigure_manager\u001b[0m \u001b[0;32min\u001b[0m \u001b[0mGcf\u001b[0m\u001b[0;34m.\u001b[0m\u001b[0mget_all_fig_managers\u001b[0m\u001b[0;34m(\u001b[0m\u001b[0;34m)\u001b[0m\u001b[0;34m:\u001b[0m\u001b[0;34m\u001b[0m\u001b[0;34m\u001b[0m\u001b[0m\n\u001b[0;32m---> 90\u001b[0;31m             display(\n\u001b[0m\u001b[1;32m     91\u001b[0m                 \u001b[0mfigure_manager\u001b[0m\u001b[0;34m.\u001b[0m\u001b[0mcanvas\u001b[0m\u001b[0;34m.\u001b[0m\u001b[0mfigure\u001b[0m\u001b[0;34m,\u001b[0m\u001b[0;34m\u001b[0m\u001b[0;34m\u001b[0m\u001b[0m\n\u001b[1;32m     92\u001b[0m                 \u001b[0mmetadata\u001b[0m\u001b[0;34m=\u001b[0m\u001b[0m_fetch_figure_metadata\u001b[0m\u001b[0;34m(\u001b[0m\u001b[0mfigure_manager\u001b[0m\u001b[0;34m.\u001b[0m\u001b[0mcanvas\u001b[0m\u001b[0;34m.\u001b[0m\u001b[0mfigure\u001b[0m\u001b[0;34m)\u001b[0m\u001b[0;34m\u001b[0m\u001b[0;34m\u001b[0m\u001b[0m\n",
            "\u001b[0;32m/usr/local/lib/python3.11/dist-packages/IPython/core/display.py\u001b[0m in \u001b[0;36mdisplay\u001b[0;34m(include, exclude, metadata, transient, display_id, *objs, **kwargs)\u001b[0m\n\u001b[1;32m    318\u001b[0m             \u001b[0mpublish_display_data\u001b[0m\u001b[0;34m(\u001b[0m\u001b[0mdata\u001b[0m\u001b[0;34m=\u001b[0m\u001b[0mobj\u001b[0m\u001b[0;34m,\u001b[0m \u001b[0mmetadata\u001b[0m\u001b[0;34m=\u001b[0m\u001b[0mmetadata\u001b[0m\u001b[0;34m,\u001b[0m \u001b[0;34m**\u001b[0m\u001b[0mkwargs\u001b[0m\u001b[0;34m)\u001b[0m\u001b[0;34m\u001b[0m\u001b[0;34m\u001b[0m\u001b[0m\n\u001b[1;32m    319\u001b[0m         \u001b[0;32melse\u001b[0m\u001b[0;34m:\u001b[0m\u001b[0;34m\u001b[0m\u001b[0;34m\u001b[0m\u001b[0m\n\u001b[0;32m--> 320\u001b[0;31m             \u001b[0mformat_dict\u001b[0m\u001b[0;34m,\u001b[0m \u001b[0mmd_dict\u001b[0m \u001b[0;34m=\u001b[0m \u001b[0mformat\u001b[0m\u001b[0;34m(\u001b[0m\u001b[0mobj\u001b[0m\u001b[0;34m,\u001b[0m \u001b[0minclude\u001b[0m\u001b[0;34m=\u001b[0m\u001b[0minclude\u001b[0m\u001b[0;34m,\u001b[0m \u001b[0mexclude\u001b[0m\u001b[0;34m=\u001b[0m\u001b[0mexclude\u001b[0m\u001b[0;34m)\u001b[0m\u001b[0;34m\u001b[0m\u001b[0;34m\u001b[0m\u001b[0m\n\u001b[0m\u001b[1;32m    321\u001b[0m             \u001b[0;32mif\u001b[0m \u001b[0;32mnot\u001b[0m \u001b[0mformat_dict\u001b[0m\u001b[0;34m:\u001b[0m\u001b[0;34m\u001b[0m\u001b[0;34m\u001b[0m\u001b[0m\n\u001b[1;32m    322\u001b[0m                 \u001b[0;31m# nothing to display (e.g. _ipython_display_ took over)\u001b[0m\u001b[0;34m\u001b[0m\u001b[0;34m\u001b[0m\u001b[0m\n",
            "\u001b[0;32m/usr/local/lib/python3.11/dist-packages/IPython/core/formatters.py\u001b[0m in \u001b[0;36mformat\u001b[0;34m(self, obj, include, exclude)\u001b[0m\n\u001b[1;32m    178\u001b[0m             \u001b[0mmd\u001b[0m \u001b[0;34m=\u001b[0m \u001b[0;32mNone\u001b[0m\u001b[0;34m\u001b[0m\u001b[0;34m\u001b[0m\u001b[0m\n\u001b[1;32m    179\u001b[0m             \u001b[0;32mtry\u001b[0m\u001b[0;34m:\u001b[0m\u001b[0;34m\u001b[0m\u001b[0;34m\u001b[0m\u001b[0m\n\u001b[0;32m--> 180\u001b[0;31m                 \u001b[0mdata\u001b[0m \u001b[0;34m=\u001b[0m \u001b[0mformatter\u001b[0m\u001b[0;34m(\u001b[0m\u001b[0mobj\u001b[0m\u001b[0;34m)\u001b[0m\u001b[0;34m\u001b[0m\u001b[0;34m\u001b[0m\u001b[0m\n\u001b[0m\u001b[1;32m    181\u001b[0m             \u001b[0;32mexcept\u001b[0m\u001b[0;34m:\u001b[0m\u001b[0;34m\u001b[0m\u001b[0;34m\u001b[0m\u001b[0m\n\u001b[1;32m    182\u001b[0m                 \u001b[0;31m# FIXME: log the exception\u001b[0m\u001b[0;34m\u001b[0m\u001b[0;34m\u001b[0m\u001b[0m\n",
            "\u001b[0;32m<decorator-gen-2>\u001b[0m in \u001b[0;36m__call__\u001b[0;34m(self, obj)\u001b[0m\n",
            "\u001b[0;32m/usr/local/lib/python3.11/dist-packages/IPython/core/formatters.py\u001b[0m in \u001b[0;36mcatch_format_error\u001b[0;34m(method, self, *args, **kwargs)\u001b[0m\n\u001b[1;32m    222\u001b[0m     \u001b[0;34m\"\"\"show traceback on failed format call\"\"\"\u001b[0m\u001b[0;34m\u001b[0m\u001b[0;34m\u001b[0m\u001b[0m\n\u001b[1;32m    223\u001b[0m     \u001b[0;32mtry\u001b[0m\u001b[0;34m:\u001b[0m\u001b[0;34m\u001b[0m\u001b[0;34m\u001b[0m\u001b[0m\n\u001b[0;32m--> 224\u001b[0;31m         \u001b[0mr\u001b[0m \u001b[0;34m=\u001b[0m \u001b[0mmethod\u001b[0m\u001b[0;34m(\u001b[0m\u001b[0mself\u001b[0m\u001b[0;34m,\u001b[0m \u001b[0;34m*\u001b[0m\u001b[0margs\u001b[0m\u001b[0;34m,\u001b[0m \u001b[0;34m**\u001b[0m\u001b[0mkwargs\u001b[0m\u001b[0;34m)\u001b[0m\u001b[0;34m\u001b[0m\u001b[0;34m\u001b[0m\u001b[0m\n\u001b[0m\u001b[1;32m    225\u001b[0m     \u001b[0;32mexcept\u001b[0m \u001b[0mNotImplementedError\u001b[0m\u001b[0;34m:\u001b[0m\u001b[0;34m\u001b[0m\u001b[0;34m\u001b[0m\u001b[0m\n\u001b[1;32m    226\u001b[0m         \u001b[0;31m# don't warn on NotImplementedErrors\u001b[0m\u001b[0;34m\u001b[0m\u001b[0;34m\u001b[0m\u001b[0m\n",
            "\u001b[0;32m/usr/local/lib/python3.11/dist-packages/IPython/core/formatters.py\u001b[0m in \u001b[0;36m__call__\u001b[0;34m(self, obj)\u001b[0m\n\u001b[1;32m    339\u001b[0m                 \u001b[0;32mpass\u001b[0m\u001b[0;34m\u001b[0m\u001b[0;34m\u001b[0m\u001b[0m\n\u001b[1;32m    340\u001b[0m             \u001b[0;32melse\u001b[0m\u001b[0;34m:\u001b[0m\u001b[0;34m\u001b[0m\u001b[0;34m\u001b[0m\u001b[0m\n\u001b[0;32m--> 341\u001b[0;31m                 \u001b[0;32mreturn\u001b[0m \u001b[0mprinter\u001b[0m\u001b[0;34m(\u001b[0m\u001b[0mobj\u001b[0m\u001b[0;34m)\u001b[0m\u001b[0;34m\u001b[0m\u001b[0;34m\u001b[0m\u001b[0m\n\u001b[0m\u001b[1;32m    342\u001b[0m             \u001b[0;31m# Finally look for special method names\u001b[0m\u001b[0;34m\u001b[0m\u001b[0;34m\u001b[0m\u001b[0m\n\u001b[1;32m    343\u001b[0m             \u001b[0mmethod\u001b[0m \u001b[0;34m=\u001b[0m \u001b[0mget_real_method\u001b[0m\u001b[0;34m(\u001b[0m\u001b[0mobj\u001b[0m\u001b[0;34m,\u001b[0m \u001b[0mself\u001b[0m\u001b[0;34m.\u001b[0m\u001b[0mprint_method\u001b[0m\u001b[0;34m)\u001b[0m\u001b[0;34m\u001b[0m\u001b[0;34m\u001b[0m\u001b[0m\n",
            "\u001b[0;32m/usr/local/lib/python3.11/dist-packages/IPython/core/pylabtools.py\u001b[0m in \u001b[0;36mprint_figure\u001b[0;34m(fig, fmt, bbox_inches, base64, **kwargs)\u001b[0m\n\u001b[1;32m    149\u001b[0m         \u001b[0mFigureCanvasBase\u001b[0m\u001b[0;34m(\u001b[0m\u001b[0mfig\u001b[0m\u001b[0;34m)\u001b[0m\u001b[0;34m\u001b[0m\u001b[0;34m\u001b[0m\u001b[0m\n\u001b[1;32m    150\u001b[0m \u001b[0;34m\u001b[0m\u001b[0m\n\u001b[0;32m--> 151\u001b[0;31m     \u001b[0mfig\u001b[0m\u001b[0;34m.\u001b[0m\u001b[0mcanvas\u001b[0m\u001b[0;34m.\u001b[0m\u001b[0mprint_figure\u001b[0m\u001b[0;34m(\u001b[0m\u001b[0mbytes_io\u001b[0m\u001b[0;34m,\u001b[0m \u001b[0;34m**\u001b[0m\u001b[0mkw\u001b[0m\u001b[0;34m)\u001b[0m\u001b[0;34m\u001b[0m\u001b[0;34m\u001b[0m\u001b[0m\n\u001b[0m\u001b[1;32m    152\u001b[0m     \u001b[0mdata\u001b[0m \u001b[0;34m=\u001b[0m \u001b[0mbytes_io\u001b[0m\u001b[0;34m.\u001b[0m\u001b[0mgetvalue\u001b[0m\u001b[0;34m(\u001b[0m\u001b[0;34m)\u001b[0m\u001b[0;34m\u001b[0m\u001b[0;34m\u001b[0m\u001b[0m\n\u001b[1;32m    153\u001b[0m     \u001b[0;32mif\u001b[0m \u001b[0mfmt\u001b[0m \u001b[0;34m==\u001b[0m \u001b[0;34m'svg'\u001b[0m\u001b[0;34m:\u001b[0m\u001b[0;34m\u001b[0m\u001b[0;34m\u001b[0m\u001b[0m\n",
            "\u001b[0;32m/usr/local/lib/python3.11/dist-packages/matplotlib/backend_bases.py\u001b[0m in \u001b[0;36mprint_figure\u001b[0;34m(self, filename, dpi, facecolor, edgecolor, orientation, format, bbox_inches, pad_inches, bbox_extra_artists, backend, **kwargs)\u001b[0m\n\u001b[1;32m   2153\u001b[0m                 \u001b[0;31m# so that we can inject the orientation\u001b[0m\u001b[0;34m\u001b[0m\u001b[0;34m\u001b[0m\u001b[0m\n\u001b[1;32m   2154\u001b[0m                 \u001b[0;32mwith\u001b[0m \u001b[0mgetattr\u001b[0m\u001b[0;34m(\u001b[0m\u001b[0mrenderer\u001b[0m\u001b[0;34m,\u001b[0m \u001b[0;34m\"_draw_disabled\"\u001b[0m\u001b[0;34m,\u001b[0m \u001b[0mnullcontext\u001b[0m\u001b[0;34m)\u001b[0m\u001b[0;34m(\u001b[0m\u001b[0;34m)\u001b[0m\u001b[0;34m:\u001b[0m\u001b[0;34m\u001b[0m\u001b[0;34m\u001b[0m\u001b[0m\n\u001b[0;32m-> 2155\u001b[0;31m                     \u001b[0mself\u001b[0m\u001b[0;34m.\u001b[0m\u001b[0mfigure\u001b[0m\u001b[0;34m.\u001b[0m\u001b[0mdraw\u001b[0m\u001b[0;34m(\u001b[0m\u001b[0mrenderer\u001b[0m\u001b[0;34m)\u001b[0m\u001b[0;34m\u001b[0m\u001b[0;34m\u001b[0m\u001b[0m\n\u001b[0m\u001b[1;32m   2156\u001b[0m             \u001b[0;32mif\u001b[0m \u001b[0mbbox_inches\u001b[0m\u001b[0;34m:\u001b[0m\u001b[0;34m\u001b[0m\u001b[0;34m\u001b[0m\u001b[0m\n\u001b[1;32m   2157\u001b[0m                 \u001b[0;32mif\u001b[0m \u001b[0mbbox_inches\u001b[0m \u001b[0;34m==\u001b[0m \u001b[0;34m\"tight\"\u001b[0m\u001b[0;34m:\u001b[0m\u001b[0;34m\u001b[0m\u001b[0;34m\u001b[0m\u001b[0m\n",
            "\u001b[0;32m/usr/local/lib/python3.11/dist-packages/matplotlib/artist.py\u001b[0m in \u001b[0;36mdraw_wrapper\u001b[0;34m(artist, renderer, *args, **kwargs)\u001b[0m\n\u001b[1;32m     92\u001b[0m     \u001b[0;34m@\u001b[0m\u001b[0mwraps\u001b[0m\u001b[0;34m(\u001b[0m\u001b[0mdraw\u001b[0m\u001b[0;34m)\u001b[0m\u001b[0;34m\u001b[0m\u001b[0;34m\u001b[0m\u001b[0m\n\u001b[1;32m     93\u001b[0m     \u001b[0;32mdef\u001b[0m \u001b[0mdraw_wrapper\u001b[0m\u001b[0;34m(\u001b[0m\u001b[0martist\u001b[0m\u001b[0;34m,\u001b[0m \u001b[0mrenderer\u001b[0m\u001b[0;34m,\u001b[0m \u001b[0;34m*\u001b[0m\u001b[0margs\u001b[0m\u001b[0;34m,\u001b[0m \u001b[0;34m**\u001b[0m\u001b[0mkwargs\u001b[0m\u001b[0;34m)\u001b[0m\u001b[0;34m:\u001b[0m\u001b[0;34m\u001b[0m\u001b[0;34m\u001b[0m\u001b[0m\n\u001b[0;32m---> 94\u001b[0;31m         \u001b[0mresult\u001b[0m \u001b[0;34m=\u001b[0m \u001b[0mdraw\u001b[0m\u001b[0;34m(\u001b[0m\u001b[0martist\u001b[0m\u001b[0;34m,\u001b[0m \u001b[0mrenderer\u001b[0m\u001b[0;34m,\u001b[0m \u001b[0;34m*\u001b[0m\u001b[0margs\u001b[0m\u001b[0;34m,\u001b[0m \u001b[0;34m**\u001b[0m\u001b[0mkwargs\u001b[0m\u001b[0;34m)\u001b[0m\u001b[0;34m\u001b[0m\u001b[0;34m\u001b[0m\u001b[0m\n\u001b[0m\u001b[1;32m     95\u001b[0m         \u001b[0;32mif\u001b[0m \u001b[0mrenderer\u001b[0m\u001b[0;34m.\u001b[0m\u001b[0m_rasterizing\u001b[0m\u001b[0;34m:\u001b[0m\u001b[0;34m\u001b[0m\u001b[0;34m\u001b[0m\u001b[0m\n\u001b[1;32m     96\u001b[0m             \u001b[0mrenderer\u001b[0m\u001b[0;34m.\u001b[0m\u001b[0mstop_rasterizing\u001b[0m\u001b[0;34m(\u001b[0m\u001b[0;34m)\u001b[0m\u001b[0;34m\u001b[0m\u001b[0;34m\u001b[0m\u001b[0m\n",
            "\u001b[0;32m/usr/local/lib/python3.11/dist-packages/matplotlib/artist.py\u001b[0m in \u001b[0;36mdraw_wrapper\u001b[0;34m(artist, renderer)\u001b[0m\n\u001b[1;32m     69\u001b[0m                 \u001b[0mrenderer\u001b[0m\u001b[0;34m.\u001b[0m\u001b[0mstart_filter\u001b[0m\u001b[0;34m(\u001b[0m\u001b[0;34m)\u001b[0m\u001b[0;34m\u001b[0m\u001b[0;34m\u001b[0m\u001b[0m\n\u001b[1;32m     70\u001b[0m \u001b[0;34m\u001b[0m\u001b[0m\n\u001b[0;32m---> 71\u001b[0;31m             \u001b[0;32mreturn\u001b[0m \u001b[0mdraw\u001b[0m\u001b[0;34m(\u001b[0m\u001b[0martist\u001b[0m\u001b[0;34m,\u001b[0m \u001b[0mrenderer\u001b[0m\u001b[0;34m)\u001b[0m\u001b[0;34m\u001b[0m\u001b[0;34m\u001b[0m\u001b[0m\n\u001b[0m\u001b[1;32m     72\u001b[0m         \u001b[0;32mfinally\u001b[0m\u001b[0;34m:\u001b[0m\u001b[0;34m\u001b[0m\u001b[0;34m\u001b[0m\u001b[0m\n\u001b[1;32m     73\u001b[0m             \u001b[0;32mif\u001b[0m \u001b[0martist\u001b[0m\u001b[0;34m.\u001b[0m\u001b[0mget_agg_filter\u001b[0m\u001b[0;34m(\u001b[0m\u001b[0;34m)\u001b[0m \u001b[0;32mis\u001b[0m \u001b[0;32mnot\u001b[0m \u001b[0;32mNone\u001b[0m\u001b[0;34m:\u001b[0m\u001b[0;34m\u001b[0m\u001b[0;34m\u001b[0m\u001b[0m\n",
            "\u001b[0;32m/usr/local/lib/python3.11/dist-packages/matplotlib/figure.py\u001b[0m in \u001b[0;36mdraw\u001b[0;34m(self, renderer)\u001b[0m\n\u001b[1;32m   3255\u001b[0m \u001b[0;34m\u001b[0m\u001b[0m\n\u001b[1;32m   3256\u001b[0m                 \u001b[0mself\u001b[0m\u001b[0;34m.\u001b[0m\u001b[0mpatch\u001b[0m\u001b[0;34m.\u001b[0m\u001b[0mdraw\u001b[0m\u001b[0;34m(\u001b[0m\u001b[0mrenderer\u001b[0m\u001b[0;34m)\u001b[0m\u001b[0;34m\u001b[0m\u001b[0;34m\u001b[0m\u001b[0m\n\u001b[0;32m-> 3257\u001b[0;31m                 mimage._draw_list_compositing_images(\n\u001b[0m\u001b[1;32m   3258\u001b[0m                     renderer, self, artists, self.suppressComposite)\n\u001b[1;32m   3259\u001b[0m \u001b[0;34m\u001b[0m\u001b[0m\n",
            "\u001b[0;32m/usr/local/lib/python3.11/dist-packages/matplotlib/image.py\u001b[0m in \u001b[0;36m_draw_list_compositing_images\u001b[0;34m(renderer, parent, artists, suppress_composite)\u001b[0m\n\u001b[1;32m    132\u001b[0m     \u001b[0;32mif\u001b[0m \u001b[0mnot_composite\u001b[0m \u001b[0;32mor\u001b[0m \u001b[0;32mnot\u001b[0m \u001b[0mhas_images\u001b[0m\u001b[0;34m:\u001b[0m\u001b[0;34m\u001b[0m\u001b[0;34m\u001b[0m\u001b[0m\n\u001b[1;32m    133\u001b[0m         \u001b[0;32mfor\u001b[0m \u001b[0ma\u001b[0m \u001b[0;32min\u001b[0m \u001b[0martists\u001b[0m\u001b[0;34m:\u001b[0m\u001b[0;34m\u001b[0m\u001b[0;34m\u001b[0m\u001b[0m\n\u001b[0;32m--> 134\u001b[0;31m             \u001b[0ma\u001b[0m\u001b[0;34m.\u001b[0m\u001b[0mdraw\u001b[0m\u001b[0;34m(\u001b[0m\u001b[0mrenderer\u001b[0m\u001b[0;34m)\u001b[0m\u001b[0;34m\u001b[0m\u001b[0;34m\u001b[0m\u001b[0m\n\u001b[0m\u001b[1;32m    135\u001b[0m     \u001b[0;32melse\u001b[0m\u001b[0;34m:\u001b[0m\u001b[0;34m\u001b[0m\u001b[0;34m\u001b[0m\u001b[0m\n\u001b[1;32m    136\u001b[0m         \u001b[0;31m# Composite any adjacent images together\u001b[0m\u001b[0;34m\u001b[0m\u001b[0;34m\u001b[0m\u001b[0m\n",
            "\u001b[0;32m/usr/local/lib/python3.11/dist-packages/matplotlib/artist.py\u001b[0m in \u001b[0;36mdraw_wrapper\u001b[0;34m(artist, renderer)\u001b[0m\n\u001b[1;32m     69\u001b[0m                 \u001b[0mrenderer\u001b[0m\u001b[0;34m.\u001b[0m\u001b[0mstart_filter\u001b[0m\u001b[0;34m(\u001b[0m\u001b[0;34m)\u001b[0m\u001b[0;34m\u001b[0m\u001b[0;34m\u001b[0m\u001b[0m\n\u001b[1;32m     70\u001b[0m \u001b[0;34m\u001b[0m\u001b[0m\n\u001b[0;32m---> 71\u001b[0;31m             \u001b[0;32mreturn\u001b[0m \u001b[0mdraw\u001b[0m\u001b[0;34m(\u001b[0m\u001b[0martist\u001b[0m\u001b[0;34m,\u001b[0m \u001b[0mrenderer\u001b[0m\u001b[0;34m)\u001b[0m\u001b[0;34m\u001b[0m\u001b[0;34m\u001b[0m\u001b[0m\n\u001b[0m\u001b[1;32m     72\u001b[0m         \u001b[0;32mfinally\u001b[0m\u001b[0;34m:\u001b[0m\u001b[0;34m\u001b[0m\u001b[0;34m\u001b[0m\u001b[0m\n\u001b[1;32m     73\u001b[0m             \u001b[0;32mif\u001b[0m \u001b[0martist\u001b[0m\u001b[0;34m.\u001b[0m\u001b[0mget_agg_filter\u001b[0m\u001b[0;34m(\u001b[0m\u001b[0;34m)\u001b[0m \u001b[0;32mis\u001b[0m \u001b[0;32mnot\u001b[0m \u001b[0;32mNone\u001b[0m\u001b[0;34m:\u001b[0m\u001b[0;34m\u001b[0m\u001b[0;34m\u001b[0m\u001b[0m\n",
            "\u001b[0;32m/usr/local/lib/python3.11/dist-packages/matplotlib/axes/_base.py\u001b[0m in \u001b[0;36mdraw\u001b[0;34m(self, renderer)\u001b[0m\n\u001b[1;32m   3179\u001b[0m             \u001b[0m_draw_rasterized\u001b[0m\u001b[0;34m(\u001b[0m\u001b[0mself\u001b[0m\u001b[0;34m.\u001b[0m\u001b[0mget_figure\u001b[0m\u001b[0;34m(\u001b[0m\u001b[0mroot\u001b[0m\u001b[0;34m=\u001b[0m\u001b[0;32mTrue\u001b[0m\u001b[0;34m)\u001b[0m\u001b[0;34m,\u001b[0m \u001b[0martists_rasterized\u001b[0m\u001b[0;34m,\u001b[0m \u001b[0mrenderer\u001b[0m\u001b[0;34m)\u001b[0m\u001b[0;34m\u001b[0m\u001b[0;34m\u001b[0m\u001b[0m\n\u001b[1;32m   3180\u001b[0m \u001b[0;34m\u001b[0m\u001b[0m\n\u001b[0;32m-> 3181\u001b[0;31m         mimage._draw_list_compositing_images(\n\u001b[0m\u001b[1;32m   3182\u001b[0m             renderer, self, artists, self.get_figure(root=True).suppressComposite)\n\u001b[1;32m   3183\u001b[0m \u001b[0;34m\u001b[0m\u001b[0m\n",
            "\u001b[0;32m/usr/local/lib/python3.11/dist-packages/matplotlib/image.py\u001b[0m in \u001b[0;36m_draw_list_compositing_images\u001b[0;34m(renderer, parent, artists, suppress_composite)\u001b[0m\n\u001b[1;32m    132\u001b[0m     \u001b[0;32mif\u001b[0m \u001b[0mnot_composite\u001b[0m \u001b[0;32mor\u001b[0m \u001b[0;32mnot\u001b[0m \u001b[0mhas_images\u001b[0m\u001b[0;34m:\u001b[0m\u001b[0;34m\u001b[0m\u001b[0;34m\u001b[0m\u001b[0m\n\u001b[1;32m    133\u001b[0m         \u001b[0;32mfor\u001b[0m \u001b[0ma\u001b[0m \u001b[0;32min\u001b[0m \u001b[0martists\u001b[0m\u001b[0;34m:\u001b[0m\u001b[0;34m\u001b[0m\u001b[0;34m\u001b[0m\u001b[0m\n\u001b[0;32m--> 134\u001b[0;31m             \u001b[0ma\u001b[0m\u001b[0;34m.\u001b[0m\u001b[0mdraw\u001b[0m\u001b[0;34m(\u001b[0m\u001b[0mrenderer\u001b[0m\u001b[0;34m)\u001b[0m\u001b[0;34m\u001b[0m\u001b[0;34m\u001b[0m\u001b[0m\n\u001b[0m\u001b[1;32m    135\u001b[0m     \u001b[0;32melse\u001b[0m\u001b[0;34m:\u001b[0m\u001b[0;34m\u001b[0m\u001b[0;34m\u001b[0m\u001b[0m\n\u001b[1;32m    136\u001b[0m         \u001b[0;31m# Composite any adjacent images together\u001b[0m\u001b[0;34m\u001b[0m\u001b[0;34m\u001b[0m\u001b[0m\n",
            "\u001b[0;32m/usr/local/lib/python3.11/dist-packages/matplotlib/artist.py\u001b[0m in \u001b[0;36mdraw_wrapper\u001b[0;34m(artist, renderer)\u001b[0m\n\u001b[1;32m     69\u001b[0m                 \u001b[0mrenderer\u001b[0m\u001b[0;34m.\u001b[0m\u001b[0mstart_filter\u001b[0m\u001b[0;34m(\u001b[0m\u001b[0;34m)\u001b[0m\u001b[0;34m\u001b[0m\u001b[0;34m\u001b[0m\u001b[0m\n\u001b[1;32m     70\u001b[0m \u001b[0;34m\u001b[0m\u001b[0m\n\u001b[0;32m---> 71\u001b[0;31m             \u001b[0;32mreturn\u001b[0m \u001b[0mdraw\u001b[0m\u001b[0;34m(\u001b[0m\u001b[0martist\u001b[0m\u001b[0;34m,\u001b[0m \u001b[0mrenderer\u001b[0m\u001b[0;34m)\u001b[0m\u001b[0;34m\u001b[0m\u001b[0;34m\u001b[0m\u001b[0m\n\u001b[0m\u001b[1;32m     72\u001b[0m         \u001b[0;32mfinally\u001b[0m\u001b[0;34m:\u001b[0m\u001b[0;34m\u001b[0m\u001b[0;34m\u001b[0m\u001b[0m\n\u001b[1;32m     73\u001b[0m             \u001b[0;32mif\u001b[0m \u001b[0martist\u001b[0m\u001b[0;34m.\u001b[0m\u001b[0mget_agg_filter\u001b[0m\u001b[0;34m(\u001b[0m\u001b[0;34m)\u001b[0m \u001b[0;32mis\u001b[0m \u001b[0;32mnot\u001b[0m \u001b[0;32mNone\u001b[0m\u001b[0;34m:\u001b[0m\u001b[0;34m\u001b[0m\u001b[0;34m\u001b[0m\u001b[0m\n",
            "\u001b[0;32m/usr/local/lib/python3.11/dist-packages/matplotlib/patches.py\u001b[0m in \u001b[0;36mdraw\u001b[0;34m(self, renderer)\u001b[0m\n\u001b[1;32m    637\u001b[0m             \u001b[0;32mreturn\u001b[0m\u001b[0;34m\u001b[0m\u001b[0;34m\u001b[0m\u001b[0m\n\u001b[1;32m    638\u001b[0m         \u001b[0mpath\u001b[0m \u001b[0;34m=\u001b[0m \u001b[0mself\u001b[0m\u001b[0;34m.\u001b[0m\u001b[0mget_path\u001b[0m\u001b[0;34m(\u001b[0m\u001b[0;34m)\u001b[0m\u001b[0;34m\u001b[0m\u001b[0;34m\u001b[0m\u001b[0m\n\u001b[0;32m--> 639\u001b[0;31m         \u001b[0mtransform\u001b[0m \u001b[0;34m=\u001b[0m \u001b[0mself\u001b[0m\u001b[0;34m.\u001b[0m\u001b[0mget_transform\u001b[0m\u001b[0;34m(\u001b[0m\u001b[0;34m)\u001b[0m\u001b[0;34m\u001b[0m\u001b[0;34m\u001b[0m\u001b[0m\n\u001b[0m\u001b[1;32m    640\u001b[0m         \u001b[0mtpath\u001b[0m \u001b[0;34m=\u001b[0m \u001b[0mtransform\u001b[0m\u001b[0;34m.\u001b[0m\u001b[0mtransform_path_non_affine\u001b[0m\u001b[0;34m(\u001b[0m\u001b[0mpath\u001b[0m\u001b[0;34m)\u001b[0m\u001b[0;34m\u001b[0m\u001b[0;34m\u001b[0m\u001b[0m\n\u001b[1;32m    641\u001b[0m         \u001b[0maffine\u001b[0m \u001b[0;34m=\u001b[0m \u001b[0mtransform\u001b[0m\u001b[0;34m.\u001b[0m\u001b[0mget_affine\u001b[0m\u001b[0;34m(\u001b[0m\u001b[0;34m)\u001b[0m\u001b[0;34m\u001b[0m\u001b[0;34m\u001b[0m\u001b[0m\n",
            "\u001b[0;32m/usr/local/lib/python3.11/dist-packages/matplotlib/patches.py\u001b[0m in \u001b[0;36mget_transform\u001b[0;34m(self)\u001b[0m\n\u001b[1;32m    307\u001b[0m     \u001b[0;32mdef\u001b[0m \u001b[0mget_transform\u001b[0m\u001b[0;34m(\u001b[0m\u001b[0mself\u001b[0m\u001b[0;34m)\u001b[0m\u001b[0;34m:\u001b[0m\u001b[0;34m\u001b[0m\u001b[0;34m\u001b[0m\u001b[0m\n\u001b[1;32m    308\u001b[0m         \u001b[0;34m\"\"\"Return the `~.transforms.Transform` applied to the `Patch`.\"\"\"\u001b[0m\u001b[0;34m\u001b[0m\u001b[0;34m\u001b[0m\u001b[0m\n\u001b[0;32m--> 309\u001b[0;31m         \u001b[0;32mreturn\u001b[0m \u001b[0mself\u001b[0m\u001b[0;34m.\u001b[0m\u001b[0mget_patch_transform\u001b[0m\u001b[0;34m(\u001b[0m\u001b[0;34m)\u001b[0m \u001b[0;34m+\u001b[0m \u001b[0martist\u001b[0m\u001b[0;34m.\u001b[0m\u001b[0mArtist\u001b[0m\u001b[0;34m.\u001b[0m\u001b[0mget_transform\u001b[0m\u001b[0;34m(\u001b[0m\u001b[0mself\u001b[0m\u001b[0;34m)\u001b[0m\u001b[0;34m\u001b[0m\u001b[0;34m\u001b[0m\u001b[0m\n\u001b[0m\u001b[1;32m    310\u001b[0m \u001b[0;34m\u001b[0m\u001b[0m\n\u001b[1;32m    311\u001b[0m     \u001b[0;32mdef\u001b[0m \u001b[0mget_data_transform\u001b[0m\u001b[0;34m(\u001b[0m\u001b[0mself\u001b[0m\u001b[0;34m)\u001b[0m\u001b[0;34m:\u001b[0m\u001b[0;34m\u001b[0m\u001b[0;34m\u001b[0m\u001b[0m\n",
            "\u001b[0;32m/usr/local/lib/python3.11/dist-packages/matplotlib/patches.py\u001b[0m in \u001b[0;36mget_patch_transform\u001b[0;34m(self)\u001b[0m\n\u001b[1;32m    815\u001b[0m                 \u001b[0;34m.\u001b[0m\u001b[0mtranslate\u001b[0m\u001b[0;34m(\u001b[0m\u001b[0;34m-\u001b[0m\u001b[0mrotation_point\u001b[0m\u001b[0;34m[\u001b[0m\u001b[0;36m0\u001b[0m\u001b[0;34m]\u001b[0m\u001b[0;34m,\u001b[0m \u001b[0;34m-\u001b[0m\u001b[0mrotation_point\u001b[0m\u001b[0;34m[\u001b[0m\u001b[0;36m1\u001b[0m\u001b[0;34m]\u001b[0m\u001b[0;34m)\u001b[0m\u001b[0;31m \u001b[0m\u001b[0;31m\\\u001b[0m\u001b[0;34m\u001b[0m\u001b[0;34m\u001b[0m\u001b[0m\n\u001b[1;32m    816\u001b[0m                 \u001b[0;34m.\u001b[0m\u001b[0mscale\u001b[0m\u001b[0;34m(\u001b[0m\u001b[0;36m1\u001b[0m\u001b[0;34m,\u001b[0m \u001b[0mself\u001b[0m\u001b[0;34m.\u001b[0m\u001b[0m_aspect_ratio_correction\u001b[0m\u001b[0;34m)\u001b[0m\u001b[0;31m \u001b[0m\u001b[0;31m\\\u001b[0m\u001b[0;34m\u001b[0m\u001b[0;34m\u001b[0m\u001b[0m\n\u001b[0;32m--> 817\u001b[0;31m                 \u001b[0;34m.\u001b[0m\u001b[0mrotate_deg\u001b[0m\u001b[0;34m(\u001b[0m\u001b[0mself\u001b[0m\u001b[0;34m.\u001b[0m\u001b[0mangle\u001b[0m\u001b[0;34m)\u001b[0m\u001b[0;31m \u001b[0m\u001b[0;31m\\\u001b[0m\u001b[0;34m\u001b[0m\u001b[0;34m\u001b[0m\u001b[0m\n\u001b[0m\u001b[1;32m    818\u001b[0m                 \u001b[0;34m.\u001b[0m\u001b[0mscale\u001b[0m\u001b[0;34m(\u001b[0m\u001b[0;36m1\u001b[0m\u001b[0;34m,\u001b[0m \u001b[0;36m1\u001b[0m \u001b[0;34m/\u001b[0m \u001b[0mself\u001b[0m\u001b[0;34m.\u001b[0m\u001b[0m_aspect_ratio_correction\u001b[0m\u001b[0;34m)\u001b[0m\u001b[0;31m \u001b[0m\u001b[0;31m\\\u001b[0m\u001b[0;34m\u001b[0m\u001b[0;34m\u001b[0m\u001b[0m\n\u001b[1;32m    819\u001b[0m                 \u001b[0;34m.\u001b[0m\u001b[0mtranslate\u001b[0m\u001b[0;34m(\u001b[0m\u001b[0;34m*\u001b[0m\u001b[0mrotation_point\u001b[0m\u001b[0;34m)\u001b[0m\u001b[0;34m\u001b[0m\u001b[0;34m\u001b[0m\u001b[0m\n",
            "\u001b[0;32m/usr/local/lib/python3.11/dist-packages/matplotlib/transforms.py\u001b[0m in \u001b[0;36mrotate_deg\u001b[0;34m(self, degrees)\u001b[0m\n\u001b[1;32m   2001\u001b[0m         \u001b[0;32mand\u001b[0m \u001b[0;34m:\u001b[0m\u001b[0mmeth\u001b[0m\u001b[0;34m:\u001b[0m\u001b[0;31m`\u001b[0m\u001b[0mscale\u001b[0m\u001b[0;31m`\u001b[0m\u001b[0;34m.\u001b[0m\u001b[0;34m\u001b[0m\u001b[0;34m\u001b[0m\u001b[0m\n\u001b[1;32m   2002\u001b[0m         \"\"\"\n\u001b[0;32m-> 2003\u001b[0;31m         \u001b[0;32mreturn\u001b[0m \u001b[0mself\u001b[0m\u001b[0;34m.\u001b[0m\u001b[0mrotate\u001b[0m\u001b[0;34m(\u001b[0m\u001b[0mmath\u001b[0m\u001b[0;34m.\u001b[0m\u001b[0mradians\u001b[0m\u001b[0;34m(\u001b[0m\u001b[0mdegrees\u001b[0m\u001b[0;34m)\u001b[0m\u001b[0;34m)\u001b[0m\u001b[0;34m\u001b[0m\u001b[0;34m\u001b[0m\u001b[0m\n\u001b[0m\u001b[1;32m   2004\u001b[0m \u001b[0;34m\u001b[0m\u001b[0m\n\u001b[1;32m   2005\u001b[0m     \u001b[0;32mdef\u001b[0m \u001b[0mrotate_around\u001b[0m\u001b[0;34m(\u001b[0m\u001b[0mself\u001b[0m\u001b[0;34m,\u001b[0m \u001b[0mx\u001b[0m\u001b[0;34m,\u001b[0m \u001b[0my\u001b[0m\u001b[0;34m,\u001b[0m \u001b[0mtheta\u001b[0m\u001b[0;34m)\u001b[0m\u001b[0;34m:\u001b[0m\u001b[0;34m\u001b[0m\u001b[0;34m\u001b[0m\u001b[0m\n",
            "\u001b[0;32m/usr/local/lib/python3.11/dist-packages/matplotlib/transforms.py\u001b[0m in \u001b[0;36mrotate\u001b[0;34m(self, theta)\u001b[0m\n\u001b[1;32m   1982\u001b[0m         \u001b[0mmtx\u001b[0m \u001b[0;34m=\u001b[0m \u001b[0mself\u001b[0m\u001b[0;34m.\u001b[0m\u001b[0m_mtx\u001b[0m\u001b[0;34m\u001b[0m\u001b[0;34m\u001b[0m\u001b[0m\n\u001b[1;32m   1983\u001b[0m         \u001b[0;31m# Operating and assigning one scalar at a time is much faster.\u001b[0m\u001b[0;34m\u001b[0m\u001b[0;34m\u001b[0m\u001b[0m\n\u001b[0;32m-> 1984\u001b[0;31m         \u001b[0;34m(\u001b[0m\u001b[0mxx\u001b[0m\u001b[0;34m,\u001b[0m \u001b[0mxy\u001b[0m\u001b[0;34m,\u001b[0m \u001b[0mx0\u001b[0m\u001b[0;34m)\u001b[0m\u001b[0;34m,\u001b[0m \u001b[0;34m(\u001b[0m\u001b[0myx\u001b[0m\u001b[0;34m,\u001b[0m \u001b[0myy\u001b[0m\u001b[0;34m,\u001b[0m \u001b[0my0\u001b[0m\u001b[0;34m)\u001b[0m\u001b[0;34m,\u001b[0m \u001b[0m_\u001b[0m \u001b[0;34m=\u001b[0m \u001b[0mmtx\u001b[0m\u001b[0;34m.\u001b[0m\u001b[0mtolist\u001b[0m\u001b[0;34m(\u001b[0m\u001b[0;34m)\u001b[0m\u001b[0;34m\u001b[0m\u001b[0;34m\u001b[0m\u001b[0m\n\u001b[0m\u001b[1;32m   1985\u001b[0m         \u001b[0;31m# mtx = [[a -b 0], [b a 0], [0 0 1]] * mtx\u001b[0m\u001b[0;34m\u001b[0m\u001b[0;34m\u001b[0m\u001b[0m\n\u001b[1;32m   1986\u001b[0m         \u001b[0mmtx\u001b[0m\u001b[0;34m[\u001b[0m\u001b[0;36m0\u001b[0m\u001b[0;34m,\u001b[0m \u001b[0;36m0\u001b[0m\u001b[0;34m]\u001b[0m \u001b[0;34m=\u001b[0m \u001b[0ma\u001b[0m \u001b[0;34m*\u001b[0m \u001b[0mxx\u001b[0m \u001b[0;34m-\u001b[0m \u001b[0mb\u001b[0m \u001b[0;34m*\u001b[0m \u001b[0myx\u001b[0m\u001b[0;34m\u001b[0m\u001b[0;34m\u001b[0m\u001b[0m\n",
            "\u001b[0;31mKeyboardInterrupt\u001b[0m: "
          ]
        }
      ]
    },
    {
      "cell_type": "markdown",
      "source": [
        "## Time Feature and Transformation\n",
        " Should probably move this so time is part of the transformation pipeline. For now though looking at this to get an understanding of time.\n",
        "\n"
      ],
      "metadata": {
        "id": "AapHoaigXM01"
      }
    },
    {
      "cell_type": "code",
      "source": [
        "from pyspark.sql.functions import year, month, dayofmonth, hour, minute, second, dayofweek, weekofyear\n",
        "\n",
        "df = df.withColumn(\"year\", year(df[\"Timestamp\"])) \\\n",
        "       .withColumn(\"month\", month(df[\"Timestamp\"])) \\\n",
        "       .withColumn(\"day\", dayofmonth(df[\"Timestamp\"])) \\\n",
        "       .withColumn(\"hour\", hour(df[\"Timestamp\"])) \\\n",
        "       .withColumn(\"minute\", minute(df[\"Timestamp\"])) \\\n",
        "       .withColumn(\"second\", second(df[\"Timestamp\"])) \\\n",
        "       .withColumn(\"day_of_week\", dayofweek(df[\"Timestamp\"])) \\\n",
        "       .withColumn(\"week_of_year\", weekofyear(df[\"Timestamp\"]))\n",
        "df.show(5)"
      ],
      "metadata": {
        "id": "viQHY9S-XMbx",
        "colab": {
          "base_uri": "https://localhost:8080/"
        },
        "outputId": "8526fa82-2002-464e-ec57-f01a342bf8b7"
      },
      "execution_count": null,
      "outputs": [
        {
          "output_type": "stream",
          "name": "stdout",
          "text": [
            "+-------------+-----+----------+-------+-------------------+----------+----------+-----------------+---------------+--------------+-------------+--------------+----------+------------+--------+------+---------+------+----------+----------+---------------+-----------+----------+----------------+--------------+-----------+-----------------+-----------------+-------------+---------------+------------------+------------+--------+----------+--------------+------------+-----+--------+---------+-----------------+--------------+-----------+-----------+-----+-----+----+-----+---+----+------+------+-----------+------------+\n",
            "|           Id|OrgId|IncidentId|AlertId|          Timestamp|DetectorId|AlertTitle|         Category|MitreTechniques| IncidentGrade|ActionGrouped|ActionGranular|EntityType|EvidenceRole|DeviceId|Sha256|IpAddress|   Url|AccountSid|AccountUpn|AccountObjectId|AccountName|DeviceName|NetworkMessageId|EmailClusterId|RegistryKey|RegistryValueName|RegistryValueData|ApplicationId|ApplicationName|OAuthApplicationId|ThreatFamily|FileName|FolderPath|ResourceIdName|ResourceType|Roles|OSFamily|OSVersion|AntispamDirection|SuspicionLevel|LastVerdict|CountryCode|State| City|year|month|day|hour|minute|second|day_of_week|week_of_year|\n",
            "+-------------+-----+----------+-------+-------------------+----------+----------+-----------------+---------------+--------------+-------------+--------------+----------+------------+--------+------+---------+------+----------+----------+---------------+-----------+----------+----------------+--------------+-----------+-----------------+-----------------+-------------+---------------+------------------+------------+--------+----------+--------------+------------+-----+--------+---------+-----------------+--------------+-----------+-----------+-----+-----+----+-----+---+----+------+------+-----------+------------+\n",
            "| 180388628218|    0|       612| 123247|2024-06-04 06:05:15|         7|         6|    InitialAccess|           NULL|  TruePositive|         NULL|          NULL|        Ip|     Related|   98799|138268|       27|160396|    441377|    673934|         425863|     453297|    153085|          529644|          NULL|       1631|              635|              860|         2251|           3421|               881|        NULL|  289573|    117668|          3586|        NULL| NULL|       5|       66|             NULL|          NULL|       NULL|         31|    6|    3|2024|    6|  4|   6|     5|    15|          3|          23|\n",
            "| 455266534868|   88|       326| 210035|2024-06-14 03:01:25|        58|        43|     Exfiltration|           NULL| FalsePositive|         NULL|          NULL|      User|    Impacted|   98799|138268|   360606|160396|     22406|     23032|          22795|      24887|    153085|          529644|          NULL|       1631|              635|              860|         2251|           3421|               881|        NULL|  289573|    117668|          3586|        NULL| NULL|       5|       66|             NULL|          NULL|       NULL|        242| 1445|10630|2024|    6| 14|   3|     1|    25|          6|          24|\n",
            "|1056561957389|  809|     58352| 712507|2024-06-13 04:52:55|       423|       298|    InitialAccess|          T1189| FalsePositive|         NULL|          NULL|       Url|     Related|   98799|138268|   360606| 68652|    441377|    673934|         425863|     453297|    153085|          529644|          NULL|       1631|              635|              860|         2251|           3421|               881|        NULL|  289573|    117668|          3586|        NULL| NULL|       5|       66|             NULL|    Suspicious| Suspicious|        242| 1445|10630|2024|    6| 13|   4|    52|    55|          5|          24|\n",
            "|1279900258736|   92|     32992| 774301|2024-06-10 16:39:36|         2|         2|CommandAndControl|           NULL|BenignPositive|         NULL|          NULL|       Url|     Related|   98799|138268|   360606|    13|    441377|    673934|         425863|     453297|    153085|          529644|          NULL|       1631|              635|              860|         2251|           3421|               881|        NULL|  289573|    117668|          3586|        NULL| NULL|       5|       66|             NULL|    Suspicious| Suspicious|        242| 1445|10630|2024|    6| 10|  16|    39|    36|          2|          24|\n",
            "| 214748368522|  148|      4359| 188041|2024-06-15 01:08:07|         9|        74|        Execution|           NULL|  TruePositive|         NULL|          NULL|      User|    Impacted|   98799|138268|   360606|160396|       449|       592|            440|        479|    153085|          529644|          NULL|       1631|              635|              860|         2251|           3421|               881|        NULL|  289573|    117668|          3586|        NULL| NULL|       5|       66|             NULL|          NULL|       NULL|        242| 1445|10630|2024|    6| 15|   1|     8|     7|          7|          24|\n",
            "+-------------+-----+----------+-------+-------------------+----------+----------+-----------------+---------------+--------------+-------------+--------------+----------+------------+--------+------+---------+------+----------+----------+---------------+-----------+----------+----------------+--------------+-----------+-----------------+-----------------+-------------+---------------+------------------+------------+--------+----------+--------------+------------+-----+--------+---------+-----------------+--------------+-----------+-----------+-----+-----+----+-----+---+----+------+------+-----------+------------+\n",
            "only showing top 5 rows\n",
            "\n"
          ]
        }
      ]
    },
    {
      "cell_type": "code",
      "source": [
        "df.groupBy('year').count().orderBy('count', ascending=False).show()"
      ],
      "metadata": {
        "colab": {
          "base_uri": "https://localhost:8080/"
        },
        "id": "1bf9bLiAPHbG",
        "outputId": "b1d906b2-991e-4f9d-9f22-3a2101f225b3"
      },
      "execution_count": null,
      "outputs": [
        {
          "output_type": "stream",
          "name": "stdout",
          "text": [
            "+----+-------+\n",
            "|year|  count|\n",
            "+----+-------+\n",
            "|2024|9516658|\n",
            "|2023|    179|\n",
            "+----+-------+\n",
            "\n"
          ]
        }
      ]
    },
    {
      "cell_type": "code",
      "source": [
        "df.groupBy('month').count().orderBy('count', ascending=False).show()"
      ],
      "metadata": {
        "colab": {
          "base_uri": "https://localhost:8080/"
        },
        "id": "VF8bysbVPM6O",
        "outputId": "629484a3-8d20-433b-9af8-c7c6944cfba1"
      },
      "execution_count": null,
      "outputs": [
        {
          "output_type": "stream",
          "name": "stdout",
          "text": [
            "+-----+-------+\n",
            "|month|  count|\n",
            "+-----+-------+\n",
            "|    6|8662447|\n",
            "|    5| 853082|\n",
            "|    1|    310|\n",
            "|    2|    297|\n",
            "|    4|    287|\n",
            "|    3|    235|\n",
            "|   12|    168|\n",
            "|   11|     11|\n",
            "+-----+-------+\n",
            "\n"
          ]
        }
      ]
    },
    {
      "cell_type": "markdown",
      "source": [
        "We see a very heavy bias towards 2024 and June. I'll still be using these time features as having them tends to be better for data but still its something to be aware of how biased it appears in smapling."
      ],
      "metadata": {
        "id": "itR7873SWZgK"
      }
    },
    {
      "cell_type": "code",
      "source": [],
      "metadata": {
        "id": "QPoiIWSyPNlS"
      },
      "execution_count": null,
      "outputs": []
    },
    {
      "cell_type": "markdown",
      "source": [
        "## Mitre Techniques Analysis\n",
        "\n",
        "While we will be removing this column due to the volume of missing values, inspecting it is likely to pay dividends in understanding the nature of the most common attacks in the dataset."
      ],
      "metadata": {
        "id": "lOquZS4oeujg"
      }
    },
    {
      "cell_type": "code",
      "source": [
        "mitre_count = df.groupBy('MitreTechniques').count().orderBy('count', ascending=False).show()"
      ],
      "metadata": {
        "colab": {
          "base_uri": "https://localhost:8080/"
        },
        "id": "m6KY1kJ8e-Gr",
        "outputId": "063770bb-7f78-4e3b-965e-826f9331c783"
      },
      "execution_count": 5,
      "outputs": [
        {
          "output_type": "stream",
          "name": "stdout",
          "text": [
            "+--------------------+-------+\n",
            "|     MitreTechniques|  count|\n",
            "+--------------------+-------+\n",
            "|                NULL|5468386|\n",
            "|     T1078;T1078.004|1354904|\n",
            "|           T1566.002| 814308|\n",
            "|               T1566| 659591|\n",
            "|               T1133| 145579|\n",
            "|           T1566.001| 136892|\n",
            "|T1110;T1110.003;T...|  88661|\n",
            "|     T1087;T1087.002|  54564|\n",
            "|               T1110|  41768|\n",
            "|         T1078;T1098|  40342|\n",
            "|T1559;T1106;T1059...|  37869|\n",
            "|   T1046;T1071;T1210|  34229|\n",
            "|         T1568;T1008|  33335|\n",
            "|         T1110;T1078|  31570|\n",
            "|         T1190;T1133|  31379|\n",
            "|T1046;T1030;T1071...|  28769|\n",
            "|               T1078|  27371|\n",
            "|T1003;T1012;T1552...|  22170|\n",
            "|               T1190|  20214|\n",
            "|         T1071;T1048|  19526|\n",
            "+--------------------+-------+\n",
            "only showing top 20 rows\n",
            "\n"
          ]
        }
      ]
    },
    {
      "cell_type": "code",
      "source": [
        "mitre_count_nonull = df.filter(df.MitreTechniques.isNotNull()).groupBy('MitreTechniques').count().orderBy('count', ascending=False).show()"
      ],
      "metadata": {
        "colab": {
          "base_uri": "https://localhost:8080/"
        },
        "id": "Tb4E7DESfM2K",
        "outputId": "10b0c76a-dc4a-4841-818b-ee8601057501"
      },
      "execution_count": 8,
      "outputs": [
        {
          "metadata": {
            "tags": null
          },
          "name": "stdout",
          "output_type": "stream",
          "text": [
            "+--------------------+-------+\n",
            "|     MitreTechniques|  count|\n",
            "+--------------------+-------+\n",
            "|     T1078;T1078.004|1354904|\n",
            "|           T1566.002| 814308|\n",
            "|               T1566| 659591|\n",
            "|               T1133| 145579|\n",
            "|           T1566.001| 136892|\n",
            "|T1110;T1110.003;T...|  88661|\n",
            "|     T1087;T1087.002|  54564|\n",
            "|               T1110|  41768|\n",
            "|         T1078;T1098|  40342|\n",
            "|T1559;T1106;T1059...|  37869|\n",
            "|   T1046;T1071;T1210|  34229|\n",
            "|         T1568;T1008|  33335|\n",
            "|         T1110;T1078|  31570|\n",
            "|         T1190;T1133|  31379|\n",
            "|T1046;T1030;T1071...|  28769|\n",
            "|               T1078|  27371|\n",
            "|T1003;T1012;T1552...|  22170|\n",
            "|               T1190|  20214|\n",
            "|         T1071;T1048|  19526|\n",
            "|T1110;T1110.001;T...|  17457|\n",
            "+--------------------+-------+\n",
            "only showing top 20 rows\n",
            "\n"
          ]
        }
      ]
    },
    {
      "cell_type": "code",
      "source": [
        "from pyspark.sql.functions import col, count\n",
        "\n",
        "top_attacks = (\n",
        "    df.filter(df.MitreTechniques.isNotNull())\n",
        "    .groupBy(\"MitreTechniques\")\n",
        "    .agg(count(\"*\").alias(\"count\"))\n",
        "    .orderBy(col(\"count\").desc())\n",
        "    .limit(10)\n",
        ")\n",
        "\n",
        "df_filtered = df.join(top_attacks, on=\"MitreTechniques\", how=\"inner\")\n",
        "df_filtered.stat.crosstab(\"MitreTechniques\", \"IncidentGrade\").show(truncate=False)"
      ],
      "metadata": {
        "colab": {
          "base_uri": "https://localhost:8080/"
        },
        "id": "HKBUzqd8-PkK",
        "outputId": "0976e9a7-a284-4a4f-c848-7ccaadf4c389"
      },
      "execution_count": 28,
      "outputs": [
        {
          "output_type": "stream",
          "name": "stdout",
          "text": [
            "+-----------------------------+--------------+-------------+------------+----+\n",
            "|MitreTechniques_IncidentGrade|BenignPositive|FalsePositive|TruePositive|null|\n",
            "+-----------------------------+--------------+-------------+------------+----+\n",
            "|T1078;T1078.004              |35897         |308347       |1009935     |725 |\n",
            "|T1087;T1087.002              |23935         |21831        |8782        |16  |\n",
            "|T1566                        |346566        |167763       |141964      |3298|\n",
            "|T1110;T1110.003;T1110.001    |1549          |3102         |84002       |8   |\n",
            "|T1133                        |19124         |126455       |0           |0   |\n",
            "|T1559;T1106;T1059.005        |37869         |0            |0           |0   |\n",
            "|T1566.001                    |90698         |7398         |38792       |4   |\n",
            "|T1566.002                    |391993        |128955       |292731      |629 |\n",
            "|T1078;T1098                  |35268         |3721         |1341        |12  |\n",
            "|T1110                        |24047         |7081         |10604       |36  |\n",
            "+-----------------------------+--------------+-------------+------------+----+\n",
            "\n"
          ]
        }
      ]
    },
    {
      "cell_type": "markdown",
      "source": [
        "# Machine Learning Component Staging\n",
        "\n",
        "I still want to try doing this in Google Cloud, but I want to at least stage the inputs I will be using."
      ],
      "metadata": {
        "id": "qPOdrZLRbRZG"
      }
    },
    {
      "cell_type": "code",
      "source": [
        "\"\"\"\n",
        "Steps\n",
        "-----\n",
        "read in csv's (Train and Test)\n",
        "\n",
        "drop appropriate columns\n",
        "\n",
        "drop nulls in target\n",
        "\n",
        "Pipeline with:\n",
        "transforms\n",
        "- time (see above)\n",
        "- categoricals\n",
        "- numericals\n",
        "No scaling needed due to model selection\n",
        "\n",
        "Create ml models\n",
        "-Naive Bayes\n",
        "-Gradient Boosted Tree Classifier\n",
        "\n",
        "run ml models\n",
        "\n",
        "evaluate models\n",
        "-F1\n",
        "-Precision\n",
        "-Recall\n",
        "-Macro F1\n",
        "-confusion matrix\n",
        "-ROC?\n",
        "-AUC?\n",
        "\"\"\""
      ],
      "metadata": {
        "id": "T3lYwuK9cCo0"
      },
      "execution_count": null,
      "outputs": []
    },
    {
      "cell_type": "code",
      "source": [
        "df_train = df.drop('MitreTechniques', 'ActionGrouped', 'ActionGranular', 'EmailClusterId', 'ThreatFamily', 'ResourceType', 'Roles', 'AntispamDirection', 'SuspicionLevel', 'LastVerdict').dropna(subset=['IncidentGrade'])\n",
        "df_test.drop('MitreTechniques', 'ActionGrouped', 'ActionGranular', 'EmailClusterId', 'ThreatFamily', 'ResourceType', 'Roles', 'AntispamDirection', 'SuspicionLevel', 'LastVerdict', 'Usage')\n"
      ],
      "metadata": {
        "id": "bFTjMXIbYoWJ"
      },
      "execution_count": null,
      "outputs": []
    },
    {
      "cell_type": "code",
      "source": [
        "df_drop = df.drop('MitreTechniques', 'ActionGrouped', 'ActionGranular', 'EmailClusterId', 'ThreatFamily', 'ResourceType', 'Roles', 'AntispamDirection', 'SuspicionLevel', 'LastVerdict').dropna(subset=['IncidentGrade'])\n",
        "df_drop.printSchema()"
      ],
      "metadata": {
        "colab": {
          "base_uri": "https://localhost:8080/"
        },
        "id": "MwpNHo6dcn4L",
        "outputId": "ba6541e8-1594-42cf-d479-3e2a19a03599"
      },
      "execution_count": null,
      "outputs": [
        {
          "output_type": "stream",
          "name": "stdout",
          "text": [
            "root\n",
            " |-- Id: long (nullable = true)\n",
            " |-- OrgId: integer (nullable = true)\n",
            " |-- IncidentId: integer (nullable = true)\n",
            " |-- AlertId: integer (nullable = true)\n",
            " |-- Timestamp: timestamp (nullable = true)\n",
            " |-- DetectorId: integer (nullable = true)\n",
            " |-- AlertTitle: integer (nullable = true)\n",
            " |-- Category: string (nullable = true)\n",
            " |-- IncidentGrade: string (nullable = true)\n",
            " |-- EntityType: string (nullable = true)\n",
            " |-- EvidenceRole: string (nullable = true)\n",
            " |-- DeviceId: integer (nullable = true)\n",
            " |-- Sha256: integer (nullable = true)\n",
            " |-- IpAddress: integer (nullable = true)\n",
            " |-- Url: integer (nullable = true)\n",
            " |-- AccountSid: integer (nullable = true)\n",
            " |-- AccountUpn: integer (nullable = true)\n",
            " |-- AccountObjectId: integer (nullable = true)\n",
            " |-- AccountName: integer (nullable = true)\n",
            " |-- DeviceName: integer (nullable = true)\n",
            " |-- NetworkMessageId: integer (nullable = true)\n",
            " |-- RegistryKey: integer (nullable = true)\n",
            " |-- RegistryValueName: integer (nullable = true)\n",
            " |-- RegistryValueData: integer (nullable = true)\n",
            " |-- ApplicationId: integer (nullable = true)\n",
            " |-- ApplicationName: integer (nullable = true)\n",
            " |-- OAuthApplicationId: integer (nullable = true)\n",
            " |-- FileName: integer (nullable = true)\n",
            " |-- FolderPath: integer (nullable = true)\n",
            " |-- ResourceIdName: integer (nullable = true)\n",
            " |-- OSFamily: integer (nullable = true)\n",
            " |-- OSVersion: integer (nullable = true)\n",
            " |-- CountryCode: integer (nullable = true)\n",
            " |-- State: integer (nullable = true)\n",
            " |-- City: integer (nullable = true)\n",
            " |-- year: integer (nullable = true)\n",
            " |-- month: integer (nullable = true)\n",
            " |-- day: integer (nullable = true)\n",
            " |-- hour: integer (nullable = true)\n",
            " |-- minute: integer (nullable = true)\n",
            " |-- second: integer (nullable = true)\n",
            " |-- day_of_week: integer (nullable = true)\n",
            " |-- week_of_year: integer (nullable = true)\n",
            "\n"
          ]
        }
      ]
    },
    {
      "cell_type": "code",
      "source": [
        "print('Data Shape: ', (df_drop.count(), len(df_drop.columns)))"
      ],
      "metadata": {
        "colab": {
          "base_uri": "https://localhost:8080/"
        },
        "id": "aoLSHjjOhaLE",
        "outputId": "a244f349-29b5-48a4-ab20-1cb5dc67ef2e"
      },
      "execution_count": null,
      "outputs": [
        {
          "output_type": "stream",
          "name": "stdout",
          "text": [
            "Data Shape:  (9465497, 43)\n"
          ]
        }
      ]
    },
    {
      "cell_type": "code",
      "source": [
        "df_drop.columns"
      ],
      "metadata": {
        "colab": {
          "base_uri": "https://localhost:8080/"
        },
        "id": "uyRJpKBls3va",
        "outputId": "f2fbd20f-c854-4f4d-bf39-2949f76f21ab"
      },
      "execution_count": null,
      "outputs": [
        {
          "output_type": "execute_result",
          "data": {
            "text/plain": [
              "['Id',\n",
              " 'OrgId',\n",
              " 'IncidentId',\n",
              " 'AlertId',\n",
              " 'Timestamp',\n",
              " 'DetectorId',\n",
              " 'AlertTitle',\n",
              " 'Category',\n",
              " 'IncidentGrade',\n",
              " 'EntityType',\n",
              " 'EvidenceRole',\n",
              " 'DeviceId',\n",
              " 'Sha256',\n",
              " 'IpAddress',\n",
              " 'Url',\n",
              " 'AccountSid',\n",
              " 'AccountUpn',\n",
              " 'AccountObjectId',\n",
              " 'AccountName',\n",
              " 'DeviceName',\n",
              " 'NetworkMessageId',\n",
              " 'RegistryKey',\n",
              " 'RegistryValueName',\n",
              " 'RegistryValueData',\n",
              " 'ApplicationId',\n",
              " 'ApplicationName',\n",
              " 'OAuthApplicationId',\n",
              " 'FileName',\n",
              " 'FolderPath',\n",
              " 'ResourceIdName',\n",
              " 'OSFamily',\n",
              " 'OSVersion',\n",
              " 'CountryCode',\n",
              " 'State',\n",
              " 'City',\n",
              " 'year',\n",
              " 'month',\n",
              " 'day',\n",
              " 'hour',\n",
              " 'minute',\n",
              " 'second',\n",
              " 'day_of_week',\n",
              " 'week_of_year']"
            ]
          },
          "metadata": {},
          "execution_count": 18
        }
      ]
    },
    {
      "cell_type": "markdown",
      "source": [
        "## Naive Bayes Pipeline and Model"
      ],
      "metadata": {
        "id": "Q19IbjJVcLzg"
      }
    },
    {
      "cell_type": "code",
      "source": [
        "from pyspark.ml import Transformer, Pipeline\n",
        "from pyspark.ml.feature import StringIndexer, OneHotEncoder, VectorAssembler\n",
        "from pyspark.sql.functions import year, month, dayofmonth, hour, minute, second, dayofweek, weekofyear\n",
        "from pyspark.sql import DataFrame\n",
        "from pyspark.ml.evaluation import MulticlassClassificationEvaluator\n",
        "from pyspark.ml.classification import NaiveBayes"
      ],
      "metadata": {
        "id": "zgr8wxGnvgQd"
      },
      "execution_count": null,
      "outputs": []
    },
    {
      "cell_type": "code",
      "source": [
        "class TimestampFeatureTransformer(Transformer):\n",
        "    def __init__(self):\n",
        "        super(TimestampFeatureTransformer, self).__init__()\n",
        "\n",
        "    def _transform(self, df: DataFrame) -> DataFrame:\n",
        "        return df.withColumn(\"year\", year(df[\"timestamp_col\"])) \\\n",
        "                 .withColumn(\"month\", month(df[\"timestamp_col\"])) \\\n",
        "                 .withColumn(\"day\", dayofmonth(df[\"timestamp_col\"])) \\\n",
        "                 .withColumn(\"hour\", hour(df[\"timestamp_col\"])) \\\n",
        "                 .withColumn(\"minute\", minute(df[\"timestamp_col\"])) \\\n",
        "                 .withColumn(\"second\", second(df[\"timestamp_col\"])) \\\n",
        "                 .withColumn(\"day_of_week\", dayofweek(df[\"timestamp_col\"])) \\\n",
        "                 .withColumn(\"week_of_year\", weekofyear(df[\"timestamp_col\"]))\n",
        "\n",
        "# Instantiate the transformer\n",
        "timestamp_transformer = TimestampFeatureTransformer()"
      ],
      "metadata": {
        "id": "yNyw-BKKvcOg"
      },
      "execution_count": null,
      "outputs": []
    },
    {
      "cell_type": "code",
      "source": [
        "pipe_stages = [StringIndexer(inputCol=c, output=c+'_index') for c in ['Category', 'EntityType', 'EvidenceRole']]\n",
        "pipe_stages.append(StringIndexer(inputCol='IncidentGrade', output='target'))\n",
        "# ohe stuff here\n",
        "pipe_stages.append(OneHotEncoder(inputCols=[c+'_index' for c in ['Category', 'EntityType', 'EvidenceRole']], outputCols=[c+'_ohe' for c in ['Category', 'EntityType', 'EvidenceRole']]))\n",
        "\n",
        "feature_cols = ['Id', 'OrgId', 'IncidentId', 'AlertId', 'DetectorId',\n",
        "                'AlertTitle', 'Category_ohe', 'EntityType_ohe', 'EvidenceRole_ohe',\n",
        "                'DeviceId', 'Sha256', 'IpAddress', 'Url', 'AccountSid', 'AccountUpn',\n",
        "                'AccountObjectId', 'AccountName', 'DeviceName', 'NetworkMessageId',\n",
        "                'RegistryKey', 'RegistryValueName', 'RegistryValueData', 'ApplicationId',\n",
        "                'ApplicationName', 'OAuthApplicationId', 'FileName', 'FolderPath',\n",
        "                'ResourceIdName', 'OSFamily', 'OSVersion', 'CountryCode', 'State',\n",
        "                'City', 'year', 'month', 'day', 'hour', 'minute', 'second',\n",
        "                'day_of_week', 'week_of_year']\n",
        "\n",
        "assembler = VectorAssembler(inputCols=feature_cols, outputCol='features')\n",
        "pipe_stages.append(assembler)\n",
        "\n",
        "pipeline = Pipeline(stages=[timestamp_transformer, pipe_stages])\n",
        "\n",
        "df_train_transformed = pipeline.fit(df_train).transform(df_train)\n",
        "df_test_transformed = pipeline.fit(df_test).transform(df_test)"
      ],
      "metadata": {
        "id": "TBqB7DZScKnA"
      },
      "execution_count": null,
      "outputs": []
    },
    {
      "cell_type": "code",
      "source": [
        "nb = NaiveBayes(featuresCol='features', labelCol='target')\n",
        "nb_model = nb.fit(df_train_transformed)\n",
        "\n",
        "train_prediction = nb_model.transform(df_train_transformed)\n",
        "test_prediction = nb_model.transform(df_test_transformed)"
      ],
      "metadata": {
        "id": "vheHHJRUws_m"
      },
      "execution_count": null,
      "outputs": []
    },
    {
      "cell_type": "markdown",
      "source": [
        "## Evaluations"
      ],
      "metadata": {
        "id": "pwk02Zg31_PQ"
      }
    },
    {
      "cell_type": "code",
      "source": [
        "# Evaluators\n",
        "evaluator_macrof1 = MulticlassClassificationEvaluator(labelCol=\"label\", predictionCol=\"prediction\", metricName=\"f1\")\n",
        "evaluator_f1 = MulticlassClassificationEvaluator(labelCol=\"label\", predictionCol=\"prediction\", metricName=\"fMeasureByLabel\")\n",
        "evaluator_precision = MulticlassClassificationEvaluator(labelCol=\"label\", predictionCol=\"prediction\", metricName=\"precisionByLabel\")\n",
        "evaluator_recall = MulticlassClassificationEvaluator(labelCol=\"label\", predictionCol=\"prediction\", metricName=\"recallByLabel\")"
      ],
      "metadata": {
        "id": "HyQhzUsT2nw_"
      },
      "execution_count": null,
      "outputs": []
    },
    {
      "cell_type": "markdown",
      "source": [
        "Train Set Evaluation"
      ],
      "metadata": {
        "id": "BMTmqpVP2LhH"
      }
    },
    {
      "cell_type": "code",
      "source": [
        "train_macrof1 = evaluator_macrof1.evaluate(train_prediction)\n",
        "train_f1 = evaluator_f1.evaluate(train_prediction)\n",
        "train_precision = evaluator_precision.evaluate(train_prediction)\n",
        "train_recall = evaluator_recall.evaluate(train_prediction)\n",
        "\n",
        "test_macrof1 = evaluator_macrof1.evaluate(test_prediction)\n",
        "test_f1 = evaluator_f1.evaluate(test_prediction)\n",
        "test_precision = evaluator_precision.evaluate(test_prediction)\n",
        "test_recall = evaluator_recall.evaluate(test_prediction)\n",
        "\n",
        "\n",
        "print(f\"Train Macro-F1: {train_macrof1}\")\n",
        "print(f\"Train F1 by Class: {train_f1}\")\n",
        "print(f\"Train Precision by Class: {train_precision}\")\n",
        "print(f\"Train Recall by Class: {train_recall}\")\n",
        "print()\n",
        "print(f\"Test Macro-F1: {test_macrof1}\")\n",
        "print(f\"Test F1 by Class: {test_f1}\")\n",
        "print(f\"Test Precision by Class: {test_precision}\")\n",
        "print(f\"Test Recall by Class: {test_recall}\")"
      ],
      "metadata": {
        "id": "okoTqzqx2L15"
      },
      "execution_count": null,
      "outputs": []
    },
    {
      "cell_type": "code",
      "source": [
        "# Confusion Matrix for Train Set\n",
        "train_crosstab = train_prediction.stat.crosstab(\"label\", \"prediction\")\n",
        "train_crosstab.show()"
      ],
      "metadata": {
        "id": "fWqwJw-W14tn"
      },
      "execution_count": null,
      "outputs": []
    },
    {
      "cell_type": "code",
      "source": [
        "# Confusion Matrix for Test Set\n",
        "test_crosstab = test_prediction.stat.crosstab(\"label\", \"prediction\")\n",
        "test_crosstab.show()"
      ],
      "metadata": {
        "id": "wd6LmIRv4HHK"
      },
      "execution_count": null,
      "outputs": []
    },
    {
      "cell_type": "markdown",
      "source": [
        "## Gradient Boosted Tree Classifier Pipeline and Model\n",
        "\n",
        "Need to insert hyperparam tuning"
      ],
      "metadata": {
        "id": "2L2wkP9P9ocV"
      }
    },
    {
      "cell_type": "code",
      "source": [
        "from pyspark.ml.classification import GBTClassifier\n",
        "\n",
        "gbtc = GBTClassifier(featuresCol='features', labelCol='target')\n",
        "gbtc_model = gbtc.fit(df_train_transformed)\n",
        "\n",
        "train_prediction = gbtc_model.transform(df_train_transformed)\n",
        "test_prediction = gbtc_model.transform(df_test_transformed"
      ],
      "metadata": {
        "id": "KHegKtea96qT"
      },
      "execution_count": null,
      "outputs": []
    },
    {
      "cell_type": "code",
      "source": [
        "train_macrof1 = evaluator_macrof1.evaluate(train_prediction)\n",
        "train_f1 = evaluator_f1.evaluate(train_prediction)\n",
        "train_precision = evaluator_precision.evaluate(train_prediction)\n",
        "train_recall = evaluator_recall.evaluate(train_prediction)\n",
        "\n",
        "test_macrof1 = evaluator_macrof1.evaluate(test_prediction)\n",
        "test_f1 = evaluator_f1.evaluate(test_prediction)\n",
        "test_precision = evaluator_precision.evaluate(test_prediction)\n",
        "test_recall = evaluator_recall.evaluate(test_prediction)\n",
        "\n",
        "\n",
        "print(f\"Train Macro-F1: {train_macrof1}\")\n",
        "print(f\"Train F1 by Class: {train_f1}\")\n",
        "print(f\"Train Precision by Class: {train_precision}\")\n",
        "print(f\"Train Recall by Class: {train_recall}\")\n",
        "print()\n",
        "print(f\"Test Macro-F1: {test_macrof1}\")\n",
        "print(f\"Test F1 by Class: {test_f1}\")\n",
        "print(f\"Test Precision by Class: {test_precision}\")\n",
        "print(f\"Test Recall by Class: {test_recall}\")"
      ],
      "metadata": {
        "id": "A-FGWuJmDvOR"
      },
      "execution_count": null,
      "outputs": []
    },
    {
      "cell_type": "markdown",
      "source": [],
      "metadata": {
        "id": "0dIlX0l-1h4s"
      }
    }
  ]
}